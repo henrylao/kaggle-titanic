{
 "cells": [
  {
   "cell_type": "markdown",
   "metadata": {},
   "source": [
    "# Library Imports + Basic Setup"
   ]
  },
  {
   "cell_type": "code",
   "execution_count": 1,
   "metadata": {},
   "outputs": [],
   "source": [
    "# std python utility\n",
    "from pathlib import Path\n",
    "from collections import Counter\n",
    "import os\n",
    "import re\n",
    "# ds utility\n",
    "import pandas\n",
    "import numpy as np\n",
    "import pandas as pd\n",
    "import seaborn as sns\n",
    "from matplotlib import pyplot as plt\n",
    "import sklearn\n",
    "# ds modelling\n",
    "# import sklearn\n",
    "\n",
    "import warnings\n",
    "warnings.filterwarnings(action=\"ignore\")\n",
    "pd.options.display.max_seq_items = 8000\n",
    "pd.options.display.max_rows = 8000\n",
    "pd.set_option('display.max_columns', None)"
   ]
  },
  {
   "cell_type": "code",
   "execution_count": 2,
   "metadata": {},
   "outputs": [
    {
     "data": {
      "text/plain": [
       "PosixPath('/home/hanz/github/kaggle-titanic')"
      ]
     },
     "metadata": {},
     "output_type": "display_data"
    },
    {
     "data": {
      "text/plain": [
       "PosixPath('/home/hanz/github/kaggle-titanic/input')"
      ]
     },
     "metadata": {},
     "output_type": "display_data"
    },
    {
     "data": {
      "text/plain": [
       "['train.csv', 'test.csv', 'gender_submission.csv']"
      ]
     },
     "execution_count": 2,
     "metadata": {},
     "output_type": "execute_result"
    }
   ],
   "source": [
    "# directory setup\n",
    "ROOT = Path(os.getcwd())\n",
    "DATA_DIR = ROOT / \"input\"\n",
    "PLOT_DIR = ROOT / \"plots\"\n",
    "\n",
    "display(ROOT, DATA_DIR)\n",
    "os.listdir(DATA_DIR)"
   ]
  },
  {
   "cell_type": "markdown",
   "metadata": {},
   "source": [
    "# Data Import and Overview"
   ]
  },
  {
   "cell_type": "code",
   "execution_count": 3,
   "metadata": {
    "scrolled": false
   },
   "outputs": [
    {
     "ename": "NameError",
     "evalue": "name 're' is not defined",
     "output_type": "error",
     "traceback": [
      "\u001b[0;31m---------------------------------------------------------------------------\u001b[0m",
      "\u001b[0;31mNameError\u001b[0m                                 Traceback (most recent call last)",
      "\u001b[0;32m<ipython-input-3-24135f9fe946>\u001b[0m in \u001b[0;36m<module>\u001b[0;34m\u001b[0m\n\u001b[1;32m      4\u001b[0m \u001b[0;31m# fix common lgbm error with not supporting JSON chars in feature name\u001b[0m\u001b[0;34m\u001b[0m\u001b[0;34m\u001b[0m\u001b[0;34m\u001b[0m\u001b[0m\n\u001b[1;32m      5\u001b[0m \u001b[0;31m# reference: https://stackoverflow.com/questions/60582050/lightgbmerror-do-not-support-special-json-characters-in-feature-name-the-same\u001b[0m\u001b[0;34m\u001b[0m\u001b[0;34m\u001b[0m\u001b[0;34m\u001b[0m\u001b[0m\n\u001b[0;32m----> 6\u001b[0;31m \u001b[0mtrain\u001b[0m \u001b[0;34m=\u001b[0m \u001b[0mtrain\u001b[0m\u001b[0;34m.\u001b[0m\u001b[0mrename\u001b[0m\u001b[0;34m(\u001b[0m\u001b[0mcolumns\u001b[0m \u001b[0;34m=\u001b[0m \u001b[0;32mlambda\u001b[0m \u001b[0mx\u001b[0m\u001b[0;34m:\u001b[0m\u001b[0mre\u001b[0m\u001b[0;34m.\u001b[0m\u001b[0msub\u001b[0m\u001b[0;34m(\u001b[0m\u001b[0;34m'[^A-Za-z0-9_]+'\u001b[0m\u001b[0;34m,\u001b[0m \u001b[0;34m''\u001b[0m\u001b[0;34m,\u001b[0m \u001b[0mx\u001b[0m\u001b[0;34m)\u001b[0m\u001b[0;34m)\u001b[0m\u001b[0;34m\u001b[0m\u001b[0;34m\u001b[0m\u001b[0m\n\u001b[0m\u001b[1;32m      7\u001b[0m \u001b[0mtest\u001b[0m \u001b[0;34m=\u001b[0m \u001b[0mtest\u001b[0m\u001b[0;34m.\u001b[0m\u001b[0mrename\u001b[0m\u001b[0;34m(\u001b[0m\u001b[0mcolumns\u001b[0m \u001b[0;34m=\u001b[0m \u001b[0;32mlambda\u001b[0m \u001b[0mx\u001b[0m\u001b[0;34m:\u001b[0m\u001b[0mre\u001b[0m\u001b[0;34m.\u001b[0m\u001b[0msub\u001b[0m\u001b[0;34m(\u001b[0m\u001b[0;34m'[^A-Za-z0-9_]+'\u001b[0m\u001b[0;34m,\u001b[0m \u001b[0;34m''\u001b[0m\u001b[0;34m,\u001b[0m \u001b[0mx\u001b[0m\u001b[0;34m)\u001b[0m\u001b[0;34m)\u001b[0m\u001b[0;34m\u001b[0m\u001b[0;34m\u001b[0m\u001b[0m\n\u001b[1;32m      8\u001b[0m \u001b[0;34m\u001b[0m\u001b[0m\n",
      "\u001b[0;32m~/anaconda3/lib/python3.8/site-packages/pandas/util/_decorators.py\u001b[0m in \u001b[0;36mwrapper\u001b[0;34m(*args, **kwargs)\u001b[0m\n\u001b[1;32m    307\u001b[0m         \u001b[0;34m@\u001b[0m\u001b[0mwraps\u001b[0m\u001b[0;34m(\u001b[0m\u001b[0mfunc\u001b[0m\u001b[0;34m)\u001b[0m\u001b[0;34m\u001b[0m\u001b[0;34m\u001b[0m\u001b[0m\n\u001b[1;32m    308\u001b[0m         \u001b[0;32mdef\u001b[0m \u001b[0mwrapper\u001b[0m\u001b[0;34m(\u001b[0m\u001b[0;34m*\u001b[0m\u001b[0margs\u001b[0m\u001b[0;34m,\u001b[0m \u001b[0;34m**\u001b[0m\u001b[0mkwargs\u001b[0m\u001b[0;34m)\u001b[0m \u001b[0;34m->\u001b[0m \u001b[0mCallable\u001b[0m\u001b[0;34m[\u001b[0m\u001b[0;34m...\u001b[0m\u001b[0;34m,\u001b[0m \u001b[0mAny\u001b[0m\u001b[0;34m]\u001b[0m\u001b[0;34m:\u001b[0m\u001b[0;34m\u001b[0m\u001b[0;34m\u001b[0m\u001b[0m\n\u001b[0;32m--> 309\u001b[0;31m             \u001b[0;32mreturn\u001b[0m \u001b[0mfunc\u001b[0m\u001b[0;34m(\u001b[0m\u001b[0;34m*\u001b[0m\u001b[0margs\u001b[0m\u001b[0;34m,\u001b[0m \u001b[0;34m**\u001b[0m\u001b[0mkwargs\u001b[0m\u001b[0;34m)\u001b[0m\u001b[0;34m\u001b[0m\u001b[0;34m\u001b[0m\u001b[0m\n\u001b[0m\u001b[1;32m    310\u001b[0m \u001b[0;34m\u001b[0m\u001b[0m\n\u001b[1;32m    311\u001b[0m         \u001b[0mkind\u001b[0m \u001b[0;34m=\u001b[0m \u001b[0minspect\u001b[0m\u001b[0;34m.\u001b[0m\u001b[0mParameter\u001b[0m\u001b[0;34m.\u001b[0m\u001b[0mPOSITIONAL_OR_KEYWORD\u001b[0m\u001b[0;34m\u001b[0m\u001b[0;34m\u001b[0m\u001b[0m\n",
      "\u001b[0;32m~/anaconda3/lib/python3.8/site-packages/pandas/core/frame.py\u001b[0m in \u001b[0;36mrename\u001b[0;34m(self, mapper, index, columns, axis, copy, inplace, level, errors)\u001b[0m\n\u001b[1;32m   4294\u001b[0m         \u001b[0;36m4\u001b[0m  \u001b[0;36m3\u001b[0m  \u001b[0;36m6\u001b[0m\u001b[0;34m\u001b[0m\u001b[0;34m\u001b[0m\u001b[0m\n\u001b[1;32m   4295\u001b[0m         \"\"\"\n\u001b[0;32m-> 4296\u001b[0;31m         return super().rename(\n\u001b[0m\u001b[1;32m   4297\u001b[0m             \u001b[0mmapper\u001b[0m\u001b[0;34m=\u001b[0m\u001b[0mmapper\u001b[0m\u001b[0;34m,\u001b[0m\u001b[0;34m\u001b[0m\u001b[0;34m\u001b[0m\u001b[0m\n\u001b[1;32m   4298\u001b[0m             \u001b[0mindex\u001b[0m\u001b[0;34m=\u001b[0m\u001b[0mindex\u001b[0m\u001b[0;34m,\u001b[0m\u001b[0;34m\u001b[0m\u001b[0;34m\u001b[0m\u001b[0m\n",
      "\u001b[0;32m~/anaconda3/lib/python3.8/site-packages/pandas/core/generic.py\u001b[0m in \u001b[0;36mrename\u001b[0;34m(self, mapper, index, columns, axis, copy, inplace, level, errors)\u001b[0m\n\u001b[1;32m    945\u001b[0m                     \u001b[0;32mraise\u001b[0m \u001b[0mKeyError\u001b[0m\u001b[0;34m(\u001b[0m\u001b[0;34mf\"{missing_labels} not found in axis\"\u001b[0m\u001b[0;34m)\u001b[0m\u001b[0;34m\u001b[0m\u001b[0;34m\u001b[0m\u001b[0m\n\u001b[1;32m    946\u001b[0m \u001b[0;34m\u001b[0m\u001b[0m\n\u001b[0;32m--> 947\u001b[0;31m             \u001b[0mnew_index\u001b[0m \u001b[0;34m=\u001b[0m \u001b[0max\u001b[0m\u001b[0;34m.\u001b[0m\u001b[0m_transform_index\u001b[0m\u001b[0;34m(\u001b[0m\u001b[0mf\u001b[0m\u001b[0;34m,\u001b[0m \u001b[0mlevel\u001b[0m\u001b[0;34m)\u001b[0m\u001b[0;34m\u001b[0m\u001b[0;34m\u001b[0m\u001b[0m\n\u001b[0m\u001b[1;32m    948\u001b[0m             \u001b[0mresult\u001b[0m\u001b[0;34m.\u001b[0m\u001b[0mset_axis\u001b[0m\u001b[0;34m(\u001b[0m\u001b[0mnew_index\u001b[0m\u001b[0;34m,\u001b[0m \u001b[0maxis\u001b[0m\u001b[0;34m=\u001b[0m\u001b[0maxis_no\u001b[0m\u001b[0;34m,\u001b[0m \u001b[0minplace\u001b[0m\u001b[0;34m=\u001b[0m\u001b[0;32mTrue\u001b[0m\u001b[0;34m)\u001b[0m\u001b[0;34m\u001b[0m\u001b[0;34m\u001b[0m\u001b[0m\n\u001b[1;32m    949\u001b[0m             \u001b[0mresult\u001b[0m\u001b[0;34m.\u001b[0m\u001b[0m_clear_item_cache\u001b[0m\u001b[0;34m(\u001b[0m\u001b[0;34m)\u001b[0m\u001b[0;34m\u001b[0m\u001b[0;34m\u001b[0m\u001b[0m\n",
      "\u001b[0;32m~/anaconda3/lib/python3.8/site-packages/pandas/core/indexes/base.py\u001b[0m in \u001b[0;36m_transform_index\u001b[0;34m(self, func, level)\u001b[0m\n\u001b[1;32m   4831\u001b[0m             \u001b[0;32mreturn\u001b[0m \u001b[0mtype\u001b[0m\u001b[0;34m(\u001b[0m\u001b[0mself\u001b[0m\u001b[0;34m)\u001b[0m\u001b[0;34m.\u001b[0m\u001b[0mfrom_tuples\u001b[0m\u001b[0;34m(\u001b[0m\u001b[0mitems\u001b[0m\u001b[0;34m,\u001b[0m \u001b[0mnames\u001b[0m\u001b[0;34m=\u001b[0m\u001b[0mself\u001b[0m\u001b[0;34m.\u001b[0m\u001b[0mnames\u001b[0m\u001b[0;34m)\u001b[0m\u001b[0;34m\u001b[0m\u001b[0;34m\u001b[0m\u001b[0m\n\u001b[1;32m   4832\u001b[0m         \u001b[0;32melse\u001b[0m\u001b[0;34m:\u001b[0m\u001b[0;34m\u001b[0m\u001b[0;34m\u001b[0m\u001b[0m\n\u001b[0;32m-> 4833\u001b[0;31m             \u001b[0mitems\u001b[0m \u001b[0;34m=\u001b[0m \u001b[0;34m[\u001b[0m\u001b[0mfunc\u001b[0m\u001b[0;34m(\u001b[0m\u001b[0mx\u001b[0m\u001b[0;34m)\u001b[0m \u001b[0;32mfor\u001b[0m \u001b[0mx\u001b[0m \u001b[0;32min\u001b[0m \u001b[0mself\u001b[0m\u001b[0;34m]\u001b[0m\u001b[0;34m\u001b[0m\u001b[0;34m\u001b[0m\u001b[0m\n\u001b[0m\u001b[1;32m   4834\u001b[0m             \u001b[0;32mreturn\u001b[0m \u001b[0mIndex\u001b[0m\u001b[0;34m(\u001b[0m\u001b[0mitems\u001b[0m\u001b[0;34m,\u001b[0m \u001b[0mname\u001b[0m\u001b[0;34m=\u001b[0m\u001b[0mself\u001b[0m\u001b[0;34m.\u001b[0m\u001b[0mname\u001b[0m\u001b[0;34m,\u001b[0m \u001b[0mtupleize_cols\u001b[0m\u001b[0;34m=\u001b[0m\u001b[0;32mFalse\u001b[0m\u001b[0;34m)\u001b[0m\u001b[0;34m\u001b[0m\u001b[0;34m\u001b[0m\u001b[0m\n\u001b[1;32m   4835\u001b[0m \u001b[0;34m\u001b[0m\u001b[0m\n",
      "\u001b[0;32m~/anaconda3/lib/python3.8/site-packages/pandas/core/indexes/base.py\u001b[0m in \u001b[0;36m<listcomp>\u001b[0;34m(.0)\u001b[0m\n\u001b[1;32m   4831\u001b[0m             \u001b[0;32mreturn\u001b[0m \u001b[0mtype\u001b[0m\u001b[0;34m(\u001b[0m\u001b[0mself\u001b[0m\u001b[0;34m)\u001b[0m\u001b[0;34m.\u001b[0m\u001b[0mfrom_tuples\u001b[0m\u001b[0;34m(\u001b[0m\u001b[0mitems\u001b[0m\u001b[0;34m,\u001b[0m \u001b[0mnames\u001b[0m\u001b[0;34m=\u001b[0m\u001b[0mself\u001b[0m\u001b[0;34m.\u001b[0m\u001b[0mnames\u001b[0m\u001b[0;34m)\u001b[0m\u001b[0;34m\u001b[0m\u001b[0;34m\u001b[0m\u001b[0m\n\u001b[1;32m   4832\u001b[0m         \u001b[0;32melse\u001b[0m\u001b[0;34m:\u001b[0m\u001b[0;34m\u001b[0m\u001b[0;34m\u001b[0m\u001b[0m\n\u001b[0;32m-> 4833\u001b[0;31m             \u001b[0mitems\u001b[0m \u001b[0;34m=\u001b[0m \u001b[0;34m[\u001b[0m\u001b[0mfunc\u001b[0m\u001b[0;34m(\u001b[0m\u001b[0mx\u001b[0m\u001b[0;34m)\u001b[0m \u001b[0;32mfor\u001b[0m \u001b[0mx\u001b[0m \u001b[0;32min\u001b[0m \u001b[0mself\u001b[0m\u001b[0;34m]\u001b[0m\u001b[0;34m\u001b[0m\u001b[0;34m\u001b[0m\u001b[0m\n\u001b[0m\u001b[1;32m   4834\u001b[0m             \u001b[0;32mreturn\u001b[0m \u001b[0mIndex\u001b[0m\u001b[0;34m(\u001b[0m\u001b[0mitems\u001b[0m\u001b[0;34m,\u001b[0m \u001b[0mname\u001b[0m\u001b[0;34m=\u001b[0m\u001b[0mself\u001b[0m\u001b[0;34m.\u001b[0m\u001b[0mname\u001b[0m\u001b[0;34m,\u001b[0m \u001b[0mtupleize_cols\u001b[0m\u001b[0;34m=\u001b[0m\u001b[0;32mFalse\u001b[0m\u001b[0;34m)\u001b[0m\u001b[0;34m\u001b[0m\u001b[0;34m\u001b[0m\u001b[0m\n\u001b[1;32m   4835\u001b[0m \u001b[0;34m\u001b[0m\u001b[0m\n",
      "\u001b[0;32m<ipython-input-3-24135f9fe946>\u001b[0m in \u001b[0;36m<lambda>\u001b[0;34m(x)\u001b[0m\n\u001b[1;32m      4\u001b[0m \u001b[0;31m# fix common lgbm error with not supporting JSON chars in feature name\u001b[0m\u001b[0;34m\u001b[0m\u001b[0;34m\u001b[0m\u001b[0;34m\u001b[0m\u001b[0m\n\u001b[1;32m      5\u001b[0m \u001b[0;31m# reference: https://stackoverflow.com/questions/60582050/lightgbmerror-do-not-support-special-json-characters-in-feature-name-the-same\u001b[0m\u001b[0;34m\u001b[0m\u001b[0;34m\u001b[0m\u001b[0;34m\u001b[0m\u001b[0m\n\u001b[0;32m----> 6\u001b[0;31m \u001b[0mtrain\u001b[0m \u001b[0;34m=\u001b[0m \u001b[0mtrain\u001b[0m\u001b[0;34m.\u001b[0m\u001b[0mrename\u001b[0m\u001b[0;34m(\u001b[0m\u001b[0mcolumns\u001b[0m \u001b[0;34m=\u001b[0m \u001b[0;32mlambda\u001b[0m \u001b[0mx\u001b[0m\u001b[0;34m:\u001b[0m\u001b[0mre\u001b[0m\u001b[0;34m.\u001b[0m\u001b[0msub\u001b[0m\u001b[0;34m(\u001b[0m\u001b[0;34m'[^A-Za-z0-9_]+'\u001b[0m\u001b[0;34m,\u001b[0m \u001b[0;34m''\u001b[0m\u001b[0;34m,\u001b[0m \u001b[0mx\u001b[0m\u001b[0;34m)\u001b[0m\u001b[0;34m)\u001b[0m\u001b[0;34m\u001b[0m\u001b[0;34m\u001b[0m\u001b[0m\n\u001b[0m\u001b[1;32m      7\u001b[0m \u001b[0mtest\u001b[0m \u001b[0;34m=\u001b[0m \u001b[0mtest\u001b[0m\u001b[0;34m.\u001b[0m\u001b[0mrename\u001b[0m\u001b[0;34m(\u001b[0m\u001b[0mcolumns\u001b[0m \u001b[0;34m=\u001b[0m \u001b[0;32mlambda\u001b[0m \u001b[0mx\u001b[0m\u001b[0;34m:\u001b[0m\u001b[0mre\u001b[0m\u001b[0;34m.\u001b[0m\u001b[0msub\u001b[0m\u001b[0;34m(\u001b[0m\u001b[0;34m'[^A-Za-z0-9_]+'\u001b[0m\u001b[0;34m,\u001b[0m \u001b[0;34m''\u001b[0m\u001b[0;34m,\u001b[0m \u001b[0mx\u001b[0m\u001b[0;34m)\u001b[0m\u001b[0;34m)\u001b[0m\u001b[0;34m\u001b[0m\u001b[0;34m\u001b[0m\u001b[0m\n\u001b[1;32m      8\u001b[0m \u001b[0;34m\u001b[0m\u001b[0m\n",
      "\u001b[0;31mNameError\u001b[0m: name 're' is not defined"
     ]
    }
   ],
   "source": [
    "# Load datasets\n",
    "train = pd.read_csv(DATA_DIR/\"train.csv\")\n",
    "test = pd.read_csv(DATA_DIR/\"test.csv\")\n",
    "# fix common lgbm error with not supporting JSON chars in feature name\n",
    "# reference: https://stackoverflow.com/questions/60582050/lightgbmerror-do-not-support-special-json-characters-in-feature-name-the-same\n",
    "train = train.rename(columns = lambda x:re.sub('[^A-Za-z0-9_]+', '', x))\n",
    "test = test.rename(columns = lambda x:re.sub('[^A-Za-z0-9_]+', '', x))\n",
    "\n",
    "train_shape = train.shape\n",
    "test_shape = test.shape\n",
    "feat_cols = train.columns.to_list()\n",
    "# surface level inspection of the training data loaded\n",
    "display(train.head())\n",
    "# display general info about the dataset\n",
    "display(train.info())\n",
    "# observe general stats of feat-cols \n",
    "display(train.describe())\n",
    "display(\"Train shape:\",train_shape)\n",
    "display(\"Test shappe:\",test_shape)\n",
    "display(feat_cols)\n",
    "print(\"Number of features:\",len(feat_cols))"
   ]
  },
  {
   "cell_type": "code",
   "execution_count": null,
   "metadata": {},
   "outputs": [],
   "source": [
    "# assess missing values in one line\n",
    "# percentage of missing values represented on the range of [0,1]\n",
    "pd.isnull(train).apply(sum) / len(train)"
   ]
  },
  {
   "cell_type": "code",
   "execution_count": null,
   "metadata": {},
   "outputs": [],
   "source": [
    "sns.scatterplot(x=train.Survived, y=train.Age)"
   ]
  },
  {
   "cell_type": "markdown",
   "metadata": {},
   "source": [
    "## Exploration of Covariance of 2 Random Discrete "
   ]
  },
  {
   "cell_type": "markdown",
   "metadata": {},
   "source": [
    "### Context"
   ]
  },
  {
   "cell_type": "markdown",
   "metadata": {},
   "source": [
    "### Calculations"
   ]
  },
  {
   "cell_type": "code",
   "execution_count": null,
   "metadata": {
    "scrolled": false
   },
   "outputs": [],
   "source": [
    "sns.scatterplot(x=train.Sex, y=train.Survived)"
   ]
  },
  {
   "cell_type": "code",
   "execution_count": null,
   "metadata": {},
   "outputs": [],
   "source": [
    "train.Sex[:2]\n",
    "train.loc[train[\"Sex\"] == \"male\", \"sex_encode\"] = 1\n",
    "train.loc[train[\"Sex\"] == \"female\", \"sex_encode\"] = 0\n",
    "train.sex_encode[:2]"
   ]
  },
  {
   "cell_type": "code",
   "execution_count": null,
   "metadata": {},
   "outputs": [],
   "source": [
    "sex_survived_cov = np.cov(train.sex_encode, train.Survived)\n",
    "sex_survived_cov"
   ]
  },
  {
   "cell_type": "code",
   "execution_count": null,
   "metadata": {},
   "outputs": [],
   "source": [
    "sex_survived_corr = np.corrcoef(train.sex_encode, train.Survived)\n",
    "sex_survived_corr"
   ]
  },
  {
   "cell_type": "markdown",
   "metadata": {},
   "source": [
    "$Corr(X,Y) = \\frac{Cov(X,Y)}{\\sigma_X \\cdot \\sigma_Y}$"
   ]
  },
  {
   "cell_type": "code",
   "execution_count": null,
   "metadata": {},
   "outputs": [],
   "source": [
    "sex_survived_corr_calc = sex_survived_corr / np.dot(np.std(train.sex_encode), np.std(train.Survived))\n",
    "sex_survived_corr_calc"
   ]
  },
  {
   "cell_type": "code",
   "execution_count": null,
   "metadata": {
    "scrolled": false
   },
   "outputs": [],
   "source": [
    "sex_survived_corr_calc_norm = sex_survived_corr_calc / sex_survived_corr_calc.max(axis=0)\n",
    "sex_survived_corr_calc_norm"
   ]
  },
  {
   "cell_type": "markdown",
   "metadata": {},
   "source": [
    "### Analysis"
   ]
  },
  {
   "cell_type": "markdown",
   "metadata": {},
   "source": [
    "## Variable Distribution"
   ]
  },
  {
   "cell_type": "code",
   "execution_count": null,
   "metadata": {
    "scrolled": false
   },
   "outputs": [],
   "source": [
    "sns.displot(train, x=\"Age\", hue=\"Survived\", multiple=\"stack\", fill=True)"
   ]
  },
  {
   "cell_type": "code",
   "execution_count": null,
   "metadata": {
    "scrolled": false
   },
   "outputs": [],
   "source": [
    "sns.displot(train, x=\"Age\", kind=\"kde\", hue=\"Survived\", multiple=\"stack\", fill=True)"
   ]
  },
  {
   "cell_type": "code",
   "execution_count": null,
   "metadata": {},
   "outputs": [],
   "source": [
    "sns.histplot(x=train.Age, y=train.Survived, stat=\"frequency\")"
   ]
  },
  {
   "cell_type": "code",
   "execution_count": null,
   "metadata": {},
   "outputs": [],
   "source": [
    "# remove passengerId which is simply used for maintaining training instance indices ie an non impactful column in terms of the classificaiton problem\n",
    "train_ids = train[\"PassengerId\"]\n",
    "train = train.drop(labels=\"PassengerId\",axis=1)\n",
    "# \n",
    "feat_cols = train.columns.to_list()\n",
    "display(feat_cols)\n",
    "print(\"Number of features:\",len(feat_cols))"
   ]
  },
  {
   "cell_type": "code",
   "execution_count": null,
   "metadata": {},
   "outputs": [],
   "source": [
    "sample_submission = pd.read_csv(DATA_DIR / \"gender_submission.csv\")\n",
    "sample_submission.head() # classification problem of predicting the target feat-col: \"survived\""
   ]
  },
  {
   "cell_type": "markdown",
   "metadata": {},
   "source": [
    "# Data Description + Plan  of Action\n",
    "| Variable | Definition | Key |\n",
    "|----------|-----------|------|\n",
    "|survival\t|Survival|\t0 = No, 1 = Yes|\n",
    "|pclass\t|Ticket class|\t1 = 1st, 2 = 2nd, 3 = 3rd|\n",
    "|sex\t|Sex\t||\n",
    "|age|\tAge in years\t||\n",
    "|sibsp|\t# of siblings / spouses aboard the Titanic\t||\n",
    "|parch\t|# of parents / children aboard the Titanic\t||\n",
    "|ticket\t|Ticket number\t||\n",
    "|fare|\tPassenger fare\t||\n",
    "|cabin|\tCabin number\t||\n",
    "|embarked|\tPort of Embarkation\t|C = Cherbourg, Q = Queenstown, S = Southampton|\n",
    "\n",
    "## Variable Notes\n",
    "pclass: A proxy for socio-economic status (SES)<br>\n",
    "1st = Upper <br>\n",
    "2nd = Middle<br>\n",
    "3rd = Lower<br>\n",
    "\n",
    "age: Age is fractional if less than 1. If the age is estimated, is it in the form of xx.5<br>\n",
    "\n",
    "sibsp: The dataset defines family relations in this way...<br>\n",
    "Sibling = brother, sister, stepbrother, stepsister<br>\n",
    "Spouse = husband, wife (mistresses and fiancés were ignored)<br>\n",
    "\n",
    "parch: The dataset defines family relations in this way...<br>\n",
    "Parent = mother, father<br>\n",
    "Child = daughter, son, stepdaughter, stepson<br>\n",
    "Some children travelled only with a nanny, therefore parch=0 for them.<br>\n"
   ]
  },
  {
   "cell_type": "markdown",
   "metadata": {},
   "source": [
    "## Plan of Action\n",
    "Objective: Predict the target variable \"survived\" using the classification problem's data set \"train.csv\" provided.\n",
    "\n",
    "I. Self-Attempt  \n",
    "  1. Inspect in further detail of the given features via plots  \n",
    "  2. Evaluate methods of plotting and select appropriate method for the data type  \n",
    "  3. Look out for anomalies such as: non-Gaussian distros, outliers  \n",
    "  4. Observe variables' dependencies/relations using covar matrix -- a \"heat map\"  \n",
    "  5. Understand data types to be worked with  \n",
    "  \n",
    "II. Review Initial Attempt and Identify Notebooks for Reference  \n",
    "\n",
    "III. Assisted-Attempt using Reference Notebooks    \n",
    "  1. Apply ideas in notebook\n",
    "  2. Review  \n",
    "    * Justifications for choices made  \n",
    "    * Tools used  "
   ]
  },
  {
   "cell_type": "markdown",
   "metadata": {},
   "source": [
    "## Feature vs Target Feature Plots"
   ]
  },
  {
   "cell_type": "code",
   "execution_count": null,
   "metadata": {},
   "outputs": [],
   "source": [
    "# attempt to plot target variable\n",
    "f, ax = plt.subplots(figsize=(8, 7))\n",
    "sns.distplot(train['Survived'], color=\"b\");\n",
    "ax.set(ylabel=\"Frequency\")\n",
    "ax.set(xlabel=\"Survived\")\n",
    "ax.set(title=\"Survival distribution\")\n",
    "# sns.despine(trim=True, left=True)\n",
    "plt.grid(True)\n",
    "ax.xaxis.grid(False)\n",
    "\n",
    "plt.show()\n",
    "print(\"Skewness: %f\" % train['Survived'].skew())\n",
    "print(\"Kurtosis: %f\" % train['Survived'].kurt())"
   ]
  },
  {
   "cell_type": "markdown",
   "metadata": {},
   "source": [
    "The chosen distribution plot method does not appear to display the data in a manner that is meaningful -- perhaps there isn't much to be drawn from the individual target variable itself outside of the fact that more people died than those that survived. Alternative plot methods could be either a scatter plot or a box plot. The double distribution curves are expected given the discrete nature of the variable ( 0 or 1 ie dead or alive)"
   ]
  },
  {
   "cell_type": "code",
   "execution_count": null,
   "metadata": {},
   "outputs": [],
   "source": [
    "numeric_dtypes = ['int16', 'int32', 'int64', 'float16', 'float32', 'float64']\n",
    "numeric = []\n",
    "for i in train.columns:\n",
    "    if train[i].dtype in numeric_dtypes:\n",
    "#         if i in ['TotalSF', 'Total_Bathrooms','Total_porch_sf','haspool','hasgarage','hasbsmt','hasfireplace']:\n",
    "#             pass\n",
    "#         else:\n",
    "        numeric.append(i)     \n",
    "\n",
    "# visualising some more outliers in the data values\n",
    "fig, axs = plt.subplots(ncols=2, nrows=1, figsize=(12,12))\n",
    "plt.subplots_adjust(right=2)\n",
    "plt.subplots_adjust(top=2)\n",
    "sns.color_palette(\"husl\", 8)\n",
    "for i, feature in enumerate(list(train[numeric]), 1):\n",
    "    plt.subplot(len(list(numeric)), 3, i)\n",
    "    sns.scatterplot(x=feature, y='Survived', hue='Survived', palette='Blues', data=train)\n",
    "    plt.xlabel('{}'.format(feature), size=15,labelpad=0)\n",
    "    plt.ylabel('Survived', size=15, labelpad=14)\n",
    "    for j in range(2):\n",
    "        plt.tick_params(axis='x', labelsize=12)\n",
    "        plt.tick_params(axis='y', labelsize=12)\n",
    "    plt.legend(loc='best', prop={'size': 10})\n",
    "plt.show()\n"
   ]
  },
  {
   "cell_type": "markdown",
   "metadata": {},
   "source": [
    "Not sure what conclusions I can draw given these plots. Perhaps a boxplot"
   ]
  },
  {
   "cell_type": "code",
   "execution_count": null,
   "metadata": {},
   "outputs": [],
   "source": [
    "# data = pd.concat([train['Survived'], train['Age']], axis=1)\n",
    "# f, ax = plt.subplots(figsize=(8,8))\n",
    "# fig = sns.boxplot(x=train['Age'], y=\"Survived\", data=data)\n",
    "# plt.xticks(rotation=90)\n",
    "# # fig.axis(ymin=train['Survived'].min(), ymax=train['Survived'].max());\n",
    "# plt.show()\n"
   ]
  },
  {
   "cell_type": "markdown",
   "metadata": {},
   "source": [
    "Still uncertain about what to make of the data. The rationale for plotting these particular features were based upon a linear regression problem in which numeric datatypes were plotted. In this particular case, it's clear that plotting numerics against a label does not show all too much. Perhaps a distribution plot applied to all features would be more useful?"
   ]
  },
  {
   "cell_type": "code",
   "execution_count": null,
   "metadata": {},
   "outputs": [],
   "source": [
    "\n",
    "# # visualising some more outliers in the data values\n",
    "# fig, axs = plt.subplots(ncols=2, nrows=1, figsize=(12,12))\n",
    "# plt.subplots_adjust(right=2)\n",
    "# plt.subplots_adjust(top=2)\n",
    "# sns.color_palette(\"husl\", 8)\n",
    "# for i, feature in enumerate(list(train[feat_cols]), 1):\n",
    "#     plt.subplot(len(list(numeric)), 3, i)\n",
    "#     g = sns.distplot(train[feature], color=\"m\", label=\"Skewness : %.2f\"%(train[\"Fare\"].skew()))\n",
    "#     g = g.legend(loc=\"best\")\n",
    "# plt.show()\n"
   ]
  },
  {
   "cell_type": "markdown",
   "metadata": {},
   "source": [
    "# Self Attempt\n",
    "## Feature vs Target Feature Analysis\n",
    "* pclass vs survived\n",
    "    * there appears to be a relation between passenger socioeconomic class and their rate of survival\n",
    "    * upper-class passengers are more inclined to survive in contrast to lower-class passengers\n",
    "* sex vs survived\n",
    "    * women were far more likely to survive in contrast to males\n",
    "* age vs survived\n",
    "    * there appears to be a bit of a relation; however, requires further investigation\n",
    "* siblings & spouses VS surived\n",
    "    * passengers who had a larger party (spouses or siblings) were less inclined to survive\n",
    "    * the cut off point appears to be at 2 siblings & spouses at which there appears to be a large drop off in the survival rate\n",
    "* parch (# parents/children) vs survived:\n",
    "    * no parent or child case appears to potentially be an outlier -- not sure about the reasonings as to why\n",
    "    * the case of 1/2/3 parch sizes appear to make sense in terms of the survival rate of the passenger\n",
    "    * not sure what to make meaining behind the portruding line drawn\n",
    "* ticket number & survived:\n",
    "    * there may be some information here in regards to how passengers were seated upon the ship; however, given the uniqueness of ticker numbers there cannot be any direct conclusions made about the relation between a passengers ticket nubmer and their survival rate\n",
    "* fare vs survived\n",
    "    * there is likely a relation here based upon the observations of pclass vs survival rate\n",
    "    * a closer inspection is needed\n",
    "* cabin vs survived\n",
    "    * it is possible that there may be some correlation between survival rate given a passengers cabin number\n",
    "    * this correlation is motivated by an understanidng of how ships hold multiple levels of cabins thus, the passengers at the lowest level cabins would likely not have been able to make it to the rafts sooner than the ones at the upper level\n",
    "    * cabin and pclass may share a relation\n",
    "    * cabin and fare may share a relation\n",
    "* embarked vs survived\n",
    "    * naturally inclined to think that the port of embarkation is likely to have little to no relation with survival rate\n",
    "    * a case for a relation to exist would be that the location may represent a culture of alertness to dangers suggesting a better prepared passenger for moments of danger\n",
    "    * what is the significance of the location of embarkation?\n",
    "    * what is the reason for passengers who embarked at Cherbourg having a higher survival chance?\n",
    "* survived vs survived\n",
    "    * NA\n",
    "* name vs survived\n",
    "    * NA"
   ]
  },
  {
   "cell_type": "markdown",
   "metadata": {},
   "source": [
    "## Feature Correlation Matrix"
   ]
  },
  {
   "cell_type": "code",
   "execution_count": null,
   "metadata": {},
   "outputs": [],
   "source": [
    "corr = train.corr()\n",
    "plt.subplots(figsize=(15,12))\n",
    "sns.heatmap(corr, vmax=0.9, cmap=\"coolwarm\", square=True, annot= True)\n"
   ]
  },
  {
   "cell_type": "markdown",
   "metadata": {},
   "source": [
    "* We can see that there's a positive correlation between the training set's \"Fare\" and \"Survived\" rand variables\n",
    "* \"Parch\" and \"Fare\" are very slightly positively correlated\n",
    "* The rest of the features hold a slight negative correlation with \"Survived\""
   ]
  },
  {
   "cell_type": "markdown",
   "metadata": {},
   "source": [
    "## Feature Imputation\n",
    "Does there exist any missing values? How many? How do we appropriately fill in for these missing values?"
   ]
  },
  {
   "cell_type": "code",
   "execution_count": null,
   "metadata": {},
   "outputs": [],
   "source": [
    "# Missing Features in Training Dataset\n",
    "all_cols = train.isna().any()\n",
    "na_cols = [c for c in all_cols.index if all_cols[c] == True]\n",
    "display(\"All columns:\",train.isna().any(), \"Missing cols:\", na_cols)\n",
    "print()\n",
    "for c in na_cols:\n",
    "    na_count = train[c].isna().sum()\n",
    "    total = len(train[c])\n",
    "    na_percent =  na_count / total * 100\n",
    "    print(\"{:<10}: {:<5} / {:<5} instances missing --> {:1.5f}\".format(c, na_count, total, na_percent))"
   ]
  },
  {
   "cell_type": "markdown",
   "metadata": {},
   "source": [
    "How do we go about feature imputation?'\n",
    "* currently only observing just the training instances, need to impute for the set of ALL instances ie train + test dataset\n",
    "* based upon the data description how would we create new features? consider 1 or more variables from which we can define a new feature>\n",
    "    - for example: denoting whether the passenger is travelling alone or not\n",
    "* apply KNN algorithm?\n"
   ]
  },
  {
   "cell_type": "markdown",
   "metadata": {},
   "source": [
    "## Prospective Ideas\n",
    "* Would we ever use PCA here? \n",
    "    - Considering that the dataset is extremely small in terms of the degree of dimnesions, there would be very little reason for applying a technique to reduce dimensionality\n",
    "    - PCA may actually hurt the performance of the model as a result because there is already very few features in the dataset\n",
    "    - Worth exploring to provide concreteness/assessing these claims\n",
    "* Would it be effective to use a neural network for this problem? Why or why not? What would that look like?\n",
    "    - Reference: https://www.kaggle.com/liyenhsu/titanic-neural-network#Ticket\n",
    "* What does an approach using R look like? What are the tools involved? How do these tools differ from python? Are there python analogs of these tools?\n",
    "    - Reference: https://www.kaggle.com/pliptor/divide-and-conquer-0-82296"
   ]
  },
  {
   "cell_type": "markdown",
   "metadata": {},
   "source": [
    "# Self Attempt Review"
   ]
  },
  {
   "cell_type": "markdown",
   "metadata": {},
   "source": [
    "## References for New Ideas/Perspectives\n",
    "* <b>Python DS Framework</b>: https://www.kaggle.com/ldfreeman3/a-data-science-framework-to-achieve-99-accuracy\n",
    "    * <b>Notable sections:</b>\n",
    "        - Problem Definition\n",
    "        - Data Preparation\n",
    "        - Meet & Greet the Data (EDA)\n",
    "    * <b>My Takeaways & Reflection from Reading</b>\n",
    "        - Nearly all of my intuitons & observations up to this point of the jupyter notebook were on-point with the notes defined in the \"Meet & Greet the Data\" section\n",
    "        - Good Practice? make a copy rather of the data rather than altering it directly?\n",
    "        - <b>4Cs of Data Cleaning</b>\n",
    "            1. Correcting: adjust outlier values\n",
    "            2. Completing: feature imputation ie filling in the non-existing values\n",
    "            3. Creating: feature engineering ie utilize existing features to create new ones\n",
    "            4. Converting: convert to dummy variables ie hot encode (Ex. conversion using a kv-mapping of strings to integer vals)?\n",
    "        - Performing feature imputation: usage of median & mode\n",
    "            - why median over average for \"Age\" & \"Fare\"? \n",
    "            - why mode for \"Embarked\"?\n",
    "            - could we utilize the set of all instances that do not have missing columns from which we train a model to predict for the instances that contain missing values?\n",
    "        - Performing feature engineering\n",
    "            - Why do we use pd.qcut? What does it do? What was the rationale for qcutting for the features denoted in the notebook?\n",
    "* <b>Python Ensemble Methods</b>: https://www.kaggle.com/yassineghouzam/titanic-top-4-with-ensemble-modeling\n",
    "    * <b>Notable Sections:</b>\n",
    "        - Outlier Detection (Tukey Method)\n",
    "    * <b>My Takeaways & Reflection from Reading</b>\n",
    "        - Revealed my own weakness -- a need deepen my stats understaning in terms of the significance of outliers \n",
    "        - A need to understand methods of cleaning out data ie removal of outliers (what other forms exist outside of the Tukey method provided?)\n",
    "            - Other outlier detection methods: https://towardsdatascience.com/practical-guide-to-outlier-detection-methods-6b9f947a161e\n",
    "        - Usage of a <b>FacetGrid</b> from Seaborn in displaying age distribution and surival outcome\n",
    "        - Usage of a <b>kdeplot</b> for overlaying the two plots pertaining to 2 survival outcomes on one chart\n",
    "        - Approaching each datatype with the appropriate plotting method is so important\n",
    "* <b>R Tutorial</b>: https://www.kaggle.com/mrisdal/exploring-survival-on-the-titanic\n",
    "    * Organized very well\n",
    "    * Provides alot of useful commentary for gaining insight into the steps taken"
   ]
  },
  {
   "cell_type": "markdown",
   "metadata": {},
   "source": [
    "# Assisted Attempt\n",
    "## Revisiting EDA: Feature vs Target Feature Analysis"
   ]
  },
  {
   "cell_type": "code",
   "execution_count": null,
   "metadata": {},
   "outputs": [],
   "source": [
    "train.info()"
   ]
  },
  {
   "cell_type": "code",
   "execution_count": null,
   "metadata": {},
   "outputs": [],
   "source": [
    "# create a dictionary dtype: column_names ie aggregate columns by their dtype\n",
    "type_dict = {str(k): list(v) for k, v in train.groupby(train.dtypes, axis=1)}\n",
    "type_dict"
   ]
  },
  {
   "cell_type": "markdown",
   "metadata": {},
   "source": [
    "### Discrete Features (int64) vs Target Feature\n"
   ]
  },
  {
   "cell_type": "code",
   "execution_count": null,
   "metadata": {},
   "outputs": [],
   "source": [
    "# fig, axs = plt.subplots(ncols=2, nrows=1, figsize=(12,12))\n",
    "# plt.subplots_adjust(right=2)\n",
    "# plt.subplots_adjust(top=2)\n",
    "for i, c in enumerate([ _ for _ in type_dict[\"int64\"] if _ != \"Survived\"],1):\n",
    "#     plt.subplot(len(list([ _ for _ in type_dict[\"int64\"]if _ != \"Survived\"])), 2, i)\n",
    "    g = sns.factorplot(x=c,y=\"Survived\",data=train,kind=\"bar\", size = 6 , \n",
    "    palette = \"muted\")\n",
    "    g.despine(left=True)\n",
    "    g = g.set_ylabels(\"survival probability\")\n",
    "    plt.grid(axis=\"y\")\n",
    "    plt.title(\"Survived VS {}\".format(c))\n",
    "    fig = plt.gcf()\n",
    "#     fig.set_size_inches = (8,8)\n",
    "    plt.tight_layout()\n",
    "    fig.savefig(PLOT_DIR/f\"{c}-vs-Survived-factorplot.png\",bbox_inches = \"tight\")\n",
    "plt.show()\n",
    "# print(plt.grid.__doc__)\n",
    "# need to learn how to create subplots when using seaborn"
   ]
  },
  {
   "cell_type": "markdown",
   "metadata": {},
   "source": [
    "* Pclass VS Survived\n",
    "    * there appears to be a relation between passenger socioeconomic class and their rate of survival\n",
    "    * upper-class passengers are more inclined to survive in contrast to lower-class passengers\n",
    "* SubSp VS Surived\n",
    "    * passengers who had a larger party (spouses or siblings) were less inclined to survive\n",
    "    * the cut off point appears to be at 2 siblings & spouses at which there appears to be a large drop off in the survival rate\n",
    "* Parch VS Survived:\n",
    "    * no parent or child case appears to potentially be an outlier -- not sure about the reasonings as to why\n",
    "    * the case of 1/2/3 parch sizes appear to make sense in terms of the survival rate of the passenger\n",
    "    * not sure what to make meaining behind the portruding line drawn\n"
   ]
  },
  {
   "cell_type": "markdown",
   "metadata": {},
   "source": [
    "### Continuos Features (float64) vs Target Feature \n"
   ]
  },
  {
   "cell_type": "code",
   "execution_count": null,
   "metadata": {},
   "outputs": [],
   "source": [
    "for i, c in enumerate([ _ for _ in type_dict[\"float64\"] if _ != \"Survived\"],1):\n",
    "#     plt.subplot(len(list([ _ for _ in type_dict[\"int64\"]if _ != \"Survived\"])), 2, i)\n",
    "    g = sns.FacetGrid(train, col='Survived')\n",
    "    g = g.map(sns.distplot, c)\n",
    "    fig = plt.gcf()\n",
    "#     fig.set_size_inches = (8,8)\n",
    "    plt.tight_layout()\n",
    "    fig.savefig(PLOT_DIR/f\"{c}-vs-Survived-distplot.png\",bbox_inches = \"tight\")\n",
    "    plt.show()\n",
    "    plt.title(\"Survived VS {}\".format(c))\n",
    "    g = sns.kdeplot(train[c][(train[\"Survived\"] == 0) & (train[c].notnull())], color=\"Red\", shade = True)\n",
    "    g = sns.kdeplot(train[c][(train[\"Survived\"] == 1) & (train[c].notnull())], ax =g, color=\"Blue\", shade= True)\n",
    "    g.set_xlabel(c)\n",
    "    g.set_ylabel(\"Frequency\")\n",
    "    g = g.legend([\"Not Survived\",\"Survived\"])\n",
    "    fig = plt.gcf()\n",
    "#     fig.set_size_inches = (8,8)\n",
    "    plt.tight_layout()\n",
    "    fig.savefig(PLOT_DIR/f\"{c}-vs-Survived-kdeplot.png\",bbox_inches = \"tight\")\n",
    "    \n",
    "    plt.show()"
   ]
  },
  {
   "cell_type": "markdown",
   "metadata": {},
   "source": [
    "* age vs survived\n",
    "    * there appears to be a bit of a relation; however, requires further investigation\n",
    "    * revamping of the plot method used demonstrates that there is a strong correlation between age and survival \n",
    "    * there is large concentration of young passengers surviving\n",
    "    * there also appears to be more older passengers that did not survive\n",
    "* fare vs survived\n",
    "    * there is likely a relation here based upon the observations of pclass vs survival rate\n",
    "    * a closer inspection is needed\n"
   ]
  },
  {
   "cell_type": "code",
   "execution_count": null,
   "metadata": {},
   "outputs": [],
   "source": [
    "# Explore Fare distribution \n",
    "numeric_dypes = type_dict[\"float64\"]\n",
    "# type_dict[\"int64\"] + \n",
    "# numeric_dtypes\n",
    "type_dict[\"float64\"]"
   ]
  },
  {
   "cell_type": "code",
   "execution_count": null,
   "metadata": {
    "scrolled": false
   },
   "outputs": [],
   "source": [
    "for c in type_dict[\"float64\"]:\n",
    "# + type_dict[\"int64\"]:\n",
    "    g = sns.distplot(train[c], color=\"m\", label=\"Skewness : %.2f\"%(train[c].skew()))\n",
    "    g = g.legend(loc=\"best\")\n",
    "    plt.title(\"{} Distribution\".format(c))\n",
    "    plt.show()"
   ]
  },
  {
   "cell_type": "markdown",
   "metadata": {},
   "source": [
    "Should one immediately apply a log transformation to create a gaussian? Why or why not? \n",
    "* The referenced notebook: https://www.kaggle.com/yassineghouzam/titanic-top-4-with-ensemble-modeling applies a log transform on the feature \"Fare\". The justification is to reduce \"...very high values in the model, even if it is scaled.\" What are the other perspectives to observe as a justification for the log transform?\n",
    "* Age is not transformed in the referenced notebook in the prev bullet. Why not? It makes sense to not transform it because it'd lead to a misinterpretation of the data. It makes sense that there's a slightly higher proportion of young passengers surviving in contrast to older passengers who were more likely to no survive. An immediate conclusion to normalize the distro would obfuscate potential observations such as this."
   ]
  },
  {
   "cell_type": "code",
   "execution_count": null,
   "metadata": {},
   "outputs": [],
   "source": [
    "type_dict[\"object\"]"
   ]
  },
  {
   "cell_type": "markdown",
   "metadata": {},
   "source": [
    "### String (object) vs Target Feature"
   ]
  },
  {
   "cell_type": "code",
   "execution_count": null,
   "metadata": {},
   "outputs": [],
   "source": [
    "# for i, c in enumerate([ _ for _ in type_dict[\"object\"] if _ != \"Name\"],1):\n",
    "col_strtype = [\"Sex\", \"Embarked\"]\n",
    "for c in col_strtype: \n",
    "#     plt.subplot(len(list([ _ for _ in type_dict[\"int64\"]if _ != \"Survived\"])), 2, i)\n",
    "    plt.title(\"Survived VS {}\".format(c))\n",
    "    g = sns.barplot(x=c,y=\"Survived\",data=train)\n",
    "    g = g.set_ylabel(\"Survival Probability\")\n",
    "    plt.show()\n",
    "    "
   ]
  },
  {
   "cell_type": "markdown",
   "metadata": {},
   "source": [
    "* sex vs survived\n",
    "    * women were far more likely to survive in contrast to males per the quote from the movie \"Women and children first!\"\n",
    "* embarked vs survived\n",
    "    * naturally inclined to think that the port of embarkation is likely to have little to no relation with survival rate\n",
    "    * a case for a relation to exist would be that the location may represent a culture of alertness to dangers suggesting a better prepared passenger for moments of danger\n",
    "    * what is the significance of the location of embarkation?\n",
    "    * what is the reason for passengers who embarked at Cherbourg having a higher survival chance?\n"
   ]
  },
  {
   "cell_type": "markdown",
   "metadata": {},
   "source": [
    "### Cross Analysis of Dtypes"
   ]
  },
  {
   "cell_type": "code",
   "execution_count": null,
   "metadata": {},
   "outputs": [],
   "source": [
    "# Explore Pclass vs Survived by Sex\n",
    "g = sns.factorplot(x=\"Pclass\", y=\"Survived\", hue=\"Sex\", data=train,\n",
    "                   size=6, kind=\"bar\", palette=\"muted\")\n",
    "g.despine(left=True)\n",
    "g = g.set_ylabels(\"survival probability\")\n"
   ]
  },
  {
   "cell_type": "markdown",
   "metadata": {},
   "source": [
    "Gender played a large role in determining survivability of a passenger. Women were more inclined to survive in contrast to men.  Regardless of controlling for SES, the trend of women being more inclined to survive was conserved. In additition, passengers of higher class were likely more likely to survive in contrast to lower SES passengers. "
   ]
  },
  {
   "cell_type": "code",
   "execution_count": null,
   "metadata": {},
   "outputs": [],
   "source": [
    "# Explore Embarked vs Survived \n",
    "g = sns.factorplot(x=\"Embarked\", y=\"Survived\",  data=train,\n",
    "                   size=6, kind=\"bar\", palette=\"muted\")\n",
    "g.despine(left=True)\n",
    "g = g.set_ylabels(\"survival probability\")\n"
   ]
  },
  {
   "cell_type": "markdown",
   "metadata": {},
   "source": [
    "Why is it that those embarking from Cherbourg were more likely to survive?\n",
    "* Were they primarily women?\n",
    "* Where they primarily of higher SES?"
   ]
  },
  {
   "cell_type": "markdown",
   "metadata": {},
   "source": [
    "#### Pclass vs Embarked "
   ]
  },
  {
   "cell_type": "code",
   "execution_count": null,
   "metadata": {},
   "outputs": [],
   "source": [
    "g = sns.factorplot(\"Pclass\", col=\"Embarked\",  data=train,\n",
    "                   size=6, kind=\"count\", palette=\"muted\")\n",
    "g.despine(left=True)\n",
    "g = g.set_ylabels(\"Count\")"
   ]
  },
  {
   "cell_type": "markdown",
   "metadata": {},
   "source": [
    "####  Sex vs Embarked "
   ]
  },
  {
   "cell_type": "code",
   "execution_count": null,
   "metadata": {},
   "outputs": [],
   "source": [
    "g = sns.factorplot(\"Sex\", col=\"Embarked\",  data=train,\n",
    "                   size=6, kind=\"count\", palette=\"muted\")\n",
    "g.despine(left=True)\n",
    "g = g.set_ylabels(\"Count\")"
   ]
  },
  {
   "cell_type": "markdown",
   "metadata": {},
   "source": [
    "1. Q: Were they primarily women? \n",
    "- A: No, those from Southampton (S) were primarily men.  Cherbourg & Queenstown had a fairly even distribution of genders at the respective locations.\n",
    "2. Q: Were they primarily of higher SES?\n",
    "- A: Not necessarily conclusive across the board. There is a slightly higher distribution of 1st class passengers for  Cherbourg in contrast to the other locations. It would make sense that those embarking from  Cherbourg had some form of influence.\n",
    "\n",
    "Main Q: Why is it that those embarking from Cherbourg were more likely to survive?\n",
    "A: Passengers embarking from Cherbourg showed a higher distribution for 1st class passengers out of all 3 classes. It is likely, although not confirmed, that passengers of 1st class are probably aristocrats or indivusals that hold influence warranting their priotization during evac."
   ]
  },
  {
   "cell_type": "markdown",
   "metadata": {},
   "source": [
    "## Feature Imputation: Revisited\n",
    "Recalling,\n",
    "```sh\n",
    "Age: 177 / 891 instances missing --> 19.86532%\n",
    "Cabin: 687 / 891 instances missing --> 77.10438%\n",
    "Embarked: 2 / 891 instances missing --> 0.22447%\n",
    "```\n",
    "Considering the second round of EDA and now the need for imputing features. One should consider the entirety of the dataset. The reason for observing the entirety of the dataset. The test set was initially excluded from EDA since it does not contain the random target variable to be predicted. To analyze supporting random feature variables would not be useful during EDA since analysis revolves around understanding of related support features in conjunction with the rand target var. \n",
    "\n",
    "For the case of feature imputation it's now important to consider the entirety of dataset -- the set of all instances (train + test) because one must identify all features columns containing missing values. Identification of these instances' features for imputation is important because one is able to draw from a larger picture when deriving values for filling in missing features. In addition, we also fill in the blanks all in one sweep. "
   ]
  },
  {
   "cell_type": "code",
   "execution_count": null,
   "metadata": {},
   "outputs": [],
   "source": [
    "test_ids = test[\"PassengerId\"]\n",
    "train[\"PassengerId\"] = train_ids\n",
    "# test = test.drop(\"PassengerId\",axis=1)"
   ]
  },
  {
   "cell_type": "code",
   "execution_count": null,
   "metadata": {},
   "outputs": [],
   "source": [
    "display(test.head())\n",
    "display(train.head())"
   ]
  },
  {
   "cell_type": "code",
   "execution_count": null,
   "metadata": {},
   "outputs": [],
   "source": [
    "full_data = pd.concat(objs=[train,test], axis=0).reset_index(drop=True)\n",
    "display(train.shape, test.shape, full_data.shape)\n",
    "# len(full_data)\n",
    "# full_data.head()"
   ]
  },
  {
   "cell_type": "markdown",
   "metadata": {},
   "source": [
    "Note that it's okay for the test data shape to be one less than the training because the test set does not contain the target variable \"Survived\". Do be careful when applying transformations. The current state of the notebook requires review regarding information leakage.\n",
    "* What is an example of information leakage?\n",
    "    - Filling in missing values in the training set using an average created from the entire dataset?\n",
    "    - Is it consider best practice to exlcude instances from the test set and to use only the population of training instances for filling in the missing values in the training dataset?\n",
    "* How should one go about handling the datasets to avoid information leakage?\n",
    "    - Definition of a function to be applied to the sample sets (test & training) individually \n",
    "* Is the entire dataset the sum of all instances defined in both train and test?\n",
    "* References:\n",
    "    - https://www.kaggle.com/questions-and-answers/93428\n",
    "    - https://www.kaggle.com/questions-and-answers/35689\n",
    "    - https://www.kaggle.com/getting-started/97742\n",
    "    - https://www.kaggle.com/questions-and-answers/40640\n",
    "    - https://www.kaggle.com/questions-and-answers/48869\n",
    "    - https://www.kaggle.com/getting-started/99070\n",
    "    - https://www.kaggle.com/questions-and-answers/182431\n",
    "    - https://www.kaggle.com/general/67299\n",
    "    - https://www.kaggle.com/getting-started/142521"
   ]
  },
  {
   "cell_type": "markdown",
   "metadata": {},
   "source": [
    "### 4C's Overview\n",
    "1. Complete: impute values for missing cells\n",
    "2. Correct: appropriate adjustment of distributions, removal of outliers\n",
    "3. Create: generation of new features given existing features\n",
    "4. Convert: hot encode ie conversion of object types to values accepted by the machine such as integer/float types "
   ]
  },
  {
   "cell_type": "markdown",
   "metadata": {},
   "source": [
    "### Correct"
   ]
  },
  {
   "cell_type": "code",
   "execution_count": null,
   "metadata": {},
   "outputs": [],
   "source": [
    "# Outlier detection \n",
    "def detect_outliers(df,n,features):\n",
    "    \"\"\"\n",
    "    Takes a dataframe df of features and returns a list of the indices\n",
    "    corresponding to the observations containing more than n outliers according\n",
    "    to the Tukey method.\n",
    "    \n",
    "    Reference:  https://www.kaggle.com/yassineghouzam/titanic-top-4-with-ensemble-modeling\n",
    "    \"\"\"\n",
    "    outlier_indices = []\n",
    "    # iterate over features(columns)\n",
    "    for col in features:\n",
    "        # 1st quartile (25%)\n",
    "        Q1 = np.percentile(df[col], 25)\n",
    "        # 3rd quartile (75%)\n",
    "        Q3 = np.percentile(df[col],75)\n",
    "        # Interquartile range (IQR)\n",
    "        IQR = Q3 - Q1\n",
    "        # outlier step\n",
    "        outlier_step = 1.5 * IQR\n",
    "        # Determine a list of indices of outliers for feature col\n",
    "        outlier_list_col = df[(df[col] < Q1 - outlier_step) | (df[col] > Q3 + outlier_step )].index\n",
    "        # append the found outlier indices for col to the list of outlier indices \n",
    "        outlier_indices.extend(outlier_list_col)\n",
    "    # select observations containing more than 2 outliers\n",
    "    outlier_indices = Counter(outlier_indices)        \n",
    "    multiple_outliers = list( k for k, v in outlier_indices.items() if v > n )\n",
    "    return multiple_outliers   \n",
    "\n",
    "# detect outliers from Age, SibSp , Parch and Fare\n",
    "# outliers_to_drop = detect_outliers(train,2,[\"Age\",\"SibSp\",\"Parch\",\"Fare\"])"
   ]
  },
  {
   "attachments": {
    "image.png": {
     "image/png": "[encoded data removed]"
    }
   },
   "cell_type": "markdown",
   "metadata": {},
   "source": [
    "The function detect_outliers is potentially faulty because it does NOT drop NaNs when calculating the percentiles.\n",
    "![image.png](attachment:image.png)"
   ]
  },
  {
   "cell_type": "code",
   "execution_count": null,
   "metadata": {},
   "outputs": [],
   "source": [
    "# print(\"Training set outliers:\", len(train.loc[outliers_to_drop]))\n",
    "# train.loc[outliers_to_drop]\n"
   ]
  },
  {
   "cell_type": "code",
   "execution_count": null,
   "metadata": {},
   "outputs": [],
   "source": [
    "# # Drop outliers\n",
    "# train = train.drop(outliers_to_drop, axis = 0).reset_index(drop=True)"
   ]
  },
  {
   "cell_type": "markdown",
   "metadata": {},
   "source": [
    "* How is not droping NaN values prior to calculating percentiles faulty? \n",
    "* What mistakes does one allow into the dataset by NOT dropping NaN values pre-percentiles calculations?\n",
    "* Why is it important to drop NaN values?"
   ]
  },
  {
   "cell_type": "markdown",
   "metadata": {},
   "source": [
    "### Complete\n",
    "Similar to first approach we find all missing values for any column from which we are able to identify the columns in need of imputation.\n"
   ]
  },
  {
   "cell_type": "code",
   "execution_count": null,
   "metadata": {},
   "outputs": [],
   "source": [
    "## Join train and test sets in order to obtain the same number of features during categorical conversion\n",
    "train_len = len(train)\n",
    "full_data =  pd.concat(objs=[train, test], axis=0).reset_index(drop=True)\n",
    "# Fill empty and NaNs values with NaN\n",
    "full_data = full_data.fillna(np.nan)\n",
    "# Check for Null values\n",
    "full_data.isnull().sum()\n"
   ]
  },
  {
   "cell_type": "code",
   "execution_count": null,
   "metadata": {},
   "outputs": [],
   "source": [
    "def show_missing_report(df:pandas.DataFrame):\n",
    "    all_cols = df.isna().any()\n",
    "    na_cols = [c for c in all_cols.index if all_cols[c] == True]\n",
    "    if len(na_cols) == 0:\n",
    "        return\n",
    "    na_cols.remove(\"Survived\") # random target feature column we DONT impute for\n",
    "    display(\"All columns:\",df.isna().any(), \"Missing cols:\", na_cols)\n",
    "    print()\n",
    "    for c in na_cols:\n",
    "        na_count = df[c].isna().sum()\n",
    "        total = len(df[c])\n",
    "        na_percent =  na_count / total * 100\n",
    "        print(\"{}: {} / {} instances missing --> {:1.5f}%\".format(c, na_count, total, na_percent))\n",
    "        "
   ]
  },
  {
   "cell_type": "code",
   "execution_count": null,
   "metadata": {},
   "outputs": [],
   "source": [
    "show_missing_report(full_data)        \n"
   ]
  },
  {
   "cell_type": "markdown",
   "metadata": {},
   "source": [
    "#### Age\n",
    "There exists 256 missing values in the whole dataset post-outliers removal. Given the prior observations from EDA, we know the feature age holds significance in passenger survival thus provides reason for keeping such a feature and suggests a need to fill in the blanks. An approach to imputing for this feature would be to observe the features that are most correlated with age. "
   ]
  },
  {
   "cell_type": "code",
   "execution_count": null,
   "metadata": {},
   "outputs": [],
   "source": [
    "full_data.columns\n",
    "# cols removed from plotting due to computational cost\n",
    "insig_cols = ['PassengerId','Name',\"Ticket\",\"Fare\",\"Cabin\",\"Survived\"] \n",
    "sig_cols = [ c for c in full_data.columns if c not in insig_cols]\n",
    "sig_cols"
   ]
  },
  {
   "cell_type": "code",
   "execution_count": null,
   "metadata": {
    "scrolled": false
   },
   "outputs": [],
   "source": [
    "PROPS = {\n",
    "#     'boxprops':{'facecolor':'none', 'edgecolor':'white'},\n",
    "    'medianprops':{'color':'magenta'},\n",
    "    'whiskerprops':{'color':'grey'},\n",
    "    'capprops':{'color':'white'}\n",
    "}\n",
    "\n",
    "for c in [_ for _ in sig_cols if _ != \"Age\"]:\n",
    "    print(c)\n",
    "    g = sns.factorplot(y=\"Age\",x=c,data=full_data,kind=\"box\",**PROPS)\n",
    "    plt.show()\n",
    "\n"
   ]
  },
  {
   "cell_type": "code",
   "execution_count": null,
   "metadata": {},
   "outputs": [],
   "source": [
    "print(sig_cols) \n",
    "g = sns.heatmap(full_data[sig_cols].corr(),cmap=\"coolwarm\",annot=True)\n",
    "# does not plot \"Sex\" because the machine does not understand strings thus need to hot encode"
   ]
  },
  {
   "cell_type": "code",
   "execution_count": null,
   "metadata": {},
   "outputs": [],
   "source": [
    "# map applies a transform given the key to be transformed to the associated value\n",
    "full_data[\"Sex\"] = full_data[\"Sex\"].map({\"male\":0, \"female\":1}) \n",
    "g = sns.heatmap(full_data[sig_cols].corr(),cmap=\"coolwarm\",annot=True)\n"
   ]
  },
  {
   "cell_type": "markdown",
   "metadata": {},
   "source": [
    "Age is least correlated with sex. For all other features, there is a fair amount of correlation with \"Pclass\" being the largest. Apply imputation given the similarity between the feature criteria consisting of Pclass, Parch & SibSp."
   ]
  },
  {
   "cell_type": "code",
   "execution_count": null,
   "metadata": {},
   "outputs": [],
   "source": [
    "# Filling missing value of Age \n",
    "\n",
    "## Fill Age with the median age of similar rows according to Pclass, Parch and SibSp\n",
    "# Indices of NaN age rows\n",
    "\n",
    "# median if ordinal (ranked categories)\n",
    "# or if skewed\n",
    "# b/c mean would be affected given the distro\n",
    "\n",
    "index_NaN_age = list(full_data[\"Age\"][full_data[\"Age\"].isnull()].index) \n",
    "\n",
    "for i in index_NaN_age:\n",
    "    age_med = full_data[\"Age\"].median()\n",
    "    # search for an instance matching with the feature-criteria\n",
    "    age_pred = full_data[\"Age\"][(\n",
    "        (full_data['SibSp'] == full_data.iloc[i][\"SibSp\"]) & \n",
    "        (full_data['Parch'] == full_data.iloc[i][\"Parch\"]) & \n",
    "        (full_data['Pclass'] == full_data.iloc[i][\"Pclass\"]))].median()\n",
    "    # check if there exists an instance whose correlated features associate to an age\n",
    "    if not np.isnan(age_pred): \n",
    "        print(\"Filled using predicted value:\", age_pred) # DEBUG\n",
    "        full_data['Age'].iloc[i] = age_pred\n",
    "    # case in which there does not exist a matching instance of the feature criteria\n",
    "    else:\n",
    "        print(\"Filled using median value:\", age_med) # DEBUG\n",
    "        full_data['Age'].iloc[i] = age_med"
   ]
  },
  {
   "cell_type": "code",
   "execution_count": null,
   "metadata": {},
   "outputs": [],
   "source": [
    "# Assessing quality of age imputation\n",
    "g = sns.factorplot(x=\"Survived\", y = \"Age\",data = train, kind=\"box\")\n",
    "g = sns.factorplot(x=\"Survived\", y = \"Age\",data = train, kind=\"violin\")"
   ]
  },
  {
   "cell_type": "markdown",
   "metadata": {},
   "source": [
    "Q: Why do we use a violin-plot here in contrast to a box-plot?<br>\n",
    "A: Perhaps for better visualization of distributions? This makes sense since hte box-plot does not provide much assistance in contrasting surival rate given age. Using the violin-plot, we are able to better see taht there is a higher survival rate for those that are younger.<br>\n",
    "* From the box-plot we can see that there is very little change in terms of the median age in those that survive and those that don't survive. \n",
    "* From the violin-plot we can see that there is a visible blip in the distribution denoting young passengers have a higher survival rate. \n"
   ]
  },
  {
   "cell_type": "code",
   "execution_count": null,
   "metadata": {},
   "outputs": [],
   "source": [
    "show_missing_report(full_data)"
   ]
  },
  {
   "cell_type": "markdown",
   "metadata": {},
   "source": [
    "Observing the remaining features to impute, we see that there are A LOT of missing instances for the cabin-feature. This makes me wonder if there is any relation/association between ticket numbers and cabin numbers. I doubt there would be any relation but it is worth at the very least taking a peek."
   ]
  },
  {
   "cell_type": "code",
   "execution_count": null,
   "metadata": {},
   "outputs": [],
   "source": [
    "df_tix_cab= full_data[(\n",
    "        (pd.notna(full_data['Cabin']) ) & \n",
    "        (pd.notna(full_data['Ticket'])))]\n",
    "df_tix_cab.head(25)"
   ]
  },
  {
   "cell_type": "markdown",
   "metadata": {},
   "source": [
    "#### Large Set of Missing Values: Cabin/Deck\n",
    "No shot...<br>\n",
    "Thus more referencing:\n",
    "* Advance Feature Engineering: https://www.kaggle.com/gunesevitan/titanic-advanced-feature-engineering-tutorial\n",
    "    * <b>Notable Sections:</b>\n",
    "        - EDA (notably the approach for handling the \"Cabin\" feature)\n",
    "        - Feature Engineering\n",
    "    * <b>My Takeaways & Reflections on Reading:</b>\n",
    "        - Much of the data preparation portion of data science is an application of statistics in conjunction with programming to carry out detective work -- to figure out mysteries (whether it be the problem to be solved, or dealing with values that are missing)\n",
    "        - Usage of existing knowledge (regardless of acute apparence) ie knowledge that exists that one may/may-not know of, but have a means and are permitted access to use\n",
    "        - Thinking outside of the box (in this instance -- outside the realms of programming & stats) ie a consideration of reasonable potential solutions that were not considered (google search for particular features -- NOT the target variable ie the direct answers to the main problem)\n",
    "        <br>\n",
    "        \n",
    "        \n",
    "<img src=\"Titanic_side_plan.png\" style=\"float: left; margin-right: 10px;\" />\n",
    "\n"
   ]
  },
  {
   "cell_type": "code",
   "execution_count": null,
   "metadata": {},
   "outputs": [],
   "source": [
    "full_data['Cabin'].unique()"
   ]
  },
  {
   "cell_type": "code",
   "execution_count": null,
   "metadata": {},
   "outputs": [],
   "source": [
    "regex = r\"([a-zA-Z])\\d?\"\n",
    "test = 'F G73'\n",
    "# print(test.split(\" \"))\n",
    "# [re.findall(regex,e) for e in test.split(\" \")]\n",
    "re.findall(regex,test)"
   ]
  },
  {
   "cell_type": "code",
   "execution_count": null,
   "metadata": {},
   "outputs": [],
   "source": [
    "# Create deck method 1\n",
    "# Creating Deck column from the first letter of the Cabin column (M stands for Missing)\n",
    "full_data['Deck'] = full_data['Cabin'].apply(lambda s: s[0] if pd.notnull(s) else 'M')\n",
    "\n",
    "df_all_decks = full_data.groupby(\n",
    "    ['Deck','Pclass']).count().drop(\n",
    "    columns=['Survived', 'Sex', 'Age', 'SibSp', 'Parch', \n",
    "    'Fare', 'Embarked', 'Cabin', 'PassengerId', 'Ticket']).rename(\n",
    "    columns={'Name': 'Count'}).transpose()\n",
    "df_all_decks "
   ]
  },
  {
   "cell_type": "code",
   "execution_count": null,
   "metadata": {},
   "outputs": [],
   "source": [
    "full_data.head()"
   ]
  },
  {
   "cell_type": "code",
   "execution_count": null,
   "metadata": {},
   "outputs": [],
   "source": [
    "full_data = full_data.drop(\"Deck\", axis=1)"
   ]
  },
  {
   "cell_type": "code",
   "execution_count": null,
   "metadata": {},
   "outputs": [],
   "source": [
    "# original approach was tehcnically a faulty approach \n",
    "# because certain instances have multiple DIFFERENT cabin labels pertaining to one instance\n",
    "# this can be fixed by writing an algo using a regex or a func that iterates through each instance\n",
    "# splits them up followed by a check for the map of \n",
    "for i, row in full_data.iterrows():\n",
    "    deck_str = row[\"Cabin\"]\n",
    "    # verify value is not null \n",
    "    if not pd.notnull(deck_str):\n",
    "        deck_str = \"M\" # M denoting missing\n",
    "        cabin = [deck_str]\n",
    "    else:\n",
    "        cabins = re.findall(regex,deck_str)\n",
    "    cabins = re.findall(regex,deck_str)\n",
    "    deck_count = Counter(cabins)\n",
    "    if deck_str != \"M\" and len(deck_count.keys()) > 1: # DEBUG\n",
    "        print(cabins)\n",
    "        print(deck_count)\n",
    "    for k in deck_count.keys():\n",
    "        # initialized case\n",
    "        if \"Deck_{}\".format(k) in full_data.columns:\n",
    "        # assign value for the row at the particular instance\n",
    "#             full_data.loc[i,\"Deck_{}\".format(k)] = deck_count[k]\n",
    "            pass\n",
    "        # uninitializated case\n",
    "        else:\n",
    "            pass\n",
    "#             print(\"create new aarray\")\n",
    "            # create new np.array for feature\n",
    "#             full_data[\"Deck_{}\".format(k)] = np.zeros(len(full_data))\n",
    "            # assign value for feature at a particular row\n",
    "#             full_data.loc[i,\"Deck_{}\".format(k)] = deck_count[k]\n",
    "        if \"Deck\" in full_data.columns:\n",
    "            full_data.loc[i,\"Deck\"] = \"\".join(cabins)\n",
    "        else:\n",
    "            full_data[\"Deck\"] = np.zeros(len(full_data))\n",
    "            full_data.loc[i,\"Deck\"] = \"\".join(cabins)\n",
    "            \n",
    "    # create a Deck_{room} feature for each instance...? or new feature...? ie if Deck_F does not exist create it for the length\n",
    "    # of the rows and tally the number occupied for the row instance..? at the particular row index...?\n",
    "    # the sum of Deck_M is the sum of all miniumum cabins missing ie 1 cabin per row instance at the minimum, minimum because\n",
    "    # some instances have more than 1 cabin"
   ]
  },
  {
   "cell_type": "code",
   "execution_count": null,
   "metadata": {},
   "outputs": [],
   "source": [
    "full_data[full_data[\"Deck\"] == \"BBBB\"]"
   ]
  },
  {
   "cell_type": "code",
   "execution_count": null,
   "metadata": {},
   "outputs": [],
   "source": [
    "df_all_decks = full_data.groupby(['Deck','Pclass']).count().drop(\n",
    "    columns=['Survived', 'Sex', 'Age', 'SibSp', 'Parch', 'Cabin',\n",
    "             'Fare', 'Embarked', 'PassengerId', 'Ticket'] + \n",
    "            [c for c in full_data.columns.to_list() if \"Deck_\" in c]\n",
    "    ).rename(columns={'Name': 'Count'}).transpose()\n",
    "\n",
    "df_all_decks"
   ]
  },
  {
   "cell_type": "markdown",
   "metadata": {},
   "source": [
    "* How does one reduce the feature value for the Deck column from a series of chars (Ex. BBBB) to B WHILE maintaining the count of the number of cabins booked? * Does the number of cabins books matter in terms of the problem? Considering that the cabins denote the section -- \"level\" that passengers were assigned, passengers assigned \"BBBB\" would all exist on the \"B\" level. \n",
    "- This assumption that a passenger given a deck location resolves the issue because there is no uniqueness in terms of ship location if a passenger booked a single \"B\" cabin or multiple \"BBBB\" cabins. \n",
    "* How does one handle the multiple DIFFERENT cabin label situation? \n",
    "* Does one simply duplicate the row instance and assign a single \"Deck\" value for each new instance? \n",
    "* What other features should be accounted for? \n",
    "* How much does it matter that we account for multiple unique cabins pertaining to a passenger instance?\n",
    "* Approach 03/04/21:\n",
    "    - [ ] Run with the current configuration where unique decks are allowed even if they include duplicates OR differing labels\n",
    "    - [ ] Run with the reference notebook's approach\n",
    "    - [ ] Run with an approach that consolidates decks containing multiple of the same cabin label to one single label AND generate new row instances for cabins that have multiple different cabin labels (Ex. FE results in 2 instances $x_1(deck_1=F,...,feat_i^j), x_2(deck_2=E,..., feat_i^j)$)\n",
    "    - [x] Run with an approach that utilizes both my approach in conjunction with the reference notebooks intuitions of consolidating the distribution of cabin labels given the SES distribution. "
   ]
  },
  {
   "cell_type": "code",
   "execution_count": null,
   "metadata": {},
   "outputs": [],
   "source": [
    "deck_keys = list(full_data.Deck.unique())"
   ]
  },
  {
   "cell_type": "code",
   "execution_count": null,
   "metadata": {},
   "outputs": [],
   "source": [
    "def get_pclass_dist(df):\n",
    "    \"\"\"\n",
    "    Reference: https://www.kaggle.com/gunesevitan/titanic-advanced-feature-engineering-tutorial\n",
    "    \"\"\"\n",
    "    # Creating a dictionary for every passenger class count in every deck\n",
    "    deck_counts = {k: {} for k in deck_keys}\n",
    "    decks = df.columns.levels[0]    \n",
    "    for deck in decks:\n",
    "        for pclass in range(1, 4):\n",
    "            try:\n",
    "                count = df[deck][pclass][0]\n",
    "                deck_counts[deck][pclass] = count \n",
    "            except KeyError:\n",
    "                deck_counts[deck][pclass] = 0\n",
    "    df_decks = pd.DataFrame(deck_counts)    \n",
    "    deck_percentages = {}\n",
    "    # Creating a dictionary for every passenger class percentage in every deck\n",
    "    for col in df_decks.columns:\n",
    "        deck_percentages[col] = [(count / df_decks[col].sum()) * 100 for count in df_decks[col]]\n",
    "    return deck_counts, deck_percentages\n",
    "\n",
    "def display_pclass_dist(percentages):\n",
    "    \"\"\"\n",
    "    Reference: https://www.kaggle.com/gunesevitan/titanic-advanced-feature-engineering-tutorial\n",
    "    \"\"\"\n",
    "    # needed to be sorted by index else the chart malfunctions\n",
    "    df_percentages = pd.DataFrame(percentages).transpose().sort_index() \n",
    "#     print(df_percentages[df_percentages.index == \"A\"]) #DEBUG\n",
    "    deck_names = sorted(full_data.Deck.unique())\n",
    "#     print(deck_names) # DEBUG\n",
    "    bar_count = np.arange(len(deck_names))  \n",
    "    bar_width = 0.85\n",
    "    \n",
    "    pclass1 = df_percentages[0]\n",
    "    pclass2 = df_percentages[1]\n",
    "    pclass3 = df_percentages[2]\n",
    "#     print(pclass1[0],pclass2[0],pclass3[0]) # DEBUG\n",
    "    plt.figure(figsize=(20, 10))\n",
    "    plt.bar(bar_count, pclass1, \n",
    "            color='#b5ffb9', edgecolor='white', \n",
    "            width=bar_width, label='Passenger Class 1')\n",
    "    plt.bar(bar_count, pclass2, bottom=pclass1, color='#f9bc86', edgecolor='white', width=bar_width, label='Passenger Class 2')\n",
    "    plt.bar(bar_count, pclass3, bottom=pclass1 + pclass2, color='#a3acff', edgecolor='white', width=bar_width, label='Passenger Class 3')\n",
    "\n",
    "    plt.xlabel('Deck', size=15, labelpad=20)\n",
    "    plt.ylabel('Passenger Class Percentage', size=15, labelpad=20)\n",
    "    plt.xticks(bar_count, deck_names)    \n",
    "    plt.tick_params(axis='x', labelsize=15)\n",
    "    plt.tick_params(axis='y', labelsize=15)\n",
    "    \n",
    "    plt.legend(loc='upper left', bbox_to_anchor=(1, 1), prop={'size': 15})\n",
    "    plt.title('Passenger Class Distribution in Decks', size=18, y=1.05)   \n",
    "    plt.grid(axis=\"y\")\n",
    "    plt.show()    \n",
    "\n",
    "all_deck_count, all_deck_per = get_pclass_dist(df_all_decks)\n",
    "display_pclass_dist(all_deck_per)\n",
    "# print(all_deck_per[\"A\"]) # DEBUG"
   ]
  },
  {
   "cell_type": "code",
   "execution_count": null,
   "metadata": {},
   "outputs": [],
   "source": [
    "df_all_decks = full_data.groupby(['Deck','Pclass']).count().drop(\n",
    "    columns=['Survived', 'Sex', 'Age', 'SibSp', 'Parch', 'Cabin',\n",
    "             'Fare', 'Embarked', 'PassengerId', 'Ticket'] + \n",
    "            [c for c in full_data.columns.to_list() if \"Deck_\" in c]\n",
    "    ).rename(columns={'Name': 'Count'}).transpose()\n",
    "\n",
    "df_all_decks"
   ]
  },
  {
   "cell_type": "markdown",
   "metadata": {},
   "source": [
    "Upon deeper inspection, we can see that cabins A,B & C all contain 1st class passengers. Furthermore, ALL passengers even if they have multiple cabins booked remain the same. This makes sense, in that duplications in the cabin bookings do not necessarily matter much in its relation to class. Thus, instances with any permutation of A,B or C or duplicates in the string can be modified to be \"ABC\" representing 1st class. \n"
   ]
  },
  {
   "cell_type": "code",
   "execution_count": null,
   "metadata": {},
   "outputs": [],
   "source": [
    "deck_names = sorted(full_data.Deck.unique())\n",
    "deck_names"
   ]
  },
  {
   "cell_type": "code",
   "execution_count": null,
   "metadata": {},
   "outputs": [],
   "source": [
    "deck_map = {}\n",
    "for d in deck_names:\n",
    "    if \"A\" in d:\n",
    "        deck_map[d] = \"ABC\"\n",
    "    elif \"B\" in d:\n",
    "        deck_map[d] = \"ABC\"\n",
    "    elif \"C\" in d:\n",
    "        deck_map[d] = \"ABC\"\n",
    "    elif \"D\" in d:\n",
    "        deck_map[d] = \"DE\"\n",
    "    elif \"E\" in d:\n",
    "        deck_map[d] = \"DE\"\n",
    "    elif \"F\" in d:\n",
    "        deck_map[d] = \"FG\"\n",
    "    elif \"G\" in d:\n",
    "        deck_map[d] = \"FG\"\n",
    "deck_map[np.nan] = \"M\"\n",
    "        \n",
    "deck_map"
   ]
  },
  {
   "cell_type": "code",
   "execution_count": null,
   "metadata": {},
   "outputs": [],
   "source": [
    "# apply map function for replacing exisitng labels with new label group\n",
    "full_data[\"Deck\"] = full_data[\"Deck\"].map(deck_map)\n",
    "full_data.Deck = full_data.Deck.replace(np.nan, \"M\")\n",
    "full_data.head()"
   ]
  },
  {
   "cell_type": "code",
   "execution_count": null,
   "metadata": {},
   "outputs": [],
   "source": [
    "full_data[\"Deck\"].unique()"
   ]
  },
  {
   "cell_type": "code",
   "execution_count": null,
   "metadata": {},
   "outputs": [],
   "source": [
    "df_all_decks = full_data.groupby(['Deck','Pclass']).count().drop(\n",
    "    columns=['Survived', 'Sex', 'Age', 'SibSp', 'Parch', 'Cabin',\n",
    "             'Fare', 'Embarked', 'PassengerId', 'Ticket'] + \n",
    "            [c for c in full_data.columns.to_list() if \"Deck_\" in c]\n",
    "    ).rename(columns={'Name': 'Count'}).transpose()\n",
    "\n",
    "df_all_decks"
   ]
  },
  {
   "cell_type": "markdown",
   "metadata": {},
   "source": [
    "The reference notebook points out that it is not worth it to further imput for the missing Deck features (M) citing that those with missing Deck values have the lowest surival rate. \n",
    "* Is this claim true? \n",
    "* Is this an appropriate rationale to halt further imputation?\n",
    "* What grounds this reasoning? \n",
    "    - Perhaps it's the case in which the provision of a value for the random variable \"Deck\" creates a defining -- a concrete characteristic in the dataset from which a trained algo is able to deduce from a given input passenger instance an output of the random target variable of survival"
   ]
  },
  {
   "cell_type": "code",
   "execution_count": null,
   "metadata": {},
   "outputs": [],
   "source": [
    "g = sns.factorplot(x=\"Deck\",y=\"Survived\",data=full_data,kind=\"bar\", size = 6 , \n",
    "palette = \"muted\")\n",
    "g.despine(left=True)\n",
    "g = g.set_ylabels(\"survival probability\")\n",
    "plt.grid(axis=\"y\")\n",
    "plt.title(\"Survived VS {}\".format(\"Deck\"))"
   ]
  },
  {
   "cell_type": "code",
   "execution_count": null,
   "metadata": {},
   "outputs": [],
   "source": [
    "full_data['Deck'].value_counts()"
   ]
  },
  {
   "cell_type": "code",
   "execution_count": null,
   "metadata": {},
   "outputs": [],
   "source": [
    "show_missing_report(full_data)"
   ]
  },
  {
   "cell_type": "markdown",
   "metadata": {},
   "source": [
    "Drop \"Cabin\" feature in favor of using \"Deck\" as its replacement"
   ]
  },
  {
   "cell_type": "code",
   "execution_count": null,
   "metadata": {},
   "outputs": [],
   "source": [
    "full_data = full_data.drop(\"Cabin\", axis=1)"
   ]
  },
  {
   "cell_type": "code",
   "execution_count": null,
   "metadata": {},
   "outputs": [],
   "source": [
    "show_missing_report(full_data)"
   ]
  },
  {
   "cell_type": "markdown",
   "metadata": {},
   "source": [
    "#### Embarked"
   ]
  },
  {
   "cell_type": "code",
   "execution_count": null,
   "metadata": {},
   "outputs": [],
   "source": [
    "# select instance in which Embarked feature is empty\n",
    "full_data[full_data.Embarked.isna()]"
   ]
  },
  {
   "cell_type": "markdown",
   "metadata": {},
   "source": [
    "Reference: https://www.encyclopedia-titanica.org/titanic-survivor/martha-evelyn-stone.html\n",
    "```sh\n",
    "\"Mrs Stone boarded the Titanic in Southampton on 10 April 1912 and was travelling in first class with her maid Amelie Icard. She occupied cabin B-28\"\n",
    "```\n"
   ]
  },
  {
   "cell_type": "code",
   "execution_count": null,
   "metadata": {},
   "outputs": [],
   "source": [
    "# select instance in which Embarked feature is empty to fill\n",
    "full_data.Embarked = full_data.Embarked.fillna(\"S\")"
   ]
  },
  {
   "cell_type": "code",
   "execution_count": null,
   "metadata": {},
   "outputs": [],
   "source": [
    "show_missing_report(full_data)"
   ]
  },
  {
   "cell_type": "code",
   "execution_count": null,
   "metadata": {},
   "outputs": [],
   "source": [
    "med_fare = full_data.groupby(['Pclass', 'Parch', 'SibSp']).Fare.median()[3][0][0]\n",
    "med_fare"
   ]
  },
  {
   "cell_type": "code",
   "execution_count": null,
   "metadata": {},
   "outputs": [],
   "source": [
    "full_data['Fare'] = full_data['Fare'].fillna(med_fare)"
   ]
  },
  {
   "cell_type": "code",
   "execution_count": null,
   "metadata": {},
   "outputs": [],
   "source": [
    "show_missing_report(full_data)\n",
    "# feature imputation done!"
   ]
  },
  {
   "cell_type": "code",
   "execution_count": null,
   "metadata": {},
   "outputs": [],
   "source": [
    "# map applies a transform given the key to be transformed to the associated value\n",
    "# full_data[\"Sex\"] = full_data[\"Sex\"].map({\"male\":0, \"female\":1}) \n",
    "# g = sns.heatmap(full_data[sig_cols].corr(),cmap=\"coolwarm\",annot=True)\n",
    "df_train = full_data[full_data[\"Survived\"].notnull()]\n",
    "train_ids = df_train[\"PassengerId\"]\n",
    "df_train = df_train.drop(\"PassengerId\", axis=1)\n",
    "\n",
    "df_test = full_data[full_data[\"Survived\"].isna()]\n",
    "test_ids = df_test[\"PassengerId\"]\n",
    "df_test = df_test.drop(\"Survived\", axis=1)\n",
    "df_test = df_test.drop(\"PassengerId\", axis=1)\n",
    "\n",
    "\n",
    "display(df_train.shape, df_test.shape)\n"
   ]
  },
  {
   "cell_type": "code",
   "execution_count": null,
   "metadata": {},
   "outputs": [],
   "source": [
    "def create_correlation_report(df, min_corr_coeff=0.1):\n",
    "    \"\"\"\n",
    "    \"\"\"\n",
    "    df_corr = df.corr().abs().unstack().sort_values(\n",
    "    kind=\"quicksort\", ascending=False).reset_index()\n",
    "\n",
    "    df_corr.rename(\n",
    "        columns={\"level_0\": \"Feature 1\", \"level_1\": \"Feature 2\", \n",
    "             0: 'Correlation Coefficient'}, inplace=True)\n",
    "\n",
    "    df_corr.drop(df_corr.iloc[1::2].index, inplace=True)\n",
    "\n",
    "    df_corr_nd = df_corr.drop(\n",
    "    df_corr[df_corr['Correlation Coefficient'] == 1.0].index)\n",
    "    return df_corr_nd[df_corr['Correlation Coefficient'] > min_corr_coeff]"
   ]
  },
  {
   "cell_type": "code",
   "execution_count": null,
   "metadata": {},
   "outputs": [],
   "source": [
    "df_train_corr = df_train.corr().abs().unstack().sort_values(\n",
    "    kind=\"quicksort\", ascending=False).reset_index()\n",
    "\n",
    "df_train_corr.rename(\n",
    "    columns={\"level_0\": \"Feature 1\", \"level_1\": \"Feature 2\", \n",
    "             0: 'Correlation Coefficient'}, inplace=True)\n",
    "\n",
    "df_train_corr.drop(df_train_corr.iloc[1::2].index, inplace=True)\n",
    "\n",
    "df_train_corr_nd = df_train_corr.drop(\n",
    "    df_train_corr[df_train_corr['Correlation Coefficient'] == 1.0].index)\n",
    "\n",
    "df_test_corr = df_test.corr().abs().unstack().sort_values(\n",
    "    kind=\"quicksort\", ascending=False).reset_index()\n",
    "\n",
    "df_test_corr.rename(columns={\n",
    "    \"level_0\": \"Feature 1\", \"level_1\": \"Feature 2\", \n",
    "    0: 'Correlation Coefficient'}, inplace=True)\n",
    "\n",
    "df_test_corr.drop(df_test_corr.iloc[1::2].index, inplace=True)\n",
    "\n",
    "df_test_corr_nd = df_test_corr.drop(\n",
    "    df_test_corr[df_test_corr['Correlation Coefficient'] == 1.0].index)\n",
    "\n",
    "# Training set high correlations\n",
    "corr = df_train_corr_nd['Correlation Coefficient'] > 0.1\n",
    "# display(df_train_corr_nd[corr])\n"
   ]
  },
  {
   "cell_type": "code",
   "execution_count": null,
   "metadata": {},
   "outputs": [],
   "source": [
    "# Test set high correlations\n",
    "corr = df_test_corr_nd['Correlation Coefficient'] > 0.1\n",
    "# display(df_test_corr_nd[corr])\n"
   ]
  },
  {
   "cell_type": "code",
   "execution_count": null,
   "metadata": {},
   "outputs": [],
   "source": [
    "def plot_continuous_feats(df, features):\n",
    "    \"\"\"\n",
    "    \"\"\"\n",
    "    surv = df['Survived'] == 1\n",
    "\n",
    "    fig, axs = plt.subplots(ncols=2, nrows=2, figsize=(20,20))\n",
    "    plt.subplots_adjust(right=1.5)\n",
    "\n",
    "    for i, feature in enumerate(features):    \n",
    "        # Distribution of survival in feature\n",
    "        sns.distplot(df[~surv][feature], label='Not Survived', \n",
    "                     hist=True, color='#e74c3c', ax=axs[0][i])\n",
    "        sns.distplot(df[surv][feature], label='Survived', \n",
    "                     hist=True, color='#2ecc71', ax=axs[0][i])\n",
    "\n",
    "        # Distribution of feature in dataset\n",
    "        sns.distplot(df[feature], label='Training Set', hist=False, color='#e74c3c', ax=axs[1][i])\n",
    "        sns.distplot(df_test[feature], label='Test Set', hist=False, color='#2ecc71', ax=axs[1][i])\n",
    "\n",
    "        axs[0][i].set_xlabel('')\n",
    "        axs[1][i].set_xlabel('')\n",
    "        for j in range(2):        \n",
    "            axs[i][j].tick_params(axis='x', labelsize=20)\n",
    "            axs[i][j].tick_params(axis='y', labelsize=20)\n",
    "            axs[i][j].grid(axis=\"y\")\n",
    "\n",
    "        axs[0][i].legend(loc='upper right', prop={'size': 20})\n",
    "        axs[1][i].legend(loc='upper right', prop={'size': 20})\n",
    "        axs[0][i].set_title('Distribution of Survival in {}'.format(feature), size=20, y=1.05)\n",
    "\n",
    "    axs[1][0].set_title('Distribution of {} Feature'.format('Age'), size=20, y=1.05)\n",
    "    axs[1][1].set_title('Distribution of {} Feature'.format('Fare'), size=20, y=1.05)\n",
    "    # plt.grid(axis=\"y\")\n",
    "\n",
    "    plt.show()"
   ]
  },
  {
   "cell_type": "code",
   "execution_count": null,
   "metadata": {},
   "outputs": [],
   "source": [
    "def plot_categorical_feats(df, features):\n",
    "    \"\"\"\n",
    "    df: input pandas.DataFrame\n",
    "    features: columns to be displayed\n",
    "    \"\"\"\n",
    "    fig, axs = plt.subplots(ncols=2, nrows=3, figsize=(20, 20))\n",
    "    plt.subplots_adjust(right=1.5, top=1.25)\n",
    "\n",
    "    for i, feature in enumerate(features, 1):    \n",
    "        plt.subplot(2, 3, i)\n",
    "        sns.countplot(x=feature, hue='Survived', data=df)\n",
    "\n",
    "        plt.xlabel('{}'.format(feature), size=20, labelpad=15)\n",
    "        plt.ylabel('Passenger Count', size=20, labelpad=15)    \n",
    "        plt.tick_params(axis='x', labelsize=20)\n",
    "        plt.tick_params(axis='y', labelsize=20)\n",
    "\n",
    "        plt.legend(['Not Survived', 'Survived'], loc='upper center', prop={'size': 18})\n",
    "        plt.title('Count of Survival in {} Feature'.format(feature), size=20, y=1.05)\n",
    "        plt.grid(axis=\"y\")\n",
    "\n",
    "    plt.show()\n",
    "    "
   ]
  },
  {
   "cell_type": "code",
   "execution_count": null,
   "metadata": {
    "scrolled": false
   },
   "outputs": [],
   "source": [
    "cont_feats = ['Age', 'Fare']\n",
    "cat_feats = ['Embarked', 'Parch', 'Pclass', 'Sex', 'SibSp', 'Deck']\n",
    "plot_continuous_feats(df_train, cont_feats)\n",
    "plot_categorical_feats(df_train, cat_feats)"
   ]
  },
  {
   "cell_type": "code",
   "execution_count": null,
   "metadata": {},
   "outputs": [],
   "source": [
    "# print(sig_cols) \n",
    "g = sns.heatmap(df_train.corr(),cmap=\"coolwarm\",annot=True)\n",
    "plt.title(\"Train Set Correlation Matrix\")\n",
    "plt.show()\n",
    "# does not plot \"Sex\" because the machine does not understand strings thus need to hot encode"
   ]
  },
  {
   "cell_type": "code",
   "execution_count": null,
   "metadata": {
    "scrolled": true
   },
   "outputs": [],
   "source": [
    "g = sns.heatmap(df_test.corr(),cmap=\"coolwarm\",annot=True)\n",
    "plt.title(\"Test Set Correlation Matrix\")\n",
    "plt.show()"
   ]
  },
  {
   "cell_type": "code",
   "execution_count": null,
   "metadata": {},
   "outputs": [],
   "source": [
    "\n",
    "print(\"Training Set Feature Correlation\")\n",
    "report_train = create_correlation_report(df_train)\n",
    "display(len(report_train))\n",
    "display(report_train)\n",
    "\n",
    "print(\"Testing Set Feature Correlation\")\n",
    "report_test = create_correlation_report(df_test)\n",
    "display(len(report_test))\n",
    "display(report_test)"
   ]
  },
  {
   "cell_type": "markdown",
   "metadata": {},
   "source": [
    "## EDA: Post-Completion Review\n",
    "* Reference: https://www.kaggle.com/gunesevitan/titanic-advanced-feature-engineering-tutorial/output#2.-Feature-Engineering\n",
    "* Features of the highest correlation: \n",
    "    * Pclass VS Fare\n",
    "        - ~$0.556 = corr_{train}(x_{Pclass}, x_{Fare})$\n",
    "        - ~$0.577 = corr_{test}(x_{Pclass}, x_{Fare})$\n",
    "    * Age vs Pclass\n",
    "        - ~$0.546 = corr_{train}(x_{Sex}, x_{Survived})$\n",
    "        - ~$0.521 = corr_{test}(x_{Pclass}, x_{Age})$\n",
    "    * All the other features are highly correlated with a factor greater than 0.1 \n",
    "        - 15 correlations for the training set\n",
    "        - 10 correlations for the testing set\n",
    "* Continuos Features:\n",
    "    * Age and Fare make for good features in which there exist \"good split points and spikes\" for a decision tree to learn\n",
    "        - What makes a decision tree appropriate for this type of problem? \n",
    "        - How does a decision tree handle priors depicted in Age and Fare?\n",
    "        - What are the assumptions when using a decision tree?\n",
    "        - Why are the spikes easily capture by a decision tree? Is it because a tree by its nature resistant to non-Gaussian distributions?\n",
    "* Categorical Features\n",
    "    * Passengers who embarked from Southampton have the lowest chance of survival\n",
    "    * Passengers who embarked from Cherbourg have the highest survival rate\n",
    "    * The trend of passenger survival rate and its relation to port of departure is likely related to Pclass (SES)\n",
    "    * Women were more likley to survive in contrast to men\n",
    "    * Passengers who had one or more family members -- particularly less than or equal 2 and greater than 0 had a higher rate of survival when observing SibSp and Parch\n",
    "\n",
    "* Conclusions\n",
    "    * The categorical and continuos features are highly correlated with the target feature\n",
    "    * Categorical features may be used to generate new features \n",
    "    "
   ]
  },
  {
   "cell_type": "markdown",
   "metadata": {},
   "source": [
    "## Feature Engineering (FE): Revisited \n",
    "This section utilizes exterior notebooks as form of guidance towards learning about the various methods of creating new features from existing features."
   ]
  },
  {
   "cell_type": "markdown",
   "metadata": {},
   "source": [
    "### Binning/Discretization\n",
    "Binning of continuos variables results in new categorical features. Binning introduces <b>non-linearity</b> which may improve the performance of a model. In addition, it can be used for identifying missing values or outliers. More info on binning: https://towardsdatascience.com/feature-engineering-deep-dive-into-encoding-and-binning-techniques-5618d55a6b38"
   ]
  },
  {
   "cell_type": "code",
   "execution_count": null,
   "metadata": {},
   "outputs": [],
   "source": [
    "g = sns.distplot(full_data[\"Fare\"], color=\"m\", label=\"Skewness : %.2f\"%(full_data[\"Fare\"].skew()))\n",
    "g = g.legend(loc=\"best\")\n",
    "plt.title(\"{} Distribution\".format(\"Fare\"))\n",
    "plt.show()"
   ]
  },
  {
   "cell_type": "code",
   "execution_count": null,
   "metadata": {},
   "outputs": [],
   "source": [
    "# df_all['Fare'] = pd.qcut(df_all['Fare'], 13)"
   ]
  },
  {
   "cell_type": "code",
   "execution_count": null,
   "metadata": {},
   "outputs": [],
   "source": [
    "# fig, axs = plt.subplots(figsize=(22, 9))\n",
    "# sns.countplot(x='Fare', hue='Survived', data=df_all)\n",
    "\n",
    "# plt.xlabel('Fare', size=15, labelpad=20)\n",
    "# plt.ylabel('Passenger Count', size=15, labelpad=20)\n",
    "# plt.tick_params(axis='x', labelsize=10)\n",
    "# plt.tick_params(axis='y', labelsize=15)\n",
    "\n",
    "# plt.legend(['Not Survived', 'Survived'], loc='upper right', prop={'size': 15})\n",
    "# plt.title('Count of Survival in {} Feature'.format('Fare'), size=15, y=1.05)\n",
    "\n",
    "# plt.show()\n"
   ]
  },
  {
   "cell_type": "code",
   "execution_count": null,
   "metadata": {},
   "outputs": [],
   "source": [
    "# df_all['Age'] = pd.qcut(df_all['Age'], 10)"
   ]
  },
  {
   "cell_type": "code",
   "execution_count": null,
   "metadata": {},
   "outputs": [],
   "source": [
    "# fig, axs = plt.subplots(figsize=(22, 9))\n",
    "# sns.countplot(x='Age', hue='Survived', data=df_all)\n",
    "\n",
    "# plt.xlabel('Age', size=15, labelpad=20)\n",
    "# plt.ylabel('Passenger Count', size=15, labelpad=20)\n",
    "# plt.tick_params(axis='x', labelsize=15)\n",
    "# plt.tick_params(axis='y', labelsize=15)\n",
    "\n",
    "# plt.legend(['Not Survived', 'Survived'], loc='upper right', prop={'size': 15})\n",
    "# plt.title('Survival Counts in {} Feature'.format('Age'), size=15, y=1.05)\n",
    "\n",
    "# plt.show()"
   ]
  },
  {
   "cell_type": "markdown",
   "metadata": {},
   "source": [
    "* Fare:\n",
    "    - The Fare feature holds an extremely large positive skew. \n",
    "    - The referenced notebook applies a quantile binning to generate 13 new categorical features from the Fare feature. It considers 13 new bins to be too much -- why is it too much? What is a more appropriate quantity of bins? \n",
    "    - How does pandas.qcut operate in its generation of the specified number of bins?\n",
    "    - How does the following differ from each other?\n",
    "```sh\n",
    "pandas.cut(...)\n",
    "pandas.qcut(...)\n",
    "```\n",
    "    \n",
    "* Age:\n",
    "    - The feature appears to be distributed according to a Gaussian\n",
    "    - Why was 10 specified for the number of bins to be created? How did the author arrive at the value?\n",
    "    - Why do we not normalize this feature? It would make sense to NOT normalize because during feature engineering we'd be able to create new features -- bins for potentially making it explicit that instances pertaining to a particular bin such as a bin pertaining to a large spike in the distribution plot share a relation to the target feature. If one preemptively normalized the feature, one would not be able to gain further insight from the random feature variable."
   ]
  },
  {
   "cell_type": "markdown",
   "metadata": {},
   "source": [
    "### Frequency Encoding\n",
    "* How does frequency encoding differ from binning/discretization? \n",
    "* Some references define frequency encoding to be the conversion of categorical features into frequencies. Are these new frequency features continuos? In constrast, there are also places defining frequency encoding to be carried out with consideration of the frequency distribution.\n",
    "    - https://towardsdatascience.com/all-about-categorical-variable-encoding-305f3361fd02\n",
    "    - https://python-data-science.readthedocs.io/en/latest/preprocess.html\n",
    "    - DataCamp Encoding Methodologies: https://www.datacamp.com/community/tutorials/encoding-methodologies\n",
    "    > \"It (frequency encoding) is a way to utilize the frequency of the categories as labels. In the cases where the frequency is related somewhat with the target variable, it helps the model to understand and assign the weight in direct and inverse proportion, depending on the nature of the data.\"\n",
    "\n",
    "\n",
    "* What are the different types of categorical features?\n",
    "    - Reference: https://towardsdatascience.com/understanding-feature-engineering-part-2-categorical-data-f54324193e63\n",
    "    - Nominal\n",
    "    - Ordinal\n",
    "    - How does nominal differ from ordinal?\n",
    "We can create a new feature \"Family_Size\" by using SibSp and Parch. Recall that SibSp denotes the number of siblings and spouses entow with a passenger instance. In addition, Parch denotes the number of parents and children pertaining to the passenger. We can represent \"Family_Size\" as follows:<br>\n",
    "$size_{family} = SibSp + Parch + 1$<br>\n",
    "We include 1 to acccount for the passenger instance's self. \n",
    "* The reason for creating this new feature is the correlation between family size and survival rate observed between SipSp VS Survived and Parch VS Survived\n",
    "* After creating the new continuos feature, we can take it a step further by creating bins\n",
    "* Care needs to given here when defining the new categorical features because we want to create a seperation between different group sizes "
   ]
  },
  {
   "cell_type": "code",
   "execution_count": null,
   "metadata": {},
   "outputs": [],
   "source": [
    "full_data[\"FamilySize\"] = full_data.SibSp + full_data.Parch + 1\n",
    "full_data.head()"
   ]
  },
  {
   "cell_type": "code",
   "execution_count": null,
   "metadata": {},
   "outputs": [],
   "source": [
    "\n",
    "# fig, axs = plt.subplots(figsize=(20, 20), ncols=2, nrows=2)\n",
    "# plt.subplots_adjust(right=1.5)\n",
    "\n",
    "# sns.barplot(x=df_all['Family_Size'].value_counts().index, y=df_all['Family_Size'].value_counts().values, ax=axs[0][0])\n",
    "# sns.countplot(x='Family_Size', hue='Survived', data=df_all, ax=axs[0][1])\n",
    "\n",
    "# axs[0][0].set_title('Family Size Feature Value Counts', size=20, y=1.05)\n",
    "# axs[0][1].set_title('Survival Counts in Family Size ', size=20, y=1.05)\n",
    "\n",
    "# family_map = {1: 'Alone', 2: 'Small', 3: 'Small', 4: 'Small', 5: 'Medium', 6: 'Medium', 7: 'Large', 8: 'Large', 11: 'Large'}\n",
    "# df_all['Family_Size_Grouped'] = df_all['Family_Size'].map(family_map)\n",
    "\n",
    "# sns.barplot(x=df_all['Family_Size_Grouped'].value_counts().index, y=df_all['Family_Size_Grouped'].value_counts().values, ax=axs[1][0])\n",
    "# sns.countplot(x='Family_Size_Grouped', hue='Survived', data=df_all, ax=axs[1][1])\n",
    "\n",
    "# axs[1][0].set_title('Family Size Feature Value Counts After Grouping', size=20, y=1.05)\n",
    "# axs[1][1].set_title('Survival Counts in Family Size After Grouping', size=20, y=1.05)\n",
    "\n",
    "# for i in range(2):\n",
    "#     axs[i][1].legend(['Not Survived', 'Survived'], loc='upper right', prop={'size': 20})\n",
    "#     for j in range(2):\n",
    "#         axs[i][j].tick_params(axis='x', labelsize=20)\n",
    "#         axs[i][j].tick_params(axis='y', labelsize=20)\n",
    "#         axs[i][j].set_xlabel('')\n",
    "#         axs[i][j].set_ylabel('')\n",
    "\n",
    "# plt.show()\n"
   ]
  },
  {
   "cell_type": "markdown",
   "metadata": {},
   "source": [
    "### Grouping by Label Frequency\n",
    "* There exists a large number of unique ticketIDs\n",
    "* Grouping of tickets by their frequencies\n",
    "* <b>How is this feature any different than FamilySize?</b>\n",
    "    - Reference: https://www.kaggle.com/gunesevitan/titanic-advanced-feature-engineering-tutorial/output#2.-Feature-Engineering\n",
    "    - Claim/Assumption/Explanation: \n",
    "    > \"Many passengers travelled along with groups. Those groups consist of friends, nannies, maids and etc. They weren't counted as family, but they used the same ticket.\"\n",
    "    - My Thoughts + Concerns:\n",
    "    > Insert Stuff\n",
    "\n",
    "* <b>Why not group tickets by their prefixes?</b>\n",
    "    - Reference: https://www.kaggle.com/gunesevitan/titanic-advanced-feature-engineering-tutorial/output#2.-Feature-Engineering\n",
    "    - Claim/Assumption/Explanation:\n",
    "    > \"If prefixes in Ticket feature has any meaning, then they are already captured in Pclass or Embarked features because that could be the only logical information which can be derived from the Ticket feature. According to the graph below, groups with 2,3 and 4 members had a higher survival rate. Passengers who travel alone has the lowest survival rate. After 4 group members, survival rate decreases drastically. This pattern is very similar to Family_Size feature but there are minor differences. Ticket_Frequency values are not grouped like Family_Size because that would basically create the same feature with perfect correlation. This kind of feature wouldn't provide any additional information gain.\"\n",
    "    - My Thoughts + Concerns:\n",
    "    > Insert Stuff\n",
    "* A Deeper Dive into the Title Feature: https://www.kaggle.com/pliptor/titanic-ticket-only-study/notebook\n",
    "    "
   ]
  },
  {
   "cell_type": "code",
   "execution_count": null,
   "metadata": {},
   "outputs": [],
   "source": [
    "len(full_data.Ticket.unique())\n",
    "len(full_data.Ticket)"
   ]
  },
  {
   "cell_type": "code",
   "execution_count": null,
   "metadata": {},
   "outputs": [],
   "source": [
    "\n",
    "# full_data.groupby('Ticket')[\"Ticket\"].transform()"
   ]
  },
  {
   "cell_type": "code",
   "execution_count": null,
   "metadata": {},
   "outputs": [],
   "source": [
    "# create a feature that denotes the frequency for each unique ticket in the set of all ticketIDs\n",
    "full_data[\"TicketFrequency\"] = full_data.groupby('Ticket')['Ticket'].transform('count')\n",
    "full_data.head()"
   ]
  },
  {
   "cell_type": "code",
   "execution_count": null,
   "metadata": {},
   "outputs": [],
   "source": [
    "fig, axs = plt.subplots(figsize=(12, 9))\n",
    "sns.countplot(x='TicketFrequency', hue='Survived', data=full_data)\n",
    "\n",
    "plt.xlabel('Ticket Frequency', size=15, labelpad=20)\n",
    "plt.ylabel('Passenger Count', size=15, labelpad=20)\n",
    "plt.tick_params(axis='x', labelsize=15)\n",
    "plt.tick_params(axis='y', labelsize=15)\n",
    "\n",
    "plt.legend(['Not Survived', 'Survived'], loc='upper right', prop={'size': 15})\n",
    "plt.title('Count of Survival in {} Feature'.format('Ticket Frequency'), size=15, y=1.05)\n",
    "\n",
    "plt.show()"
   ]
  },
  {
   "cell_type": "markdown",
   "metadata": {},
   "source": [
    "### New \"Title\" Feature"
   ]
  },
  {
   "cell_type": "markdown",
   "metadata": {},
   "source": [
    "Observing the Name feature, we see that there exists a Title -- a label/classification of the persons social status. Again when referring to the notebook: https://www.kaggle.com/gunesevitan/titanic-advanced-feature-engineering-tutorial/output#2.-Feature-Engineering there are claims to \"correct\" the labels. <br>\n",
    "<br>\n",
    "From the notebook of reference,\n",
    "> \"Title is created by extracting the prefix before Name feature. According to graph below, there are many titles that are occuring very few times. Some of those titles doesn't seem correct and they need to be replaced. Miss, Mrs, Ms, Mlle, Lady, Mme, the Countess, Dona titles are replaced with Miss/Mrs/Ms because all of them are female. Values like Mlle, Mme and Dona are actually the name of the passengers, but they are classified as titles because Name feature is split by comma. Dr, Col, Major, Jonkheer, Capt, Sir, Don and Rev titles are replaced with Dr/Military/Noble/Clergy because those passengers have similar characteristics. Master is a unique title. It is given to male passengers below age 26. They have the highest survival rate among all males.<br><br>\n",
    "Is_Married is a binary feature based on the Mrs title. Mrs title has the highest survival rate among other female titles. This title needs to be a feature because all female titles are grouped with each other.\"\n",
    "\n",
    "Naturally, the questions that come to mind include:\n",
    "- What defines correctness in this particular context?\n",
    "- Why are these Titles considered to be incorrect by the referenced notebook?\n",
    "- What is overlooked by the referenced notebook?\n",
    "    - The replacement of the gender specific labels (Ex.'Ms') with Miss/Mrs/Ms makes sense\n",
    "    - Concerns are in regard to the IsMarried portion which from further inspection appears to be correct due to the order in which the IsMarried feature was created with respect to changes applied to the Title feature ie the referecned notebok was correct in deliberately defining the marriage status for all women with honorific title 'Mrs'. \n",
    "    - The case for men being labelled married does not exist. Perhaps this is something that could be further investigated? \n",
    "    - The case of alternative honorifics such as Mme, Lady, Mlle were given a blanket statement of being replaced prior to accounting for their implication of marriage status.\n",
    "        - Countess, Lady?, Dona (Senora)\n",
    "            - Reference: https://en.wikipedia.org/wiki/English_honorifics\n",
    "            - Lady: for female peers with the rank of baroness, viscountess, countess, and marchioness, or the wives of men who hold the equivalent titles. By courtesy the title is often also used for wives of Knights and Baronets. \n",
    "            - Implication of marriage status\n",
    "            - Despite the research, these labels appear to be unreiliable in the implication of a woman's marriage status. They appear to be more reliable for implying class status. Therefore, it is perhaps correct to operate using just the English differentiation of Mrs vs Ms for interpretting marriage statuses. Although it is incomplete, it serves as another layer of detail for differentiating between the women who survive.\n",
    "        - Mlle (Mademoiselle) ie unmarried woman\n",
    "        "
   ]
  },
  {
   "cell_type": "code",
   "execution_count": null,
   "metadata": {},
   "outputs": [],
   "source": [
    "full_data.Name.head(10)"
   ]
  },
  {
   "cell_type": "code",
   "execution_count": null,
   "metadata": {},
   "outputs": [],
   "source": [
    "full_data['Title'] = full_data['Name'].str.split(', ', expand=True)[1].str.split('.', expand=True)[0]\n",
    "full_data.head()"
   ]
  },
  {
   "cell_type": "code",
   "execution_count": null,
   "metadata": {},
   "outputs": [],
   "source": [
    "full_data.Title.unique()"
   ]
  },
  {
   "cell_type": "code",
   "execution_count": null,
   "metadata": {},
   "outputs": [],
   "source": [
    "fig, axs = plt.subplots(nrows=2, figsize=(20, 20))\n",
    "sns.barplot(x=full_data['Title'].value_counts().index, y=full_data['Title'].value_counts().values, ax=axs[0])\n",
    "\n",
    "axs[0].tick_params(axis='x', labelsize=10)\n",
    "axs[1].tick_params(axis='x', labelsize=15)\n",
    "\n",
    "for i in range(2):    \n",
    "    axs[i].tick_params(axis='y', labelsize=15)\n",
    "\n",
    "axs[0].set_title('Title Feature Value Counts', size=20, y=1.05)\n",
    "\n",
    "full_data['Title'] = full_data['Title'].replace(['Miss', 'Mrs','Ms', 'Mlle', 'Lady', 'Mme', 'the Countess', 'Dona'], 'Miss/Mrs/Ms')\n",
    "full_data['Title'] = full_data['Title'].replace(['Dr', 'Col', 'Major', 'Jonkheer', 'Capt', 'Sir', 'Don', 'Rev'], 'Dr/Military/Noble/Clergy')\n",
    "\n",
    "sns.barplot(x=full_data['Title'].value_counts().index, y=full_data['Title'].value_counts().values, ax=axs[1])\n",
    "axs[1].set_title('Title Feature Value Counts After Grouping', size=20, y=1.05)\n",
    "\n",
    "plt.show()"
   ]
  },
  {
   "cell_type": "code",
   "execution_count": null,
   "metadata": {},
   "outputs": [],
   "source": [
    "# def extract_surname(data):    \n",
    "    \n",
    "#     families = []\n",
    "    \n",
    "#     for i in range(len(data)):        \n",
    "#         name = data.iloc[i]\n",
    "\n",
    "#         if '(' in name:\n",
    "#             name_no_bracket = name.split('(')[0] \n",
    "#         else:\n",
    "#             name_no_bracket = name\n",
    "            \n",
    "#         family = name_no_bracket.split(',')[0]\n",
    "#         title = name_no_bracket.split(',')[1].strip().split(' ')[0]\n",
    "        \n",
    "#         for c in string.punctuation:\n",
    "#             family = family.replace(c, '').strip()\n",
    "            \n",
    "#         families.append(family)\n",
    "            \n",
    "#     return families\n",
    "\n",
    "# full_data['Family'] = extract_surname(full_data['Name'])\n",
    "# df_train = full_data.loc[:890]\n",
    "# df_test = full_data.loc[891:]\n",
    "# dfs = [df_train, df_test]"
   ]
  },
  {
   "cell_type": "markdown",
   "metadata": {},
   "source": [
    "# Analysis of Models"
   ]
  },
  {
   "cell_type": "markdown",
   "metadata": {},
   "source": [
    "## Data Pre-Imputation and Feature Engineering"
   ]
  },
  {
   "cell_type": "code",
   "execution_count": null,
   "metadata": {},
   "outputs": [],
   "source": [
    "from pycaret import classification"
   ]
  },
  {
   "cell_type": "markdown",
   "metadata": {},
   "source": [
    "### Data Pipeline Setup"
   ]
  },
  {
   "cell_type": "code",
   "execution_count": null,
   "metadata": {},
   "outputs": [],
   "source": [
    "print(\"Data Shape\")\n",
    "print(\"Test:\",test,\"Train:\", train)"
   ]
  },
  {
   "cell_type": "markdown",
   "metadata": {},
   "source": [
    "### Overview of Models"
   ]
  },
  {
   "cell_type": "code",
   "execution_count": null,
   "metadata": {},
   "outputs": [],
   "source": [
    "classification_setup = classification.setup(data=train, target=\"Survived\")"
   ]
  },
  {
   "cell_type": "markdown",
   "metadata": {},
   "source": [
    "### Model Benchmarks"
   ]
  },
  {
   "cell_type": "code",
   "execution_count": null,
   "metadata": {},
   "outputs": [],
   "source": [
    "baseline = classification.compare_models()\n",
    "# print(type(baseline))\n",
    "# baseline"
   ]
  },
  {
   "cell_type": "code",
   "execution_count": null,
   "metadata": {
    "scrolled": true
   },
   "outputs": [],
   "source": [
    "# create the xgb model\n",
    "classification_xgb = classification.create_model('xgboost')\n",
    "# # tune xgb model\n",
    "tune_xgb = classification.tune_model(classification_xgb)\n"
   ]
  },
  {
   "cell_type": "code",
   "execution_count": null,
   "metadata": {},
   "outputs": [],
   "source": [
    "# build the lightgbm model\n",
    "classification_lightgbm = classification.create_model('lightgbm')\n",
    "# Tune lightgbm model\n",
    "tune_lightgbm = classification.tune_model(classification_lightgbm)\n"
   ]
  },
  {
   "cell_type": "code",
   "execution_count": null,
   "metadata": {},
   "outputs": [],
   "source": [
    "# Residual Plot\n",
    "classification.plot_model(tune_lightgbm)\n"
   ]
  },
  {
   "cell_type": "code",
   "execution_count": null,
   "metadata": {},
   "outputs": [],
   "source": [
    "# Error Plot\n",
    "classification.plot_model(tune_lightgbm, plot = 'error')\n"
   ]
  },
  {
   "cell_type": "code",
   "execution_count": null,
   "metadata": {},
   "outputs": [],
   "source": [
    "# Feature Important plot\n",
    "classification.plot_model(tune_lightgbm, plot='feature')\n"
   ]
  },
  {
   "cell_type": "code",
   "execution_count": null,
   "metadata": {},
   "outputs": [],
   "source": [
    "# Evaluate model\n",
    "classification.evaluate_model(tune_lightgbm)\n",
    "# read the test data\n",
    "# test_data_classification = test\n",
    "# make predictions\n",
    "predictions = classification.predict_model(tune_xgb, data=test)\n",
    "# view the predictions\n",
    "predictions\n"
   ]
  },
  {
   "cell_type": "markdown",
   "metadata": {},
   "source": [
    "## Data Post-Imputation and Feature Engineering"
   ]
  },
  {
   "cell_type": "markdown",
   "metadata": {},
   "source": [
    "### Data Pipeline Setup"
   ]
  },
  {
   "cell_type": "code",
   "execution_count": null,
   "metadata": {},
   "outputs": [],
   "source": [
    "print(\"Data Shape\")\n",
    "print(\"Test:\",test_shape,\"Train:\", train_shape)"
   ]
  },
  {
   "cell_type": "code",
   "execution_count": null,
   "metadata": {},
   "outputs": [],
   "source": [
    "df_train = full_data.loc[:(train_shape[0]-1), :]\n",
    "df_test = full_data.loc[train_shape[0]:, :]\n",
    "# print(df_train)\n",
    "# print(df_test)\n",
    "# print(df_train.info())\n",
    "# print(df_train.describe())\n",
    "# show_missing_report(df_train)\n",
    "# df_test.head()\n"
   ]
  },
  {
   "cell_type": "code",
   "execution_count": null,
   "metadata": {},
   "outputs": [],
   "source": [
    "# df_test.info()"
   ]
  },
  {
   "cell_type": "markdown",
   "metadata": {},
   "source": [
    "### Overview of Models"
   ]
  },
  {
   "cell_type": "code",
   "execution_count": null,
   "metadata": {
    "scrolled": true
   },
   "outputs": [],
   "source": [
    "classification_setup = classification.setup(data=train, target=\"Survived\")"
   ]
  },
  {
   "cell_type": "markdown",
   "metadata": {},
   "source": [
    "### Model Benchmarks"
   ]
  },
  {
   "cell_type": "code",
   "execution_count": null,
   "metadata": {},
   "outputs": [],
   "source": [
    "classification.compare_models()\n"
   ]
  },
  {
   "cell_type": "code",
   "execution_count": null,
   "metadata": {
    "scrolled": true
   },
   "outputs": [],
   "source": [
    "# create the xgb model\n",
    "classification_xgb = classification.create_model('xgboost')\n",
    "# # tune xgb model\n",
    "tune_xgb = classification.tune_model(classification_xgb)\n"
   ]
  },
  {
   "cell_type": "code",
   "execution_count": null,
   "metadata": {},
   "outputs": [],
   "source": [
    "# build the lightgbm model\n",
    "classification_lightgbm = classification.create_model('lightgbm')\n",
    "# Tune lightgbm model\n",
    "tune_lightgbm = classification.tune_model(classification_lightgbm)\n"
   ]
  },
  {
   "cell_type": "code",
   "execution_count": null,
   "metadata": {},
   "outputs": [],
   "source": [
    "# Residual Plot\n",
    "classification.plot_model(tune_lightgbm)\n"
   ]
  },
  {
   "cell_type": "code",
   "execution_count": null,
   "metadata": {},
   "outputs": [],
   "source": [
    "# Error Plot\n",
    "classification.plot_model(tune_lightgbm, plot = 'error')\n"
   ]
  },
  {
   "cell_type": "code",
   "execution_count": null,
   "metadata": {},
   "outputs": [],
   "source": [
    "# Feature Important plot\n",
    "classification.plot_model(tune_lightgbm, plot='feature')\n"
   ]
  },
  {
   "cell_type": "code",
   "execution_count": null,
   "metadata": {},
   "outputs": [],
   "source": [
    "# Evaluate model\n",
    "classification.evaluate_model(tune_lightgbm)\n",
    "# read the test data\n",
    "# test_data_classification = test\n",
    "# make predictions\n",
    "predictions = classification.predict_model(tune_xgb, data=test)\n",
    "# view the predictions\n",
    "predictions\n"
   ]
  },
  {
   "cell_type": "code",
   "execution_count": null,
   "metadata": {},
   "outputs": [],
   "source": []
  },
  {
   "cell_type": "code",
   "execution_count": null,
   "metadata": {},
   "outputs": [],
   "source": []
  },
  {
   "cell_type": "code",
   "execution_count": null,
   "metadata": {},
   "outputs": [],
   "source": []
  },
  {
   "cell_type": "code",
   "execution_count": null,
   "metadata": {},
   "outputs": [],
   "source": []
  },
  {
   "cell_type": "code",
   "execution_count": null,
   "metadata": {},
   "outputs": [],
   "source": []
  }
 ],
 "metadata": {
  "kernelspec": {
   "display_name": "Python 3",
   "language": "python",
   "name": "python3"
  },
  "language_info": {
   "codemirror_mode": {
    "name": "ipython",
    "version": 3
   },
   "file_extension": ".py",
   "mimetype": "text/x-python",
   "name": "python",
   "nbconvert_exporter": "python",
   "pygments_lexer": "ipython3",
   "version": "3.8.5"
  }
 },
 "nbformat": 4,
 "nbformat_minor": 4
}
