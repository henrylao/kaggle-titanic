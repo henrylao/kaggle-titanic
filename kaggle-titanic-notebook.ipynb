{
 "cells": [
  {
   "cell_type": "code",
   "execution_count": 1,
   "metadata": {},
   "outputs": [],
   "source": [
    "# std python utility\n",
    "from pathlib import Path\n",
    "from collections import Counter\n",
    "import os\n",
    "# ds utility\n",
    "import pandas\n",
    "import numpy as np\n",
    "import pandas as pd\n",
    "import seaborn as sns\n",
    "from matplotlib import pyplot as plt\n",
    "# ds modelling\n",
    "import sklearn\n",
    "\n",
    "import warnings\n",
    "warnings.filterwarnings(action=\"ignore\")\n",
    "pd.options.display.max_seq_items = 8000\n",
    "pd.options.display.max_rows = 8000\n",
    "pd.set_option('display.max_columns', None)"
   ]
  },
  {
   "cell_type": "code",
   "execution_count": 2,
   "metadata": {},
   "outputs": [
    {
     "data": {
      "text/plain": [
       "WindowsPath('C:/Users/hlao1/Github/kaggle-titanic')"
      ]
     },
     "metadata": {},
     "output_type": "display_data"
    },
    {
     "data": {
      "text/plain": [
       "WindowsPath('C:/Users/hlao1/Github/kaggle-titanic/input')"
      ]
     },
     "metadata": {},
     "output_type": "display_data"
    },
    {
     "data": {
      "text/plain": [
       "['gender_submission.csv', 'test.csv', 'train.csv']"
      ]
     },
     "execution_count": 2,
     "metadata": {},
     "output_type": "execute_result"
    }
   ],
   "source": [
    "# directory setup\n",
    "ROOT = Path(os.getcwd())\n",
    "DATA_DIR = ROOT / \"input\"\n",
    "display(ROOT, DATA_DIR)\n",
    "os.listdir(DATA_DIR)"
   ]
  },
  {
   "cell_type": "markdown",
   "metadata": {},
   "source": [
    "# Exploratory Data Analysis"
   ]
  },
  {
   "cell_type": "code",
   "execution_count": 3,
   "metadata": {},
   "outputs": [
    {
     "data": {
      "text/html": [
       "<div>\n",
       "<style scoped>\n",
       "    .dataframe tbody tr th:only-of-type {\n",
       "        vertical-align: middle;\n",
       "    }\n",
       "\n",
       "    .dataframe tbody tr th {\n",
       "        vertical-align: top;\n",
       "    }\n",
       "\n",
       "    .dataframe thead th {\n",
       "        text-align: right;\n",
       "    }\n",
       "</style>\n",
       "<table border=\"1\" class=\"dataframe\">\n",
       "  <thead>\n",
       "    <tr style=\"text-align: right;\">\n",
       "      <th></th>\n",
       "      <th>PassengerId</th>\n",
       "      <th>Survived</th>\n",
       "      <th>Pclass</th>\n",
       "      <th>Name</th>\n",
       "      <th>Sex</th>\n",
       "      <th>Age</th>\n",
       "      <th>SibSp</th>\n",
       "      <th>Parch</th>\n",
       "      <th>Ticket</th>\n",
       "      <th>Fare</th>\n",
       "      <th>Cabin</th>\n",
       "      <th>Embarked</th>\n",
       "    </tr>\n",
       "  </thead>\n",
       "  <tbody>\n",
       "    <tr>\n",
       "      <th>0</th>\n",
       "      <td>1</td>\n",
       "      <td>0</td>\n",
       "      <td>3</td>\n",
       "      <td>Braund, Mr. Owen Harris</td>\n",
       "      <td>male</td>\n",
       "      <td>22.0</td>\n",
       "      <td>1</td>\n",
       "      <td>0</td>\n",
       "      <td>A/5 21171</td>\n",
       "      <td>7.2500</td>\n",
       "      <td>NaN</td>\n",
       "      <td>S</td>\n",
       "    </tr>\n",
       "    <tr>\n",
       "      <th>1</th>\n",
       "      <td>2</td>\n",
       "      <td>1</td>\n",
       "      <td>1</td>\n",
       "      <td>Cumings, Mrs. John Bradley (Florence Briggs Th...</td>\n",
       "      <td>female</td>\n",
       "      <td>38.0</td>\n",
       "      <td>1</td>\n",
       "      <td>0</td>\n",
       "      <td>PC 17599</td>\n",
       "      <td>71.2833</td>\n",
       "      <td>C85</td>\n",
       "      <td>C</td>\n",
       "    </tr>\n",
       "    <tr>\n",
       "      <th>2</th>\n",
       "      <td>3</td>\n",
       "      <td>1</td>\n",
       "      <td>3</td>\n",
       "      <td>Heikkinen, Miss. Laina</td>\n",
       "      <td>female</td>\n",
       "      <td>26.0</td>\n",
       "      <td>0</td>\n",
       "      <td>0</td>\n",
       "      <td>STON/O2. 3101282</td>\n",
       "      <td>7.9250</td>\n",
       "      <td>NaN</td>\n",
       "      <td>S</td>\n",
       "    </tr>\n",
       "    <tr>\n",
       "      <th>3</th>\n",
       "      <td>4</td>\n",
       "      <td>1</td>\n",
       "      <td>1</td>\n",
       "      <td>Futrelle, Mrs. Jacques Heath (Lily May Peel)</td>\n",
       "      <td>female</td>\n",
       "      <td>35.0</td>\n",
       "      <td>1</td>\n",
       "      <td>0</td>\n",
       "      <td>113803</td>\n",
       "      <td>53.1000</td>\n",
       "      <td>C123</td>\n",
       "      <td>S</td>\n",
       "    </tr>\n",
       "    <tr>\n",
       "      <th>4</th>\n",
       "      <td>5</td>\n",
       "      <td>0</td>\n",
       "      <td>3</td>\n",
       "      <td>Allen, Mr. William Henry</td>\n",
       "      <td>male</td>\n",
       "      <td>35.0</td>\n",
       "      <td>0</td>\n",
       "      <td>0</td>\n",
       "      <td>373450</td>\n",
       "      <td>8.0500</td>\n",
       "      <td>NaN</td>\n",
       "      <td>S</td>\n",
       "    </tr>\n",
       "  </tbody>\n",
       "</table>\n",
       "</div>"
      ],
      "text/plain": [
       "   PassengerId  Survived  Pclass  \\\n",
       "0            1         0       3   \n",
       "1            2         1       1   \n",
       "2            3         1       3   \n",
       "3            4         1       1   \n",
       "4            5         0       3   \n",
       "\n",
       "                                                Name     Sex   Age  SibSp  \\\n",
       "0                            Braund, Mr. Owen Harris    male  22.0      1   \n",
       "1  Cumings, Mrs. John Bradley (Florence Briggs Th...  female  38.0      1   \n",
       "2                             Heikkinen, Miss. Laina  female  26.0      0   \n",
       "3       Futrelle, Mrs. Jacques Heath (Lily May Peel)  female  35.0      1   \n",
       "4                           Allen, Mr. William Henry    male  35.0      0   \n",
       "\n",
       "   Parch            Ticket     Fare Cabin Embarked  \n",
       "0      0         A/5 21171   7.2500   NaN        S  \n",
       "1      0          PC 17599  71.2833   C85        C  \n",
       "2      0  STON/O2. 3101282   7.9250   NaN        S  \n",
       "3      0            113803  53.1000  C123        S  \n",
       "4      0            373450   8.0500   NaN        S  "
      ]
     },
     "metadata": {},
     "output_type": "display_data"
    },
    {
     "name": "stdout",
     "output_type": "stream",
     "text": [
      "<class 'pandas.core.frame.DataFrame'>\n",
      "RangeIndex: 891 entries, 0 to 890\n",
      "Data columns (total 12 columns):\n",
      " #   Column       Non-Null Count  Dtype  \n",
      "---  ------       --------------  -----  \n",
      " 0   PassengerId  891 non-null    int64  \n",
      " 1   Survived     891 non-null    int64  \n",
      " 2   Pclass       891 non-null    int64  \n",
      " 3   Name         891 non-null    object \n",
      " 4   Sex          891 non-null    object \n",
      " 5   Age          714 non-null    float64\n",
      " 6   SibSp        891 non-null    int64  \n",
      " 7   Parch        891 non-null    int64  \n",
      " 8   Ticket       891 non-null    object \n",
      " 9   Fare         891 non-null    float64\n",
      " 10  Cabin        204 non-null    object \n",
      " 11  Embarked     889 non-null    object \n",
      "dtypes: float64(2), int64(5), object(5)\n",
      "memory usage: 83.7+ KB\n"
     ]
    },
    {
     "data": {
      "text/plain": [
       "None"
      ]
     },
     "metadata": {},
     "output_type": "display_data"
    },
    {
     "data": {
      "text/html": [
       "<div>\n",
       "<style scoped>\n",
       "    .dataframe tbody tr th:only-of-type {\n",
       "        vertical-align: middle;\n",
       "    }\n",
       "\n",
       "    .dataframe tbody tr th {\n",
       "        vertical-align: top;\n",
       "    }\n",
       "\n",
       "    .dataframe thead th {\n",
       "        text-align: right;\n",
       "    }\n",
       "</style>\n",
       "<table border=\"1\" class=\"dataframe\">\n",
       "  <thead>\n",
       "    <tr style=\"text-align: right;\">\n",
       "      <th></th>\n",
       "      <th>PassengerId</th>\n",
       "      <th>Survived</th>\n",
       "      <th>Pclass</th>\n",
       "      <th>Age</th>\n",
       "      <th>SibSp</th>\n",
       "      <th>Parch</th>\n",
       "      <th>Fare</th>\n",
       "    </tr>\n",
       "  </thead>\n",
       "  <tbody>\n",
       "    <tr>\n",
       "      <th>count</th>\n",
       "      <td>891.000000</td>\n",
       "      <td>891.000000</td>\n",
       "      <td>891.000000</td>\n",
       "      <td>714.000000</td>\n",
       "      <td>891.000000</td>\n",
       "      <td>891.000000</td>\n",
       "      <td>891.000000</td>\n",
       "    </tr>\n",
       "    <tr>\n",
       "      <th>mean</th>\n",
       "      <td>446.000000</td>\n",
       "      <td>0.383838</td>\n",
       "      <td>2.308642</td>\n",
       "      <td>29.699118</td>\n",
       "      <td>0.523008</td>\n",
       "      <td>0.381594</td>\n",
       "      <td>32.204208</td>\n",
       "    </tr>\n",
       "    <tr>\n",
       "      <th>std</th>\n",
       "      <td>257.353842</td>\n",
       "      <td>0.486592</td>\n",
       "      <td>0.836071</td>\n",
       "      <td>14.526497</td>\n",
       "      <td>1.102743</td>\n",
       "      <td>0.806057</td>\n",
       "      <td>49.693429</td>\n",
       "    </tr>\n",
       "    <tr>\n",
       "      <th>min</th>\n",
       "      <td>1.000000</td>\n",
       "      <td>0.000000</td>\n",
       "      <td>1.000000</td>\n",
       "      <td>0.420000</td>\n",
       "      <td>0.000000</td>\n",
       "      <td>0.000000</td>\n",
       "      <td>0.000000</td>\n",
       "    </tr>\n",
       "    <tr>\n",
       "      <th>25%</th>\n",
       "      <td>223.500000</td>\n",
       "      <td>0.000000</td>\n",
       "      <td>2.000000</td>\n",
       "      <td>20.125000</td>\n",
       "      <td>0.000000</td>\n",
       "      <td>0.000000</td>\n",
       "      <td>7.910400</td>\n",
       "    </tr>\n",
       "    <tr>\n",
       "      <th>50%</th>\n",
       "      <td>446.000000</td>\n",
       "      <td>0.000000</td>\n",
       "      <td>3.000000</td>\n",
       "      <td>28.000000</td>\n",
       "      <td>0.000000</td>\n",
       "      <td>0.000000</td>\n",
       "      <td>14.454200</td>\n",
       "    </tr>\n",
       "    <tr>\n",
       "      <th>75%</th>\n",
       "      <td>668.500000</td>\n",
       "      <td>1.000000</td>\n",
       "      <td>3.000000</td>\n",
       "      <td>38.000000</td>\n",
       "      <td>1.000000</td>\n",
       "      <td>0.000000</td>\n",
       "      <td>31.000000</td>\n",
       "    </tr>\n",
       "    <tr>\n",
       "      <th>max</th>\n",
       "      <td>891.000000</td>\n",
       "      <td>1.000000</td>\n",
       "      <td>3.000000</td>\n",
       "      <td>80.000000</td>\n",
       "      <td>8.000000</td>\n",
       "      <td>6.000000</td>\n",
       "      <td>512.329200</td>\n",
       "    </tr>\n",
       "  </tbody>\n",
       "</table>\n",
       "</div>"
      ],
      "text/plain": [
       "       PassengerId    Survived      Pclass         Age       SibSp  \\\n",
       "count   891.000000  891.000000  891.000000  714.000000  891.000000   \n",
       "mean    446.000000    0.383838    2.308642   29.699118    0.523008   \n",
       "std     257.353842    0.486592    0.836071   14.526497    1.102743   \n",
       "min       1.000000    0.000000    1.000000    0.420000    0.000000   \n",
       "25%     223.500000    0.000000    2.000000   20.125000    0.000000   \n",
       "50%     446.000000    0.000000    3.000000   28.000000    0.000000   \n",
       "75%     668.500000    1.000000    3.000000   38.000000    1.000000   \n",
       "max     891.000000    1.000000    3.000000   80.000000    8.000000   \n",
       "\n",
       "            Parch        Fare  \n",
       "count  891.000000  891.000000  \n",
       "mean     0.381594   32.204208  \n",
       "std      0.806057   49.693429  \n",
       "min      0.000000    0.000000  \n",
       "25%      0.000000    7.910400  \n",
       "50%      0.000000   14.454200  \n",
       "75%      0.000000   31.000000  \n",
       "max      6.000000  512.329200  "
      ]
     },
     "metadata": {},
     "output_type": "display_data"
    },
    {
     "data": {
      "text/plain": [
       "['PassengerId',\n",
       " 'Survived',\n",
       " 'Pclass',\n",
       " 'Name',\n",
       " 'Sex',\n",
       " 'Age',\n",
       " 'SibSp',\n",
       " 'Parch',\n",
       " 'Ticket',\n",
       " 'Fare',\n",
       " 'Cabin',\n",
       " 'Embarked']"
      ]
     },
     "metadata": {},
     "output_type": "display_data"
    },
    {
     "name": "stdout",
     "output_type": "stream",
     "text": [
      "Number of features: 12\n"
     ]
    }
   ],
   "source": [
    "# Load datasets\n",
    "train = pd.read_csv(DATA_DIR/\"train.csv\")\n",
    "test = pd.read_csv(DATA_DIR/\"test.csv\")\n",
    "# surface level inspection of the training data loaded\n",
    "display(train.head())\n",
    "# display general info about the dataset\n",
    "display(train.info())\n",
    "# observe general stats of feat-cols \n",
    "display(train.describe())\n",
    "\n",
    "feat_cols = train.columns.to_list()\n",
    "display(feat_cols)\n",
    "print(\"Number of features:\",len(feat_cols))"
   ]
  },
  {
   "cell_type": "code",
   "execution_count": 4,
   "metadata": {},
   "outputs": [
    {
     "data": {
      "text/plain": [
       "['Survived',\n",
       " 'Pclass',\n",
       " 'Name',\n",
       " 'Sex',\n",
       " 'Age',\n",
       " 'SibSp',\n",
       " 'Parch',\n",
       " 'Ticket',\n",
       " 'Fare',\n",
       " 'Cabin',\n",
       " 'Embarked']"
      ]
     },
     "metadata": {},
     "output_type": "display_data"
    },
    {
     "name": "stdout",
     "output_type": "stream",
     "text": [
      "Number of features: 11\n"
     ]
    }
   ],
   "source": [
    "# remove passengerId which is simply used for maintaining training instance indices ie an non impactful column in terms of the classificaiton problem\n",
    "train_ids = train[\"PassengerId\"]\n",
    "train = train.drop(labels=\"PassengerId\",axis=1)\n",
    "# \n",
    "feat_cols = train.columns.to_list()\n",
    "display(feat_cols)\n",
    "print(\"Number of features:\",len(feat_cols))"
   ]
  },
  {
   "cell_type": "code",
   "execution_count": 5,
   "metadata": {},
   "outputs": [
    {
     "data": {
      "text/html": [
       "<div>\n",
       "<style scoped>\n",
       "    .dataframe tbody tr th:only-of-type {\n",
       "        vertical-align: middle;\n",
       "    }\n",
       "\n",
       "    .dataframe tbody tr th {\n",
       "        vertical-align: top;\n",
       "    }\n",
       "\n",
       "    .dataframe thead th {\n",
       "        text-align: right;\n",
       "    }\n",
       "</style>\n",
       "<table border=\"1\" class=\"dataframe\">\n",
       "  <thead>\n",
       "    <tr style=\"text-align: right;\">\n",
       "      <th></th>\n",
       "      <th>PassengerId</th>\n",
       "      <th>Survived</th>\n",
       "    </tr>\n",
       "  </thead>\n",
       "  <tbody>\n",
       "    <tr>\n",
       "      <th>0</th>\n",
       "      <td>892</td>\n",
       "      <td>0</td>\n",
       "    </tr>\n",
       "    <tr>\n",
       "      <th>1</th>\n",
       "      <td>893</td>\n",
       "      <td>1</td>\n",
       "    </tr>\n",
       "    <tr>\n",
       "      <th>2</th>\n",
       "      <td>894</td>\n",
       "      <td>0</td>\n",
       "    </tr>\n",
       "    <tr>\n",
       "      <th>3</th>\n",
       "      <td>895</td>\n",
       "      <td>0</td>\n",
       "    </tr>\n",
       "    <tr>\n",
       "      <th>4</th>\n",
       "      <td>896</td>\n",
       "      <td>1</td>\n",
       "    </tr>\n",
       "  </tbody>\n",
       "</table>\n",
       "</div>"
      ],
      "text/plain": [
       "   PassengerId  Survived\n",
       "0          892         0\n",
       "1          893         1\n",
       "2          894         0\n",
       "3          895         0\n",
       "4          896         1"
      ]
     },
     "execution_count": 5,
     "metadata": {},
     "output_type": "execute_result"
    }
   ],
   "source": [
    "sample_submission = pd.read_csv(DATA_DIR / \"gender_submission.csv\")\n",
    "sample_submission.head() # classification problem of predicting the target feat-col: \"survived\""
   ]
  },
  {
   "cell_type": "markdown",
   "metadata": {},
   "source": [
    "# Data Description\n",
    "| Variable | Definition | Key |\n",
    "|----------|-----------|------|\n",
    "|survival\t|Survival|\t0 = No, 1 = Yes|\n",
    "|pclass\t|Ticket class|\t1 = 1st, 2 = 2nd, 3 = 3rd|\n",
    "|sex\t|Sex\t||\n",
    "|Age|\tAge in years\t||\n",
    "|sibsp|\t# of siblings / spouses aboard the Titanic\t||\n",
    "|parch\t|# of parents / children aboard the Titanic\t||\n",
    "|ticket\t|Ticket number\t||\n",
    "|fare|\tPassenger fare\t||\n",
    "|cabin|\tCabin number\t||\n",
    "|embarked|\tPort of Embarkation\t|C = Cherbourg, Q = Queenstown, S = Southampton|\n",
    "\n",
    "# Variable Notes\n",
    "pclass: A proxy for socio-economic status (SES)<br>\n",
    "1st = Upper <br>\n",
    "2nd = Middle<br>\n",
    "3rd = Lower<br>\n",
    "\n",
    "age: Age is fractional if less than 1. If the age is estimated, is it in the form of xx.5<br>\n",
    "\n",
    "sibsp: The dataset defines family relations in this way...<br>\n",
    "Sibling = brother, sister, stepbrother, stepsister<br>\n",
    "Spouse = husband, wife (mistresses and fiancés were ignored)<br>\n",
    "\n",
    "parch: The dataset defines family relations in this way...<br>\n",
    "Parent = mother, father<br>\n",
    "Child = daughter, son, stepdaughter, stepson<br>\n",
    "Some children travelled only with a nanny, therefore parch=0 for them.<br>\n"
   ]
  },
  {
   "cell_type": "markdown",
   "metadata": {},
   "source": [
    "# Initial Thoughts on Plan of Action\n",
    "Objective: Predict the target variable \"survived\" using the classification problem's data set \"train.csv\" provided.\n",
    "1. Inspect in further detail of the given features via plots\n",
    "2. Evaluate methods of plotting and select appropriate method for the data type\n",
    "3. Look out for anomalies such as: non-Gaussian distros, outliers\n",
    "4. Observe variables' dependencies/relations using covar matrix -- a \"heat map\"\n",
    "5. Understand data types to be worked with"
   ]
  },
  {
   "cell_type": "code",
   "execution_count": 6,
   "metadata": {},
   "outputs": [
    {
     "data": {
      "image/png": "[encoded data removed]",
      "text/plain": [
       "<Figure size 576x504 with 1 Axes>"
      ]
     },
     "metadata": {},
     "output_type": "display_data"
    },
    {
     "name": "stdout",
     "output_type": "stream",
     "text": [
      "Skewness: 0.478523\n",
      "Kurtosis: -1.775005\n"
     ]
    }
   ],
   "source": [
    "# attempt to plot target variable\n",
    "f, ax = plt.subplots(figsize=(8, 7))\n",
    "sns.distplot(train['Survived'], color=\"b\");\n",
    "ax.set(ylabel=\"Frequency\")\n",
    "ax.set(xlabel=\"Survived\")\n",
    "ax.set(title=\"Survival distribution\")\n",
    "# sns.despine(trim=True, left=True)\n",
    "plt.grid(True)\n",
    "ax.xaxis.grid(False)\n",
    "\n",
    "plt.show()\n",
    "print(\"Skewness: %f\" % train['Survived'].skew())\n",
    "print(\"Kurtosis: %f\" % train['Survived'].kurt())"
   ]
  },
  {
   "cell_type": "markdown",
   "metadata": {},
   "source": [
    "The chosen distribution plot method does not appear to display the data in a manner that is meaningful -- perhaps there isn't much to be drawn from the individual target variable itself outside of the fact that more people died than those that survived. Alternative plot methods could be either a scatter plot or a box plot. The double distribution curves are expected given the discrete nature of the variable ( 0 or 1 ie dead or alive)"
   ]
  },
  {
   "cell_type": "code",
   "execution_count": 7,
   "metadata": {},
   "outputs": [
    {
     "data": {
      "image/png": "[encoded data removed]",
      "text/plain": [
       "<Figure size 864x864 with 6 Axes>"
      ]
     },
     "metadata": {},
     "output_type": "display_data"
    }
   ],
   "source": [
    "numeric_dtypes = ['int16', 'int32', 'int64', 'float16', 'float32', 'float64']\n",
    "numeric = []\n",
    "for i in train.columns:\n",
    "    if train[i].dtype in numeric_dtypes:\n",
    "#         if i in ['TotalSF', 'Total_Bathrooms','Total_porch_sf','haspool','hasgarage','hasbsmt','hasfireplace']:\n",
    "#             pass\n",
    "#         else:\n",
    "        numeric.append(i)     \n",
    "\n",
    "# visualising some more outliers in the data values\n",
    "fig, axs = plt.subplots(ncols=2, nrows=1, figsize=(12,12))\n",
    "plt.subplots_adjust(right=2)\n",
    "plt.subplots_adjust(top=2)\n",
    "sns.color_palette(\"husl\", 8)\n",
    "for i, feature in enumerate(list(train[numeric]), 1):\n",
    "    plt.subplot(len(list(numeric)), 3, i)\n",
    "    sns.scatterplot(x=feature, y='Survived', hue='Survived', palette='Blues', data=train)\n",
    "    plt.xlabel('{}'.format(feature), size=15,labelpad=0)\n",
    "    plt.ylabel('Survived', size=15, labelpad=14)\n",
    "    for j in range(2):\n",
    "        plt.tick_params(axis='x', labelsize=12)\n",
    "        plt.tick_params(axis='y', labelsize=12)\n",
    "    plt.legend(loc='best', prop={'size': 10})\n",
    "plt.show()\n"
   ]
  },
  {
   "cell_type": "markdown",
   "metadata": {},
   "source": [
    "Not sure what conclusions I can draw given these plots. Perhaps a boxplot"
   ]
  },
  {
   "cell_type": "code",
   "execution_count": 8,
   "metadata": {},
   "outputs": [],
   "source": [
    "# data = pd.concat([train['Survived'], train['Age']], axis=1)\n",
    "# f, ax = plt.subplots(figsize=(8,8))\n",
    "# fig = sns.boxplot(x=train['Age'], y=\"Survived\", data=data)\n",
    "# plt.xticks(rotation=45)\n",
    "# # fig.axis(ymin=train['Survived'].min(), ymax=train['Survived'].max());\n",
    "# plt.show()\n"
   ]
  },
  {
   "cell_type": "markdown",
   "metadata": {},
   "source": [
    "Still uncertain about what to make of the data. The rationale for plotting these particular features were based upon a linear regression problem in which numeric datatypes were plotted. In this particular case, it's clear that plotting numerics against a label does not show all too much. Perhaps a distribution plot applied to all features would be more useful?"
   ]
  },
  {
   "cell_type": "code",
   "execution_count": 9,
   "metadata": {},
   "outputs": [],
   "source": [
    "\n",
    "# # visualising some more outliers in the data values\n",
    "# fig, axs = plt.subplots(ncols=2, nrows=1, figsize=(12,12))\n",
    "# plt.subplots_adjust(right=2)\n",
    "# plt.subplots_adjust(top=2)\n",
    "# sns.color_palette(\"husl\", 8)\n",
    "# for i, feature in enumerate(list(train[feat_cols]), 1):\n",
    "#     plt.subplot(len(list(numeric)), 3, i)\n",
    "#     g = sns.distplot(train[feature], color=\"m\", label=\"Skewness : %.2f\"%(train[\"Fare\"].skew()))\n",
    "#     g = g.legend(loc=\"best\")\n",
    "# plt.show()\n"
   ]
  },
  {
   "cell_type": "markdown",
   "metadata": {},
   "source": [
    "# Feature vs Target Feature Analysis\n",
    "* pclass vs survived\n",
    "    * there appears to be a relation between passenger socioeconomic class and their rate of survival\n",
    "    * upper-class passengers are more inclined to survive in contrast to lower-class passengers\n",
    "* sex vs survived\n",
    "    * women were far more likely to survive in contrast to males\n",
    "* age vs survived\n",
    "    * there appears to be a bit of a relation; however, requires further investigation\n",
    "* siblings & spouses VS surived\n",
    "    * passengers who had a larger party (spouses or siblings) were less inclined to survive\n",
    "    * the cut off point appears to be at 2 siblings & spouses at which there appears to be a large drop off in the survival rate\n",
    "* parch (# parents/children) vs survived:\n",
    "    * no parent or child case appears to potentially be an outlier -- not sure about the reasonings as to why\n",
    "    * the case of 1/2/3 parch sizes appear to make sense in terms of the survival rate of the passenger\n",
    "    * not sure what to make meaining behind the portruding line drawn\n",
    "* ticket number & survived:\n",
    "    * there may be some information here in regards to how passengers were seated upon the ship; however, given the uniqueness of ticker numbers there cannot be any direct conclusions made about the relation between a passengers ticket nubmer and their survival rate\n",
    "* fare vs survived\n",
    "    * there is likely a relation here based upon the observations of pclass vs survival rate\n",
    "    * a closer inspection is needed\n",
    "* cabin vs survived\n",
    "    * it is possible that there may be some correlation between survival rate given a passengers cabin number\n",
    "    * this correlation is motivated by an understanidng of how ships hold multiple levels of cabins thus, the passengers at the lowest level cabins would likely not have been able to make it to the rafts sooner than the ones at the upper level\n",
    "    * cabin and pclass may share a relation\n",
    "    * cabin and fare may share a relation\n",
    "* embarked vs survived\n",
    "    * naturally inclined to think that the port of embarkation is likely to have little to no relation with survival rate\n",
    "    * a case for a relation to exist would be that the location may represent a culture of alertness to dangers suggesting a better prepared passenger for moments of danger\n",
    "    * what is the significance of the location of embarkation?\n",
    "    * what is the reason for passengers who embarked at Cherbourg having a higher survival chance?\n",
    "* survived vs survived\n",
    "    * NA\n",
    "* name vs survived\n",
    "    * NA"
   ]
  },
  {
   "cell_type": "code",
   "execution_count": 10,
   "metadata": {},
   "outputs": [
    {
     "data": {
      "text/plain": [
       "<AxesSubplot:>"
      ]
     },
     "execution_count": 10,
     "metadata": {},
     "output_type": "execute_result"
    },
    {
     "data": {
      "image/png": "[encoded data removed]",
      "text/plain": [
       "<Figure size 1080x864 with 2 Axes>"
      ]
     },
     "metadata": {},
     "output_type": "display_data"
    }
   ],
   "source": [
    "corr = train.corr()\n",
    "plt.subplots(figsize=(15,12))\n",
    "sns.heatmap(corr, vmax=0.9, cmap=\"coolwarm\", square=True, annot= True)\n"
   ]
  },
  {
   "cell_type": "markdown",
   "metadata": {},
   "source": [
    "# Analysis\n",
    "* We can see that there's a positive correlation between the training set's \"Fare\" and \"Survived\" rand variables\n",
    "* \"Parch\" and \"Fare\" are very slightly positively correlated\n",
    "* The rest of the features hold a slight negative correlation with \"Survived\""
   ]
  },
  {
   "cell_type": "markdown",
   "metadata": {},
   "source": [
    "# Feature Imputation\n",
    "Does there exist any missing values? How many? How do we appropriately fill in for these missing values?"
   ]
  },
  {
   "cell_type": "code",
   "execution_count": 11,
   "metadata": {},
   "outputs": [
    {
     "data": {
      "text/plain": [
       "'All columns:'"
      ]
     },
     "metadata": {},
     "output_type": "display_data"
    },
    {
     "data": {
      "text/plain": [
       "Survived    False\n",
       "Pclass      False\n",
       "Name        False\n",
       "Sex         False\n",
       "Age          True\n",
       "SibSp       False\n",
       "Parch       False\n",
       "Ticket      False\n",
       "Fare        False\n",
       "Cabin        True\n",
       "Embarked     True\n",
       "dtype: bool"
      ]
     },
     "metadata": {},
     "output_type": "display_data"
    },
    {
     "data": {
      "text/plain": [
       "'Missing cols:'"
      ]
     },
     "metadata": {},
     "output_type": "display_data"
    },
    {
     "data": {
      "text/plain": [
       "['Age', 'Cabin', 'Embarked']"
      ]
     },
     "metadata": {},
     "output_type": "display_data"
    },
    {
     "name": "stdout",
     "output_type": "stream",
     "text": [
      "\n",
      "Age: 177 / 891 instances missing --> 19.86532%\n",
      "Cabin: 687 / 891 instances missing --> 77.10438%\n",
      "Embarked: 2 / 891 instances missing --> 0.22447%\n"
     ]
    }
   ],
   "source": [
    "# Missing Features in Training Dataset\n",
    "all_cols = train.isna().any()\n",
    "na_cols = [c for c in all_cols.index if all_cols[c] == True]\n",
    "display(\"All columns:\",train.isna().any(), \"Missing cols:\", na_cols)\n",
    "print()\n",
    "for c in na_cols:\n",
    "    na_count = train[c].isna().sum()\n",
    "    total = len(train[c])\n",
    "    na_percent =  na_count / total * 100\n",
    "    print(\"{}: {} / {} instances missing --> {:1.5f}%\".format(c, na_count, total, na_percent))"
   ]
  },
  {
   "cell_type": "markdown",
   "metadata": {},
   "source": [
    "How do we go about feature imputation?'\n",
    "* currently only observing just the training instances, need to impute for the set of ALL instances ie train + test dataset\n",
    "* based upon the data description how would we create new features? consider 1 or more variables from which we can define a new feature>\n",
    "    - for example: denoting whether the passenger is travelling alone or not\n",
    "* apply KNN algorithm?\n"
   ]
  },
  {
   "cell_type": "markdown",
   "metadata": {},
   "source": [
    "# Random Ideas\n",
    "* Would we ever use PCA here? \n",
    "    - Considering that the dataset is extremely small in terms of the degree of dimnesions, there would be very little reason for applying a technique to reduce dimensionality\n",
    "    - PCA may actually hurt the performance of the model\n",
    "    - Worth exploring to provide concreteness/assessing these claims"
   ]
  },
  {
   "cell_type": "markdown",
   "metadata": {},
   "source": [
    "# References for New Ideas/Perspectives\n",
    "* <b>Python DS Framework</b>: https://www.kaggle.com/ldfreeman3/a-data-science-framework-to-achieve-99-accuracy\n",
    "    * <b>Notable sections:</b>\n",
    "        - Problem Definition\n",
    "        - Data Preparation\n",
    "        - Meet & Greet the Data (EDA)\n",
    "    * <b>My Takeaways & Reflection from Reading</b>\n",
    "        - Nearly all of my intuitons & observations up to this point of the jupyter notebook were on-point with the notes defined in the \"Meet & Greet the Data\" section\n",
    "        - Good Practice? make a copy rather of the data rather than altering it directly?\n",
    "        - <b>4Cs of Data Cleaning</b>\n",
    "            1. Correcting: adjust outlier values\n",
    "            2. Completing: feature imputation ie filling in the non-existing values\n",
    "            3. Creating: feature engineering ie utilize existing features to create new ones\n",
    "            4. Converting: convert to dummy variables ie hot encode (Ex. conversion using a kv-mapping of strings to integer vals)?\n",
    "        - Performing feature imputation: usage of median & mode\n",
    "            - why median over average for \"Age\" & \"Fare\"? \n",
    "            - why mode for \"Embarked\"?\n",
    "            - could we utilize the set of all instances that do not have missing columns from which we train a model to predict for the instances that contain missing values?\n",
    "        - Performing feature engineering\n",
    "            - Why do we use pd.qcut? What does it do? What was the rationale for qcutting for the features denoted in the notebook?\n",
    "* <b>Python Ensemble Methods</b>: https://www.kaggle.com/yassineghouzam/titanic-top-4-with-ensemble-modeling\n",
    "    * <b>Notable Sections:</b>\n",
    "        - Outlier Detection (Tukey Method)\n",
    "    * <b>My Takeaways & Reflection from Reading</b>\n",
    "        - Revealed my own weakness -- a need deepen my stats understaning in terms of the significance of outliers \n",
    "        - A need to understand methods of cleaning out data ie removal of outliers (what other forms exist outside of the Tukey method provided?)\n",
    "            - Other outlier detection methods: https://towardsdatascience.com/practical-guide-to-outlier-detection-methods-6b9f947a161e\n",
    "        - Usage of a <b>FacetGrid</b> from Seaborn in displaying age distribution and surival outcome\n",
    "        - Usage of a <b>kdeplot</b> for overlaying the two plots pertaining to 2 survival outcomes on one chart\n",
    "        - Approaching each datatype with the appropriate plotting method is so important\n",
    "* <b>R Tutorial</b>: https://www.kaggle.com/mrisdal/exploring-survival-on-the-titanic\n",
    "    * Organized very well\n",
    "    * Provides alot of useful commentary for gaining insight into the steps taken"
   ]
  },
  {
   "cell_type": "markdown",
   "metadata": {},
   "source": [
    "# Revisiting EDA"
   ]
  },
  {
   "cell_type": "code",
   "execution_count": 12,
   "metadata": {},
   "outputs": [
    {
     "name": "stdout",
     "output_type": "stream",
     "text": [
      "<class 'pandas.core.frame.DataFrame'>\n",
      "RangeIndex: 891 entries, 0 to 890\n",
      "Data columns (total 11 columns):\n",
      " #   Column    Non-Null Count  Dtype  \n",
      "---  ------    --------------  -----  \n",
      " 0   Survived  891 non-null    int64  \n",
      " 1   Pclass    891 non-null    int64  \n",
      " 2   Name      891 non-null    object \n",
      " 3   Sex       891 non-null    object \n",
      " 4   Age       714 non-null    float64\n",
      " 5   SibSp     891 non-null    int64  \n",
      " 6   Parch     891 non-null    int64  \n",
      " 7   Ticket    891 non-null    object \n",
      " 8   Fare      891 non-null    float64\n",
      " 9   Cabin     204 non-null    object \n",
      " 10  Embarked  889 non-null    object \n",
      "dtypes: float64(2), int64(4), object(5)\n",
      "memory usage: 76.7+ KB\n"
     ]
    }
   ],
   "source": [
    "train.info()"
   ]
  },
  {
   "cell_type": "code",
   "execution_count": 13,
   "metadata": {},
   "outputs": [
    {
     "data": {
      "text/plain": [
       "{'int64': ['Survived', 'Pclass', 'SibSp', 'Parch'],\n",
       " 'float64': ['Age', 'Fare'],\n",
       " 'object': ['Name', 'Sex', 'Ticket', 'Cabin', 'Embarked']}"
      ]
     },
     "execution_count": 13,
     "metadata": {},
     "output_type": "execute_result"
    }
   ],
   "source": [
    "# create a dictionary dtype: column_names ie aggregate columns by their dtype\n",
    "type_dict = {str(k): list(v) for k, v in train.groupby(train.dtypes, axis=1)}\n",
    "type_dict"
   ]
  },
  {
   "cell_type": "markdown",
   "metadata": {},
   "source": [
    "# int64: Feature vs Target Feature Analysis\n"
   ]
  },
  {
   "cell_type": "code",
   "execution_count": 14,
   "metadata": {},
   "outputs": [
    {
     "data": {
      "image/png": "[encoded data removed]",
      "text/plain": [
       "<Figure size 432x432 with 1 Axes>"
      ]
     },
     "metadata": {},
     "output_type": "display_data"
    },
    {
     "data": {
      "image/png": "[encoded data removed]",
      "text/plain": [
       "<Figure size 432x432 with 1 Axes>"
      ]
     },
     "metadata": {},
     "output_type": "display_data"
    },
    {
     "data": {
      "image/png": "[encoded data removed]",
      "text/plain": [
       "<Figure size 432x432 with 1 Axes>"
      ]
     },
     "metadata": {},
     "output_type": "display_data"
    }
   ],
   "source": [
    "# fig, axs = plt.subplots(ncols=2, nrows=1, figsize=(12,12))\n",
    "# plt.subplots_adjust(right=2)\n",
    "# plt.subplots_adjust(top=2)\n",
    "for i, c in enumerate([ _ for _ in type_dict[\"int64\"] if _ != \"Survived\"],1):\n",
    "#     plt.subplot(len(list([ _ for _ in type_dict[\"int64\"]if _ != \"Survived\"])), 2, i)\n",
    "    g = sns.factorplot(x=c,y=\"Survived\",data=train,kind=\"bar\", size = 6 , \n",
    "    palette = \"muted\")\n",
    "    g.despine(left=True)\n",
    "    g = g.set_ylabels(\"survival probability\")\n",
    "    plt.grid(axis=\"y\")\n",
    "    plt.title(\"Survived VS {}\".format(c))\n",
    "plt.show()\n",
    "# print(plt.grid.__doc__)\n",
    "# need to learn how to create subplots when using seaborn"
   ]
  },
  {
   "cell_type": "markdown",
   "metadata": {},
   "source": [
    "* Pclass VS Survived\n",
    "    * there appears to be a relation between passenger socioeconomic class and their rate of survival\n",
    "    * upper-class passengers are more inclined to survive in contrast to lower-class passengers\n",
    "* SubSp VS Surived\n",
    "    * passengers who had a larger party (spouses or siblings) were less inclined to survive\n",
    "    * the cut off point appears to be at 2 siblings & spouses at which there appears to be a large drop off in the survival rate\n",
    "* Parch VS Survived:\n",
    "    * no parent or child case appears to potentially be an outlier -- not sure about the reasonings as to why\n",
    "    * the case of 1/2/3 parch sizes appear to make sense in terms of the survival rate of the passenger\n",
    "    * not sure what to make meaining behind the portruding line drawn\n"
   ]
  },
  {
   "cell_type": "markdown",
   "metadata": {},
   "source": [
    "# float64: Feature vs Target Feature Analysis\n"
   ]
  },
  {
   "cell_type": "code",
   "execution_count": 15,
   "metadata": {},
   "outputs": [
    {
     "data": {
      "image/png": "[encoded data removed]",
      "text/plain": [
       "<Figure size 432x216 with 2 Axes>"
      ]
     },
     "metadata": {},
     "output_type": "display_data"
    },
    {
     "data": {
      "image/png": "[encoded data removed]",
      "text/plain": [
       "<Figure size 576x504 with 1 Axes>"
      ]
     },
     "metadata": {},
     "output_type": "display_data"
    },
    {
     "data": {
      "image/png": "[encoded data removed]",
      "text/plain": [
       "<Figure size 432x216 with 2 Axes>"
      ]
     },
     "metadata": {},
     "output_type": "display_data"
    },
    {
     "data": {
      "image/png": "[encoded data removed]",
      "text/plain": [
       "<Figure size 576x504 with 1 Axes>"
      ]
     },
     "metadata": {},
     "output_type": "display_data"
    }
   ],
   "source": [
    "for i, c in enumerate([ _ for _ in type_dict[\"float64\"] if _ != \"Survived\"],1):\n",
    "#     plt.subplot(len(list([ _ for _ in type_dict[\"int64\"]if _ != \"Survived\"])), 2, i)\n",
    "    g = sns.FacetGrid(train, col='Survived')\n",
    "    g = g.map(sns.distplot, c)\n",
    "    plt.show()\n",
    "    plt.title(\"Survived VS {}\".format(c))\n",
    "    g = sns.kdeplot(train[c][(train[\"Survived\"] == 0) & (train[c].notnull())], color=\"Red\", shade = True)\n",
    "    g = sns.kdeplot(train[c][(train[\"Survived\"] == 1) & (train[c].notnull())], ax =g, color=\"Blue\", shade= True)\n",
    "    g.set_xlabel(c)\n",
    "    g.set_ylabel(\"Frequency\")\n",
    "    g = g.legend([\"Not Survived\",\"Survived\"])\n",
    "    plt.show()"
   ]
  },
  {
   "cell_type": "markdown",
   "metadata": {},
   "source": [
    "# Anaylsis\n",
    "* age vs survived\n",
    "    * there appears to be a bit of a relation; however, requires further investigation\n",
    "    * revamping of the plot method used demonstrates that there is a strong correlation between age and survival \n",
    "    * there is large concentration of young passengers surviving\n",
    "    * there also appears to be more older passengers that did not survive\n",
    "* fare vs survived\n",
    "    * there is likely a relation here based upon the observations of pclass vs survival rate\n",
    "    * a closer inspection is needed\n"
   ]
  },
  {
   "cell_type": "code",
   "execution_count": 16,
   "metadata": {},
   "outputs": [
    {
     "data": {
      "text/plain": [
       "['Age', 'Fare']"
      ]
     },
     "execution_count": 16,
     "metadata": {},
     "output_type": "execute_result"
    }
   ],
   "source": [
    "# Explore Fare distribution \n",
    "numeric_dypes = type_dict[\"float64\"]\n",
    "# type_dict[\"int64\"] + \n",
    "# numeric_dtypes\n",
    "type_dict[\"float64\"]"
   ]
  },
  {
   "cell_type": "code",
   "execution_count": 17,
   "metadata": {
    "scrolled": false
   },
   "outputs": [
    {
     "data": {
      "image/png": "[encoded data removed]",
      "text/plain": [
       "<Figure size 576x504 with 1 Axes>"
      ]
     },
     "metadata": {},
     "output_type": "display_data"
    },
    {
     "data": {
      "image/png": "[encoded data removed]",
      "text/plain": [
       "<Figure size 576x504 with 1 Axes>"
      ]
     },
     "metadata": {},
     "output_type": "display_data"
    }
   ],
   "source": [
    "for c in type_dict[\"float64\"]:\n",
    "# + type_dict[\"int64\"]:\n",
    "    g = sns.distplot(train[c], color=\"m\", label=\"Skewness : %.2f\"%(train[c].skew()))\n",
    "    g = g.legend(loc=\"best\")\n",
    "    plt.title(\"{} Distribution\".format(c))\n",
    "    plt.show()"
   ]
  },
  {
   "cell_type": "markdown",
   "metadata": {},
   "source": [
    "Should one immediately apply a log transformation to create a gaussian? Why or why not? \n",
    "* The referenced notebook: https://www.kaggle.com/yassineghouzam/titanic-top-4-with-ensemble-modeling applies a log transform on the feature \"Fare\". The justification is to reduce \"...very high values in the model, even if it is scaled.\" What are the other perspectives to observe as a justification for the log transform?\n",
    "* Age is not transformed in the referenced notebook in the prev bullet. Why not? It makes sense to not transform it because it'd lead to a misinterpretation of the data. It makes sense that there's a slightly higher proportion of young passengers surviving in contrast to older passengers who were more likely to no survive. An immediate conclusion to normalize the distro would obfuscate potential observations such as this."
   ]
  },
  {
   "cell_type": "code",
   "execution_count": 18,
   "metadata": {},
   "outputs": [
    {
     "data": {
      "text/plain": [
       "['Name', 'Sex', 'Ticket', 'Cabin', 'Embarked']"
      ]
     },
     "execution_count": 18,
     "metadata": {},
     "output_type": "execute_result"
    }
   ],
   "source": [
    "type_dict[\"object\"]"
   ]
  },
  {
   "cell_type": "markdown",
   "metadata": {},
   "source": [
    "# object: Feature vs Target Feature Analysis\n"
   ]
  },
  {
   "cell_type": "code",
   "execution_count": 19,
   "metadata": {},
   "outputs": [
    {
     "data": {
      "image/png": "[encoded data removed]",
      "text/plain": [
       "<Figure size 576x504 with 1 Axes>"
      ]
     },
     "metadata": {},
     "output_type": "display_data"
    },
    {
     "data": {
      "image/png": "[encoded data removed]",
      "text/plain": [
       "<Figure size 576x504 with 1 Axes>"
      ]
     },
     "metadata": {},
     "output_type": "display_data"
    }
   ],
   "source": [
    "# for i, c in enumerate([ _ for _ in type_dict[\"object\"] if _ != \"Name\"],1):\n",
    "col_strtype = [\"Sex\", \"Embarked\"]\n",
    "for c in col_strtype: \n",
    "#     plt.subplot(len(list([ _ for _ in type_dict[\"int64\"]if _ != \"Survived\"])), 2, i)\n",
    "    plt.title(\"Survived VS {}\".format(c))\n",
    "    g = sns.barplot(x=c,y=\"Survived\",data=train)\n",
    "    g = g.set_ylabel(\"Survival Probability\")\n",
    "    plt.show()\n",
    "    "
   ]
  },
  {
   "cell_type": "markdown",
   "metadata": {},
   "source": [
    "# Analysis\n",
    "* sex vs survived\n",
    "    * women were far more likely to survive in contrast to males per the quote from the movie \"Women and children first!\"\n",
    "* embarked vs survived\n",
    "    * naturally inclined to think that the port of embarkation is likely to have little to no relation with survival rate\n",
    "    * a case for a relation to exist would be that the location may represent a culture of alertness to dangers suggesting a better prepared passenger for moments of danger\n",
    "    * what is the significance of the location of embarkation?\n",
    "    * what is the reason for passengers who embarked at Cherbourg having a higher survival chance?\n"
   ]
  },
  {
   "cell_type": "markdown",
   "metadata": {},
   "source": [
    "# Cross Analyis of Dtypes"
   ]
  },
  {
   "cell_type": "code",
   "execution_count": 20,
   "metadata": {},
   "outputs": [
    {
     "data": {
      "image/png": "[encoded data removed]",
      "text/plain": [
       "<Figure size 515.36x432 with 1 Axes>"
      ]
     },
     "metadata": {},
     "output_type": "display_data"
    }
   ],
   "source": [
    "# Explore Pclass vs Survived by Sex\n",
    "g = sns.factorplot(x=\"Pclass\", y=\"Survived\", hue=\"Sex\", data=train,\n",
    "                   size=6, kind=\"bar\", palette=\"muted\")\n",
    "g.despine(left=True)\n",
    "g = g.set_ylabels(\"survival probability\")\n"
   ]
  },
  {
   "cell_type": "markdown",
   "metadata": {},
   "source": [
    "# Analysis\n",
    "Gender played a large role in determining survivability of a passenger. Women were more inclined to survive in contrast to men.  Regardless of controlling for SES, the trend of women being more inclined to survive was conserved. In additition, passengers of higher class were likely more likely to survive in contrast to lower SES passengers. "
   ]
  },
  {
   "cell_type": "code",
   "execution_count": 21,
   "metadata": {},
   "outputs": [
    {
     "data": {
      "image/png": "[encoded data removed]",
      "text/plain": [
       "<Figure size 432x432 with 1 Axes>"
      ]
     },
     "metadata": {},
     "output_type": "display_data"
    }
   ],
   "source": [
    "# Explore Embarked vs Survived \n",
    "g = sns.factorplot(x=\"Embarked\", y=\"Survived\",  data=train,\n",
    "                   size=6, kind=\"bar\", palette=\"muted\")\n",
    "g.despine(left=True)\n",
    "g = g.set_ylabels(\"survival probability\")\n"
   ]
  },
  {
   "cell_type": "markdown",
   "metadata": {},
   "source": [
    "Why is it that those embarking from Cherbourg were more likely to survive?\n",
    "* Were they primarily women?\n",
    "* Where they primarily of higher SES?"
   ]
  },
  {
   "cell_type": "code",
   "execution_count": 22,
   "metadata": {},
   "outputs": [
    {
     "data": {
      "image/png": "[encoded data removed]",
      "text/plain": [
       "<Figure size 1296x432 with 3 Axes>"
      ]
     },
     "metadata": {},
     "output_type": "display_data"
    }
   ],
   "source": [
    "# Explore Pclass vs Embarked \n",
    "g = sns.factorplot(\"Pclass\", col=\"Embarked\",  data=train,\n",
    "                   size=6, kind=\"count\", palette=\"muted\")\n",
    "g.despine(left=True)\n",
    "g = g.set_ylabels(\"Count\")\n"
   ]
  },
  {
   "cell_type": "code",
   "execution_count": 23,
   "metadata": {},
   "outputs": [
    {
     "data": {
      "image/png": "[encoded data removed]",
      "text/plain": [
       "<Figure size 1296x432 with 3 Axes>"
      ]
     },
     "metadata": {},
     "output_type": "display_data"
    }
   ],
   "source": [
    "# Explore Pclass vs Embarked \n",
    "g = sns.factorplot(\"Sex\", col=\"Embarked\",  data=train,\n",
    "                   size=6, kind=\"count\", palette=\"muted\")\n",
    "g.despine(left=True)\n",
    "g = g.set_ylabels(\"Count\")\n"
   ]
  },
  {
   "cell_type": "markdown",
   "metadata": {},
   "source": [
    "# Analysis\n",
    "1. Q: Were they primarily women? \n",
    "- A: No, those from Southampton (S) were primarily men.  Cherbourg & Queenstown had a fairly even distribution of genders at the respective locations.\n",
    "2. Q: Were they primarily of higher SES?\n",
    "- A: Not necessarily conclusive across the board. There is a slightly higher distribution of 1st class passengers for  Cherbourg in contrast to the other locations. It would make sense that those embarking from  Cherbourg had some form of influence.\n",
    "\n",
    "Main Q: Why is it that those embarking from Cherbourg were more likely to survive?\n",
    "A: Passengers embarking from Cherbourg showed a higher distribution for 1st class passengers out of all 3 classes. It is likely, although not confirmed, that passengers of 1st class are probably aristocrats or indivusals that hold influence warranting their priotization during evac."
   ]
  },
  {
   "cell_type": "markdown",
   "metadata": {},
   "source": [
    "# Feature Imputation: Revisit\n",
    "Recalling,\n",
    "```sh\n",
    "Age: 177 / 891 instances missing --> 19.86532%\n",
    "Cabin: 687 / 891 instances missing --> 77.10438%\n",
    "Embarked: 2 / 891 instances missing --> 0.22447%\n",
    "```\n",
    "Considering the second round of EDA and now the need for imputing features. One should consider the entirety of the dataset. The reason for observing the entirety of the dataset. The test set was initially excluded from EDA since it does not contain the random target variable to be predicted. To analyze supporting random feature variables would not be useful during EDA since analysis revolves around understanding of related support features in conjunction with the rand target var. \n",
    "\n",
    "For the case of feature imputation it's now important to consider the entirety of dataset -- the set of all instances (train + test) because one must identify all features columns containing missing values. Identification of these instances' features for imputation is important because one is able to draw from a larger picture when deriving values for filling in missing features. In addition, we also fill in the blanks all in one sweep. "
   ]
  },
  {
   "cell_type": "code",
   "execution_count": 24,
   "metadata": {},
   "outputs": [],
   "source": [
    "test_ids = test[\"PassengerId\"]\n",
    "train[\"PassengerId\"] = train_ids\n",
    "# test = test.drop(\"PassengerId\",axis=1)"
   ]
  },
  {
   "cell_type": "code",
   "execution_count": 25,
   "metadata": {},
   "outputs": [
    {
     "data": {
      "text/html": [
       "<div>\n",
       "<style scoped>\n",
       "    .dataframe tbody tr th:only-of-type {\n",
       "        vertical-align: middle;\n",
       "    }\n",
       "\n",
       "    .dataframe tbody tr th {\n",
       "        vertical-align: top;\n",
       "    }\n",
       "\n",
       "    .dataframe thead th {\n",
       "        text-align: right;\n",
       "    }\n",
       "</style>\n",
       "<table border=\"1\" class=\"dataframe\">\n",
       "  <thead>\n",
       "    <tr style=\"text-align: right;\">\n",
       "      <th></th>\n",
       "      <th>PassengerId</th>\n",
       "      <th>Pclass</th>\n",
       "      <th>Name</th>\n",
       "      <th>Sex</th>\n",
       "      <th>Age</th>\n",
       "      <th>SibSp</th>\n",
       "      <th>Parch</th>\n",
       "      <th>Ticket</th>\n",
       "      <th>Fare</th>\n",
       "      <th>Cabin</th>\n",
       "      <th>Embarked</th>\n",
       "    </tr>\n",
       "  </thead>\n",
       "  <tbody>\n",
       "    <tr>\n",
       "      <th>0</th>\n",
       "      <td>892</td>\n",
       "      <td>3</td>\n",
       "      <td>Kelly, Mr. James</td>\n",
       "      <td>male</td>\n",
       "      <td>34.5</td>\n",
       "      <td>0</td>\n",
       "      <td>0</td>\n",
       "      <td>330911</td>\n",
       "      <td>7.8292</td>\n",
       "      <td>NaN</td>\n",
       "      <td>Q</td>\n",
       "    </tr>\n",
       "    <tr>\n",
       "      <th>1</th>\n",
       "      <td>893</td>\n",
       "      <td>3</td>\n",
       "      <td>Wilkes, Mrs. James (Ellen Needs)</td>\n",
       "      <td>female</td>\n",
       "      <td>47.0</td>\n",
       "      <td>1</td>\n",
       "      <td>0</td>\n",
       "      <td>363272</td>\n",
       "      <td>7.0000</td>\n",
       "      <td>NaN</td>\n",
       "      <td>S</td>\n",
       "    </tr>\n",
       "    <tr>\n",
       "      <th>2</th>\n",
       "      <td>894</td>\n",
       "      <td>2</td>\n",
       "      <td>Myles, Mr. Thomas Francis</td>\n",
       "      <td>male</td>\n",
       "      <td>62.0</td>\n",
       "      <td>0</td>\n",
       "      <td>0</td>\n",
       "      <td>240276</td>\n",
       "      <td>9.6875</td>\n",
       "      <td>NaN</td>\n",
       "      <td>Q</td>\n",
       "    </tr>\n",
       "    <tr>\n",
       "      <th>3</th>\n",
       "      <td>895</td>\n",
       "      <td>3</td>\n",
       "      <td>Wirz, Mr. Albert</td>\n",
       "      <td>male</td>\n",
       "      <td>27.0</td>\n",
       "      <td>0</td>\n",
       "      <td>0</td>\n",
       "      <td>315154</td>\n",
       "      <td>8.6625</td>\n",
       "      <td>NaN</td>\n",
       "      <td>S</td>\n",
       "    </tr>\n",
       "    <tr>\n",
       "      <th>4</th>\n",
       "      <td>896</td>\n",
       "      <td>3</td>\n",
       "      <td>Hirvonen, Mrs. Alexander (Helga E Lindqvist)</td>\n",
       "      <td>female</td>\n",
       "      <td>22.0</td>\n",
       "      <td>1</td>\n",
       "      <td>1</td>\n",
       "      <td>3101298</td>\n",
       "      <td>12.2875</td>\n",
       "      <td>NaN</td>\n",
       "      <td>S</td>\n",
       "    </tr>\n",
       "  </tbody>\n",
       "</table>\n",
       "</div>"
      ],
      "text/plain": [
       "   PassengerId  Pclass                                          Name     Sex  \\\n",
       "0          892       3                              Kelly, Mr. James    male   \n",
       "1          893       3              Wilkes, Mrs. James (Ellen Needs)  female   \n",
       "2          894       2                     Myles, Mr. Thomas Francis    male   \n",
       "3          895       3                              Wirz, Mr. Albert    male   \n",
       "4          896       3  Hirvonen, Mrs. Alexander (Helga E Lindqvist)  female   \n",
       "\n",
       "    Age  SibSp  Parch   Ticket     Fare Cabin Embarked  \n",
       "0  34.5      0      0   330911   7.8292   NaN        Q  \n",
       "1  47.0      1      0   363272   7.0000   NaN        S  \n",
       "2  62.0      0      0   240276   9.6875   NaN        Q  \n",
       "3  27.0      0      0   315154   8.6625   NaN        S  \n",
       "4  22.0      1      1  3101298  12.2875   NaN        S  "
      ]
     },
     "metadata": {},
     "output_type": "display_data"
    },
    {
     "data": {
      "text/html": [
       "<div>\n",
       "<style scoped>\n",
       "    .dataframe tbody tr th:only-of-type {\n",
       "        vertical-align: middle;\n",
       "    }\n",
       "\n",
       "    .dataframe tbody tr th {\n",
       "        vertical-align: top;\n",
       "    }\n",
       "\n",
       "    .dataframe thead th {\n",
       "        text-align: right;\n",
       "    }\n",
       "</style>\n",
       "<table border=\"1\" class=\"dataframe\">\n",
       "  <thead>\n",
       "    <tr style=\"text-align: right;\">\n",
       "      <th></th>\n",
       "      <th>Survived</th>\n",
       "      <th>Pclass</th>\n",
       "      <th>Name</th>\n",
       "      <th>Sex</th>\n",
       "      <th>Age</th>\n",
       "      <th>SibSp</th>\n",
       "      <th>Parch</th>\n",
       "      <th>Ticket</th>\n",
       "      <th>Fare</th>\n",
       "      <th>Cabin</th>\n",
       "      <th>Embarked</th>\n",
       "      <th>PassengerId</th>\n",
       "    </tr>\n",
       "  </thead>\n",
       "  <tbody>\n",
       "    <tr>\n",
       "      <th>0</th>\n",
       "      <td>0</td>\n",
       "      <td>3</td>\n",
       "      <td>Braund, Mr. Owen Harris</td>\n",
       "      <td>male</td>\n",
       "      <td>22.0</td>\n",
       "      <td>1</td>\n",
       "      <td>0</td>\n",
       "      <td>A/5 21171</td>\n",
       "      <td>7.2500</td>\n",
       "      <td>NaN</td>\n",
       "      <td>S</td>\n",
       "      <td>1</td>\n",
       "    </tr>\n",
       "    <tr>\n",
       "      <th>1</th>\n",
       "      <td>1</td>\n",
       "      <td>1</td>\n",
       "      <td>Cumings, Mrs. John Bradley (Florence Briggs Th...</td>\n",
       "      <td>female</td>\n",
       "      <td>38.0</td>\n",
       "      <td>1</td>\n",
       "      <td>0</td>\n",
       "      <td>PC 17599</td>\n",
       "      <td>71.2833</td>\n",
       "      <td>C85</td>\n",
       "      <td>C</td>\n",
       "      <td>2</td>\n",
       "    </tr>\n",
       "    <tr>\n",
       "      <th>2</th>\n",
       "      <td>1</td>\n",
       "      <td>3</td>\n",
       "      <td>Heikkinen, Miss. Laina</td>\n",
       "      <td>female</td>\n",
       "      <td>26.0</td>\n",
       "      <td>0</td>\n",
       "      <td>0</td>\n",
       "      <td>STON/O2. 3101282</td>\n",
       "      <td>7.9250</td>\n",
       "      <td>NaN</td>\n",
       "      <td>S</td>\n",
       "      <td>3</td>\n",
       "    </tr>\n",
       "    <tr>\n",
       "      <th>3</th>\n",
       "      <td>1</td>\n",
       "      <td>1</td>\n",
       "      <td>Futrelle, Mrs. Jacques Heath (Lily May Peel)</td>\n",
       "      <td>female</td>\n",
       "      <td>35.0</td>\n",
       "      <td>1</td>\n",
       "      <td>0</td>\n",
       "      <td>113803</td>\n",
       "      <td>53.1000</td>\n",
       "      <td>C123</td>\n",
       "      <td>S</td>\n",
       "      <td>4</td>\n",
       "    </tr>\n",
       "    <tr>\n",
       "      <th>4</th>\n",
       "      <td>0</td>\n",
       "      <td>3</td>\n",
       "      <td>Allen, Mr. William Henry</td>\n",
       "      <td>male</td>\n",
       "      <td>35.0</td>\n",
       "      <td>0</td>\n",
       "      <td>0</td>\n",
       "      <td>373450</td>\n",
       "      <td>8.0500</td>\n",
       "      <td>NaN</td>\n",
       "      <td>S</td>\n",
       "      <td>5</td>\n",
       "    </tr>\n",
       "  </tbody>\n",
       "</table>\n",
       "</div>"
      ],
      "text/plain": [
       "   Survived  Pclass                                               Name  \\\n",
       "0         0       3                            Braund, Mr. Owen Harris   \n",
       "1         1       1  Cumings, Mrs. John Bradley (Florence Briggs Th...   \n",
       "2         1       3                             Heikkinen, Miss. Laina   \n",
       "3         1       1       Futrelle, Mrs. Jacques Heath (Lily May Peel)   \n",
       "4         0       3                           Allen, Mr. William Henry   \n",
       "\n",
       "      Sex   Age  SibSp  Parch            Ticket     Fare Cabin Embarked  \\\n",
       "0    male  22.0      1      0         A/5 21171   7.2500   NaN        S   \n",
       "1  female  38.0      1      0          PC 17599  71.2833   C85        C   \n",
       "2  female  26.0      0      0  STON/O2. 3101282   7.9250   NaN        S   \n",
       "3  female  35.0      1      0            113803  53.1000  C123        S   \n",
       "4    male  35.0      0      0            373450   8.0500   NaN        S   \n",
       "\n",
       "   PassengerId  \n",
       "0            1  \n",
       "1            2  \n",
       "2            3  \n",
       "3            4  \n",
       "4            5  "
      ]
     },
     "metadata": {},
     "output_type": "display_data"
    }
   ],
   "source": [
    "display(test.head())\n",
    "display(train.head())"
   ]
  },
  {
   "cell_type": "code",
   "execution_count": 26,
   "metadata": {},
   "outputs": [
    {
     "data": {
      "text/plain": [
       "(891, 12)"
      ]
     },
     "metadata": {},
     "output_type": "display_data"
    },
    {
     "data": {
      "text/plain": [
       "(418, 11)"
      ]
     },
     "metadata": {},
     "output_type": "display_data"
    },
    {
     "data": {
      "text/plain": [
       "(1309, 12)"
      ]
     },
     "metadata": {},
     "output_type": "display_data"
    }
   ],
   "source": [
    "full_data = pd.concat(objs=[train,test], axis=0).reset_index(drop=True)\n",
    "display(train.shape, test.shape, full_data.shape)\n",
    "# len(full_data)\n",
    "# full_data.head()"
   ]
  },
  {
   "cell_type": "markdown",
   "metadata": {},
   "source": [
    "Note that it's okay for the test data shape to be one less than the training because the test set does not contain the target variable \"Survived\"."
   ]
  },
  {
   "cell_type": "markdown",
   "metadata": {},
   "source": [
    "# Feature Imputation: Assessing Missing Values\n"
   ]
  },
  {
   "cell_type": "markdown",
   "metadata": {},
   "source": [
    "# Feature Imputation: 4C's\n",
    "1. Complete: impute values for missing cells\n",
    "2. Correct: appropriate adjustment of distributions, removal of outliers\n",
    "3. Create: generation of new features given existing features\n",
    "4. Convert: hot encode ie conversion of object types to values accepted by the machine such as integer/float types "
   ]
  },
  {
   "cell_type": "markdown",
   "metadata": {},
   "source": [
    "# Feature Imputation: Correct"
   ]
  },
  {
   "cell_type": "code",
   "execution_count": 27,
   "metadata": {},
   "outputs": [],
   "source": [
    "# Outlier detection \n",
    "def detect_outliers(df,n,features):\n",
    "    \"\"\"\n",
    "    Takes a dataframe df of features and returns a list of the indices\n",
    "    corresponding to the observations containing more than n outliers according\n",
    "    to the Tukey method.\n",
    "    \n",
    "    Reference:  https://www.kaggle.com/yassineghouzam/titanic-top-4-with-ensemble-modeling\n",
    "    \"\"\"\n",
    "    outlier_indices = []\n",
    "    # iterate over features(columns)\n",
    "    for col in features:\n",
    "        # 1st quartile (25%)\n",
    "        Q1 = np.percentile(df[col], 25)\n",
    "        # 3rd quartile (75%)\n",
    "        Q3 = np.percentile(df[col],75)\n",
    "        # Interquartile range (IQR)\n",
    "        IQR = Q3 - Q1\n",
    "        # outlier step\n",
    "        outlier_step = 1.5 * IQR\n",
    "        # Determine a list of indices of outliers for feature col\n",
    "        outlier_list_col = df[(df[col] < Q1 - outlier_step) | (df[col] > Q3 + outlier_step )].index\n",
    "        # append the found outlier indices for col to the list of outlier indices \n",
    "        outlier_indices.extend(outlier_list_col)\n",
    "    # select observations containing more than 2 outliers\n",
    "    outlier_indices = Counter(outlier_indices)        \n",
    "    multiple_outliers = list( k for k, v in outlier_indices.items() if v > n )\n",
    "    return multiple_outliers   \n",
    "\n",
    "# detect outliers from Age, SibSp , Parch and Fare\n",
    "outliers_to_drop = detect_outliers(train,2,[\"Age\",\"SibSp\",\"Parch\",\"Fare\"])"
   ]
  },
  {
   "attachments": {
    "image.png": {
     "image/png": "[encoded data removed]"
    }
   },
   "cell_type": "markdown",
   "metadata": {},
   "source": [
    "The function detect_outliers is potentially faulty because it does NOT drop NaNs when calculating the percentiles.\n",
    "![image.png](attachment:image.png)"
   ]
  },
  {
   "cell_type": "code",
   "execution_count": 28,
   "metadata": {},
   "outputs": [
    {
     "name": "stdout",
     "output_type": "stream",
     "text": [
      "Training set outliers: 10\n"
     ]
    },
    {
     "data": {
      "text/html": [
       "<div>\n",
       "<style scoped>\n",
       "    .dataframe tbody tr th:only-of-type {\n",
       "        vertical-align: middle;\n",
       "    }\n",
       "\n",
       "    .dataframe tbody tr th {\n",
       "        vertical-align: top;\n",
       "    }\n",
       "\n",
       "    .dataframe thead th {\n",
       "        text-align: right;\n",
       "    }\n",
       "</style>\n",
       "<table border=\"1\" class=\"dataframe\">\n",
       "  <thead>\n",
       "    <tr style=\"text-align: right;\">\n",
       "      <th></th>\n",
       "      <th>Survived</th>\n",
       "      <th>Pclass</th>\n",
       "      <th>Name</th>\n",
       "      <th>Sex</th>\n",
       "      <th>Age</th>\n",
       "      <th>SibSp</th>\n",
       "      <th>Parch</th>\n",
       "      <th>Ticket</th>\n",
       "      <th>Fare</th>\n",
       "      <th>Cabin</th>\n",
       "      <th>Embarked</th>\n",
       "      <th>PassengerId</th>\n",
       "    </tr>\n",
       "  </thead>\n",
       "  <tbody>\n",
       "    <tr>\n",
       "      <th>27</th>\n",
       "      <td>0</td>\n",
       "      <td>1</td>\n",
       "      <td>Fortune, Mr. Charles Alexander</td>\n",
       "      <td>male</td>\n",
       "      <td>19.0</td>\n",
       "      <td>3</td>\n",
       "      <td>2</td>\n",
       "      <td>19950</td>\n",
       "      <td>263.00</td>\n",
       "      <td>C23 C25 C27</td>\n",
       "      <td>S</td>\n",
       "      <td>28</td>\n",
       "    </tr>\n",
       "    <tr>\n",
       "      <th>88</th>\n",
       "      <td>1</td>\n",
       "      <td>1</td>\n",
       "      <td>Fortune, Miss. Mabel Helen</td>\n",
       "      <td>female</td>\n",
       "      <td>23.0</td>\n",
       "      <td>3</td>\n",
       "      <td>2</td>\n",
       "      <td>19950</td>\n",
       "      <td>263.00</td>\n",
       "      <td>C23 C25 C27</td>\n",
       "      <td>S</td>\n",
       "      <td>89</td>\n",
       "    </tr>\n",
       "    <tr>\n",
       "      <th>159</th>\n",
       "      <td>0</td>\n",
       "      <td>3</td>\n",
       "      <td>Sage, Master. Thomas Henry</td>\n",
       "      <td>male</td>\n",
       "      <td>NaN</td>\n",
       "      <td>8</td>\n",
       "      <td>2</td>\n",
       "      <td>CA. 2343</td>\n",
       "      <td>69.55</td>\n",
       "      <td>NaN</td>\n",
       "      <td>S</td>\n",
       "      <td>160</td>\n",
       "    </tr>\n",
       "    <tr>\n",
       "      <th>180</th>\n",
       "      <td>0</td>\n",
       "      <td>3</td>\n",
       "      <td>Sage, Miss. Constance Gladys</td>\n",
       "      <td>female</td>\n",
       "      <td>NaN</td>\n",
       "      <td>8</td>\n",
       "      <td>2</td>\n",
       "      <td>CA. 2343</td>\n",
       "      <td>69.55</td>\n",
       "      <td>NaN</td>\n",
       "      <td>S</td>\n",
       "      <td>181</td>\n",
       "    </tr>\n",
       "    <tr>\n",
       "      <th>201</th>\n",
       "      <td>0</td>\n",
       "      <td>3</td>\n",
       "      <td>Sage, Mr. Frederick</td>\n",
       "      <td>male</td>\n",
       "      <td>NaN</td>\n",
       "      <td>8</td>\n",
       "      <td>2</td>\n",
       "      <td>CA. 2343</td>\n",
       "      <td>69.55</td>\n",
       "      <td>NaN</td>\n",
       "      <td>S</td>\n",
       "      <td>202</td>\n",
       "    </tr>\n",
       "    <tr>\n",
       "      <th>324</th>\n",
       "      <td>0</td>\n",
       "      <td>3</td>\n",
       "      <td>Sage, Mr. George John Jr</td>\n",
       "      <td>male</td>\n",
       "      <td>NaN</td>\n",
       "      <td>8</td>\n",
       "      <td>2</td>\n",
       "      <td>CA. 2343</td>\n",
       "      <td>69.55</td>\n",
       "      <td>NaN</td>\n",
       "      <td>S</td>\n",
       "      <td>325</td>\n",
       "    </tr>\n",
       "    <tr>\n",
       "      <th>341</th>\n",
       "      <td>1</td>\n",
       "      <td>1</td>\n",
       "      <td>Fortune, Miss. Alice Elizabeth</td>\n",
       "      <td>female</td>\n",
       "      <td>24.0</td>\n",
       "      <td>3</td>\n",
       "      <td>2</td>\n",
       "      <td>19950</td>\n",
       "      <td>263.00</td>\n",
       "      <td>C23 C25 C27</td>\n",
       "      <td>S</td>\n",
       "      <td>342</td>\n",
       "    </tr>\n",
       "    <tr>\n",
       "      <th>792</th>\n",
       "      <td>0</td>\n",
       "      <td>3</td>\n",
       "      <td>Sage, Miss. Stella Anna</td>\n",
       "      <td>female</td>\n",
       "      <td>NaN</td>\n",
       "      <td>8</td>\n",
       "      <td>2</td>\n",
       "      <td>CA. 2343</td>\n",
       "      <td>69.55</td>\n",
       "      <td>NaN</td>\n",
       "      <td>S</td>\n",
       "      <td>793</td>\n",
       "    </tr>\n",
       "    <tr>\n",
       "      <th>846</th>\n",
       "      <td>0</td>\n",
       "      <td>3</td>\n",
       "      <td>Sage, Mr. Douglas Bullen</td>\n",
       "      <td>male</td>\n",
       "      <td>NaN</td>\n",
       "      <td>8</td>\n",
       "      <td>2</td>\n",
       "      <td>CA. 2343</td>\n",
       "      <td>69.55</td>\n",
       "      <td>NaN</td>\n",
       "      <td>S</td>\n",
       "      <td>847</td>\n",
       "    </tr>\n",
       "    <tr>\n",
       "      <th>863</th>\n",
       "      <td>0</td>\n",
       "      <td>3</td>\n",
       "      <td>Sage, Miss. Dorothy Edith \"Dolly\"</td>\n",
       "      <td>female</td>\n",
       "      <td>NaN</td>\n",
       "      <td>8</td>\n",
       "      <td>2</td>\n",
       "      <td>CA. 2343</td>\n",
       "      <td>69.55</td>\n",
       "      <td>NaN</td>\n",
       "      <td>S</td>\n",
       "      <td>864</td>\n",
       "    </tr>\n",
       "  </tbody>\n",
       "</table>\n",
       "</div>"
      ],
      "text/plain": [
       "     Survived  Pclass                               Name     Sex   Age  SibSp  \\\n",
       "27          0       1     Fortune, Mr. Charles Alexander    male  19.0      3   \n",
       "88          1       1         Fortune, Miss. Mabel Helen  female  23.0      3   \n",
       "159         0       3         Sage, Master. Thomas Henry    male   NaN      8   \n",
       "180         0       3       Sage, Miss. Constance Gladys  female   NaN      8   \n",
       "201         0       3                Sage, Mr. Frederick    male   NaN      8   \n",
       "324         0       3           Sage, Mr. George John Jr    male   NaN      8   \n",
       "341         1       1     Fortune, Miss. Alice Elizabeth  female  24.0      3   \n",
       "792         0       3            Sage, Miss. Stella Anna  female   NaN      8   \n",
       "846         0       3           Sage, Mr. Douglas Bullen    male   NaN      8   \n",
       "863         0       3  Sage, Miss. Dorothy Edith \"Dolly\"  female   NaN      8   \n",
       "\n",
       "     Parch    Ticket    Fare        Cabin Embarked  PassengerId  \n",
       "27       2     19950  263.00  C23 C25 C27        S           28  \n",
       "88       2     19950  263.00  C23 C25 C27        S           89  \n",
       "159      2  CA. 2343   69.55          NaN        S          160  \n",
       "180      2  CA. 2343   69.55          NaN        S          181  \n",
       "201      2  CA. 2343   69.55          NaN        S          202  \n",
       "324      2  CA. 2343   69.55          NaN        S          325  \n",
       "341      2     19950  263.00  C23 C25 C27        S          342  \n",
       "792      2  CA. 2343   69.55          NaN        S          793  \n",
       "846      2  CA. 2343   69.55          NaN        S          847  \n",
       "863      2  CA. 2343   69.55          NaN        S          864  "
      ]
     },
     "execution_count": 28,
     "metadata": {},
     "output_type": "execute_result"
    }
   ],
   "source": [
    "print(\"Training set outliers:\", len(train.loc[outliers_to_drop]))\n",
    "train.loc[outliers_to_drop]\n"
   ]
  },
  {
   "cell_type": "code",
   "execution_count": 29,
   "metadata": {},
   "outputs": [],
   "source": [
    "# Drop outliers\n",
    "train = train.drop(outliers_to_drop, axis = 0).reset_index(drop=True)"
   ]
  },
  {
   "cell_type": "markdown",
   "metadata": {},
   "source": [
    "# Feature Imputation: Complete\n",
    "Similar to first approach we find all missing values for any column from which we are able to identify the columns in need of imputation.\n"
   ]
  },
  {
   "cell_type": "code",
   "execution_count": 30,
   "metadata": {},
   "outputs": [
    {
     "data": {
      "text/plain": [
       "Survived        418\n",
       "Pclass            0\n",
       "Name              0\n",
       "Sex               0\n",
       "Age             256\n",
       "SibSp             0\n",
       "Parch             0\n",
       "Ticket            0\n",
       "Fare              1\n",
       "Cabin          1007\n",
       "Embarked          2\n",
       "PassengerId       0\n",
       "dtype: int64"
      ]
     },
     "execution_count": 30,
     "metadata": {},
     "output_type": "execute_result"
    }
   ],
   "source": [
    "## Join train and test sets in order to obtain the same number of features during categorical conversion\n",
    "train_len = len(train)\n",
    "full_data =  pd.concat(objs=[train, test], axis=0).reset_index(drop=True)\n",
    "# Fill empty and NaNs values with NaN\n",
    "full_data = full_data.fillna(np.nan)\n",
    "# Check for Null values\n",
    "full_data.isnull().sum()\n"
   ]
  },
  {
   "cell_type": "code",
   "execution_count": 31,
   "metadata": {},
   "outputs": [],
   "source": [
    "def show_missing_report(df:pandas.DataFrame):\n",
    "    all_cols = df.isna().any()\n",
    "    na_cols = [c for c in all_cols.index if all_cols[c] == True]\n",
    "    na_cols.remove(\"Survived\") # random target feature column we DONT impute for\n",
    "    display(\"All columns:\",df.isna().any(), \"Missing cols:\", na_cols)\n",
    "    print()\n",
    "    for c in na_cols:\n",
    "        na_count = df[c].isna().sum()\n",
    "        total = len(df[c])\n",
    "        na_percent =  na_count / total * 100\n",
    "        print(\"{}: {} / {} instances missing --> {:1.5f}%\".format(c, na_count, total, na_percent))\n",
    "        "
   ]
  },
  {
   "cell_type": "code",
   "execution_count": 32,
   "metadata": {},
   "outputs": [
    {
     "data": {
      "text/plain": [
       "'All columns:'"
      ]
     },
     "metadata": {},
     "output_type": "display_data"
    },
    {
     "data": {
      "text/plain": [
       "Survived        True\n",
       "Pclass         False\n",
       "Name           False\n",
       "Sex            False\n",
       "Age             True\n",
       "SibSp          False\n",
       "Parch          False\n",
       "Ticket         False\n",
       "Fare            True\n",
       "Cabin           True\n",
       "Embarked        True\n",
       "PassengerId    False\n",
       "dtype: bool"
      ]
     },
     "metadata": {},
     "output_type": "display_data"
    },
    {
     "data": {
      "text/plain": [
       "'Missing cols:'"
      ]
     },
     "metadata": {},
     "output_type": "display_data"
    },
    {
     "data": {
      "text/plain": [
       "['Age', 'Fare', 'Cabin', 'Embarked']"
      ]
     },
     "metadata": {},
     "output_type": "display_data"
    },
    {
     "name": "stdout",
     "output_type": "stream",
     "text": [
      "\n",
      "Age: 256 / 1299 instances missing --> 19.70747%\n",
      "Fare: 1 / 1299 instances missing --> 0.07698%\n",
      "Cabin: 1007 / 1299 instances missing --> 77.52117%\n",
      "Embarked: 2 / 1299 instances missing --> 0.15396%\n"
     ]
    }
   ],
   "source": [
    "show_missing_report(full_data)        \n"
   ]
  },
  {
   "cell_type": "markdown",
   "metadata": {},
   "source": [
    "# Feature Imputation: Age\n",
    "There exists 256 missing values in the whole dataset post-outliers removal. Given the prior observations from EDA, we know the feature age holds significance in passenger survival thus provides reason for keeping such a feature and suggests a need to fill in the blanks. An approach to imputing for this feature would be to observe the features that are most correlated with age. "
   ]
  },
  {
   "cell_type": "code",
   "execution_count": 33,
   "metadata": {},
   "outputs": [
    {
     "data": {
      "text/plain": [
       "['Pclass', 'Sex', 'Age', 'SibSp', 'Parch', 'Embarked']"
      ]
     },
     "execution_count": 33,
     "metadata": {},
     "output_type": "execute_result"
    }
   ],
   "source": [
    "full_data.columns\n",
    "# cols removed from plotting due to computational cost\n",
    "insig_cols = ['PassengerId','Name',\"Ticket\",\"Fare\",\"Cabin\",\"Survived\"] \n",
    "sig_cols = [ c for c in full_data.columns if c not in insig_cols]\n",
    "sig_cols"
   ]
  },
  {
   "cell_type": "code",
   "execution_count": 34,
   "metadata": {
    "scrolled": false
   },
   "outputs": [
    {
     "name": "stdout",
     "output_type": "stream",
     "text": [
      "Pclass\n"
     ]
    },
    {
     "data": {
      "image/png": "[encoded data removed]",
      "text/plain": [
       "<Figure size 360x360 with 1 Axes>"
      ]
     },
     "metadata": {},
     "output_type": "display_data"
    },
    {
     "name": "stdout",
     "output_type": "stream",
     "text": [
      "Sex\n"
     ]
    },
    {
     "data": {
      "image/png": "[encoded data removed]",
      "text/plain": [
       "<Figure size 360x360 with 1 Axes>"
      ]
     },
     "metadata": {},
     "output_type": "display_data"
    },
    {
     "name": "stdout",
     "output_type": "stream",
     "text": [
      "SibSp\n"
     ]
    },
    {
     "data": {
      "image/png": "[encoded data removed]",
      "text/plain": [
       "<Figure size 360x360 with 1 Axes>"
      ]
     },
     "metadata": {},
     "output_type": "display_data"
    },
    {
     "name": "stdout",
     "output_type": "stream",
     "text": [
      "Parch\n"
     ]
    },
    {
     "data": {
      "image/png": "[encoded data removed]",
      "text/plain": [
       "<Figure size 360x360 with 1 Axes>"
      ]
     },
     "metadata": {},
     "output_type": "display_data"
    },
    {
     "name": "stdout",
     "output_type": "stream",
     "text": [
      "Embarked\n"
     ]
    },
    {
     "data": {
      "image/png": "[encoded data removed]",
      "text/plain": [
       "<Figure size 360x360 with 1 Axes>"
      ]
     },
     "metadata": {},
     "output_type": "display_data"
    }
   ],
   "source": [
    "PROPS = {\n",
    "#     'boxprops':{'facecolor':'none', 'edgecolor':'white'},\n",
    "    'medianprops':{'color':'magenta'},\n",
    "    'whiskerprops':{'color':'grey'},\n",
    "    'capprops':{'color':'white'}\n",
    "}\n",
    "\n",
    "for c in [_ for _ in sig_cols if _ != \"Age\"]:\n",
    "    print(c)\n",
    "    g = sns.factorplot(y=\"Age\",x=c,data=full_data,kind=\"box\",**PROPS)\n",
    "    plt.show()\n",
    "\n"
   ]
  },
  {
   "cell_type": "code",
   "execution_count": 35,
   "metadata": {},
   "outputs": [
    {
     "name": "stdout",
     "output_type": "stream",
     "text": [
      "['Pclass', 'Sex', 'Age', 'SibSp', 'Parch', 'Embarked']\n"
     ]
    },
    {
     "data": {
      "image/png": "[encoded data removed]",
      "text/plain": [
       "<Figure size 576x504 with 2 Axes>"
      ]
     },
     "metadata": {},
     "output_type": "display_data"
    }
   ],
   "source": [
    "print(sig_cols) \n",
    "g = sns.heatmap(full_data[sig_cols].corr(),cmap=\"coolwarm\",annot=True)\n",
    "# does not plot \"Sex\" because the machine does not understand strings thus need to hot encode"
   ]
  },
  {
   "cell_type": "code",
   "execution_count": 36,
   "metadata": {},
   "outputs": [
    {
     "data": {
      "image/png": "[encoded data removed]",
      "text/plain": [
       "<Figure size 576x504 with 2 Axes>"
      ]
     },
     "metadata": {},
     "output_type": "display_data"
    }
   ],
   "source": [
    "# map applies a transform given the key to be transformed to the associated value\n",
    "full_data[\"Sex\"] = full_data[\"Sex\"].map({\"male\":0, \"female\":1}) \n",
    "g = sns.heatmap(full_data[sig_cols].corr(),cmap=\"coolwarm\",annot=True)\n"
   ]
  },
  {
   "cell_type": "markdown",
   "metadata": {},
   "source": [
    "Age is least correlated with sex. For all other features, there is a fair amount of correlation with \"Pclass\" being the largest. Apply imputation given the similarity between the feature criteria consisting of Pclass, Parch & SibSp."
   ]
  },
  {
   "cell_type": "code",
   "execution_count": 37,
   "metadata": {},
   "outputs": [
    {
     "name": "stdout",
     "output_type": "stream",
     "text": [
      "Filled using predicted value: 25.0\n",
      "Filled using predicted value: 30.0\n",
      "Filled using predicted value: 25.0\n",
      "Filled using predicted value: 25.0\n",
      "Filled using predicted value: 25.0\n",
      "Filled using predicted value: 25.0\n",
      "Filled using predicted value: 38.0\n",
      "Filled using predicted value: 25.0\n",
      "Filled using predicted value: 25.0\n",
      "Filled using predicted value: 25.0\n",
      "Filled using predicted value: 25.0\n",
      "Filled using predicted value: 25.0\n",
      "Filled using predicted value: 25.0\n",
      "Filled using predicted value: 23.0\n",
      "Filled using predicted value: 39.0\n",
      "Filled using predicted value: 39.0\n",
      "Filled using predicted value: 16.0\n",
      "Filled using predicted value: 25.0\n",
      "Filled using predicted value: 25.0\n",
      "Filled using predicted value: 25.0\n",
      "Filled using predicted value: 25.0\n",
      "Filled using predicted value: 25.0\n",
      "Filled using predicted value: 25.0\n",
      "Filled using predicted value: 25.0\n",
      "Filled using predicted value: 25.0\n",
      "Filled using predicted value: 25.0\n",
      "Filled using predicted value: 25.0\n",
      "Filled using predicted value: 16.0\n",
      "Filled using predicted value: 26.0\n",
      "Filled using predicted value: 25.0\n",
      "Filled using predicted value: 25.0\n",
      "Filled using predicted value: 37.5\n",
      "Filled using predicted value: 39.0\n",
      "Filled using predicted value: 6.0\n",
      "Filled using predicted value: 30.0\n",
      "Filled using predicted value: 39.0\n",
      "Filled using predicted value: 25.0\n",
      "Filled using predicted value: 25.0\n",
      "Filled using predicted value: 25.0\n",
      "Filled using predicted value: 25.0\n",
      "Filled using predicted value: 25.0\n",
      "Filled using predicted value: 6.0\n",
      "Filled using predicted value: 25.0\n",
      "Filled using predicted value: 25.0\n",
      "Filled using predicted value: 25.0\n",
      "Filled using predicted value: 25.0\n",
      "Filled using predicted value: 39.0\n",
      "Filled using predicted value: 25.0\n",
      "Filled using predicted value: 25.0\n",
      "Filled using predicted value: 39.0\n",
      "Filled using predicted value: 25.0\n",
      "Filled using predicted value: 30.0\n",
      "Filled using predicted value: 39.0\n",
      "Filled using predicted value: 39.0\n",
      "Filled using predicted value: 39.0\n",
      "Filled using predicted value: 25.0\n",
      "Filled using predicted value: 23.0\n",
      "Filled using predicted value: 30.0\n",
      "Filled using predicted value: 25.0\n",
      "Filled using predicted value: 39.0\n",
      "Filled using predicted value: 23.0\n",
      "Filled using predicted value: 38.0\n",
      "Filled using predicted value: 25.0\n",
      "Filled using predicted value: 25.0\n",
      "Filled using predicted value: 39.0\n",
      "Filled using predicted value: 25.0\n",
      "Filled using predicted value: 25.0\n",
      "Filled using predicted value: 25.0\n",
      "Filled using predicted value: 25.0\n",
      "Filled using predicted value: 25.0\n",
      "Filled using predicted value: 25.0\n",
      "Filled using predicted value: 38.0\n",
      "Filled using predicted value: 25.0\n",
      "Filled using predicted value: 25.0\n",
      "Filled using predicted value: 6.0\n",
      "Filled using predicted value: 25.0\n",
      "Filled using predicted value: 25.0\n",
      "Filled using predicted value: 30.0\n",
      "Filled using predicted value: 25.0\n",
      "Filled using predicted value: 25.0\n",
      "Filled using predicted value: 25.0\n",
      "Filled using predicted value: 25.0\n",
      "Filled using predicted value: 25.0\n",
      "Filled using predicted value: 25.0\n",
      "Filled using predicted value: 25.0\n",
      "Filled using predicted value: 25.0\n",
      "Filled using predicted value: 38.0\n",
      "Filled using predicted value: 25.0\n",
      "Filled using predicted value: 25.0\n",
      "Filled using predicted value: 30.0\n",
      "Filled using predicted value: 25.0\n",
      "Filled using predicted value: 25.0\n",
      "Filled using predicted value: 39.0\n",
      "Filled using predicted value: 30.0\n",
      "Filled using predicted value: 6.0\n",
      "Filled using predicted value: 25.0\n",
      "Filled using predicted value: 25.0\n",
      "Filled using predicted value: 25.0\n",
      "Filled using predicted value: 25.0\n",
      "Filled using predicted value: 39.0\n",
      "Filled using predicted value: 25.0\n",
      "Filled using predicted value: 25.0\n",
      "Filled using predicted value: 25.0\n",
      "Filled using predicted value: 25.0\n",
      "Filled using predicted value: 39.0\n",
      "Filled using predicted value: 25.0\n",
      "Filled using predicted value: 26.0\n",
      "Filled using predicted value: 25.0\n",
      "Filled using predicted value: 30.0\n",
      "Filled using predicted value: 25.0\n",
      "Filled using predicted value: 39.0\n",
      "Filled using predicted value: 25.0\n",
      "Filled using predicted value: 25.0\n",
      "Filled using predicted value: 25.0\n",
      "Filled using predicted value: 25.0\n",
      "Filled using predicted value: 25.0\n",
      "Filled using predicted value: 25.0\n",
      "Filled using predicted value: 25.0\n",
      "Filled using predicted value: 25.0\n",
      "Filled using predicted value: 26.0\n",
      "Filled using predicted value: 30.0\n",
      "Filled using predicted value: 25.0\n",
      "Filled using predicted value: 25.0\n",
      "Filled using predicted value: 39.0\n",
      "Filled using predicted value: 25.0\n",
      "Filled using predicted value: 25.0\n",
      "Filled using predicted value: 25.0\n",
      "Filled using predicted value: 25.0\n",
      "Filled using predicted value: 39.0\n",
      "Filled using predicted value: 25.0\n",
      "Filled using predicted value: 25.0\n",
      "Filled using predicted value: 25.0\n",
      "Filled using predicted value: 25.0\n",
      "Filled using predicted value: 25.0\n",
      "Filled using predicted value: 25.0\n",
      "Filled using predicted value: 25.0\n",
      "Filled using predicted value: 38.0\n",
      "Filled using predicted value: 30.0\n",
      "Filled using predicted value: 25.0\n",
      "Filled using predicted value: 25.0\n",
      "Filled using predicted value: 25.0\n",
      "Filled using predicted value: 16.0\n",
      "Filled using predicted value: 39.0\n",
      "Filled using predicted value: 25.0\n",
      "Filled using predicted value: 25.0\n",
      "Filled using predicted value: 30.0\n",
      "Filled using predicted value: 25.0\n",
      "Filled using predicted value: 25.0\n",
      "Filled using predicted value: 39.0\n",
      "Filled using predicted value: 25.0\n",
      "Filled using predicted value: 39.0\n",
      "Filled using predicted value: 25.0\n",
      "Filled using predicted value: 25.0\n",
      "Filled using predicted value: 25.0\n",
      "Filled using predicted value: 25.0\n",
      "Filled using predicted value: 13.5\n",
      "Filled using predicted value: 25.0\n",
      "Filled using predicted value: 39.0\n",
      "Filled using predicted value: 39.0\n",
      "Filled using predicted value: 25.0\n",
      "Filled using predicted value: 25.0\n",
      "Filled using predicted value: 25.0\n",
      "Filled using predicted value: 25.0\n",
      "Filled using predicted value: 25.0\n",
      "Filled using predicted value: 39.0\n",
      "Filled using predicted value: 38.0\n",
      "Filled using predicted value: 25.0\n",
      "Filled using predicted value: 25.0\n",
      "Filled using predicted value: 25.0\n",
      "Filled using predicted value: 13.5\n",
      "Filled using predicted value: 25.0\n",
      "Filled using predicted value: 39.0\n",
      "Filled using predicted value: 23.0\n",
      "Filled using predicted value: 13.5\n",
      "Filled using predicted value: 25.0\n",
      "Filled using predicted value: 25.0\n",
      "Filled using predicted value: 39.0\n",
      "Filled using predicted value: 25.0\n",
      "Filled using predicted value: 30.0\n",
      "Filled using predicted value: 25.0\n",
      "Filled using predicted value: 30.0\n",
      "Filled using predicted value: 25.0\n",
      "Filled using predicted value: 25.0\n",
      "Filled using predicted value: 30.0\n",
      "Filled using predicted value: 25.0\n",
      "Filled using predicted value: 25.0\n",
      "Filled using predicted value: 25.0\n",
      "Filled using predicted value: 25.0\n",
      "Filled using predicted value: 25.0\n",
      "Filled using predicted value: 25.0\n",
      "Filled using predicted value: 25.0\n",
      "Filled using predicted value: 25.0\n",
      "Filled using predicted value: 25.0\n",
      "Filled using predicted value: 25.0\n",
      "Filled using predicted value: 25.0\n",
      "Filled using predicted value: 23.0\n",
      "Filled using predicted value: 29.0\n",
      "Filled using predicted value: 25.0\n",
      "Filled using predicted value: 39.0\n",
      "Filled using predicted value: 39.0\n",
      "Filled using predicted value: 25.0\n",
      "Filled using predicted value: 25.0\n",
      "Filled using predicted value: 25.0\n",
      "Filled using predicted value: 39.0\n",
      "Filled using predicted value: 25.0\n",
      "Filled using predicted value: 25.0\n",
      "Filled using predicted value: 25.0\n",
      "Filled using predicted value: 14.5\n",
      "Filled using predicted value: 39.0\n",
      "Filled using predicted value: 25.0\n",
      "Filled using predicted value: 25.0\n",
      "Filled using predicted value: 39.0\n",
      "Filled using predicted value: 25.0\n",
      "Filled using predicted value: 25.0\n",
      "Filled using predicted value: 25.0\n",
      "Filled using predicted value: 26.0\n",
      "Filled using predicted value: 25.0\n",
      "Filled using predicted value: 25.0\n",
      "Filled using predicted value: 25.0\n",
      "Filled using predicted value: 13.5\n",
      "Filled using predicted value: 25.0\n",
      "Filled using predicted value: 25.0\n",
      "Filled using predicted value: 25.0\n",
      "Filled using predicted value: 25.0\n",
      "Filled using predicted value: 39.0\n",
      "Filled using predicted value: 25.0\n",
      "Filled using predicted value: 25.0\n",
      "Filled using predicted value: 25.0\n",
      "Filled using predicted value: 25.0\n",
      "Filled using predicted value: 25.0\n",
      "Filled using predicted value: 25.0\n",
      "Filled using predicted value: 25.0\n",
      "Filled using predicted value: 25.0\n",
      "Filled using predicted value: 25.0\n",
      "Filled using predicted value: 39.0\n",
      "Filled using predicted value: 25.0\n",
      "Filled using predicted value: 23.0\n",
      "Filled using predicted value: 30.0\n",
      "Filled using predicted value: 25.0\n",
      "Filled using predicted value: 25.0\n",
      "Filled using predicted value: 25.0\n",
      "Filled using predicted value: 25.0\n",
      "Filled using median value: 26.0\n",
      "Filled using predicted value: 16.0\n",
      "Filled using predicted value: 25.0\n",
      "Filled using predicted value: 25.0\n",
      "Filled using predicted value: 26.0\n",
      "Filled using predicted value: 25.0\n",
      "Filled using predicted value: 25.0\n",
      "Filled using predicted value: 25.0\n",
      "Filled using predicted value: 30.0\n",
      "Filled using predicted value: 25.0\n",
      "Filled using predicted value: 25.0\n",
      "Filled using predicted value: 25.0\n",
      "Filled using predicted value: 25.0\n",
      "Filled using predicted value: 16.0\n"
     ]
    }
   ],
   "source": [
    "# Filling missing value of Age \n",
    "\n",
    "## Fill Age with the median age of similar rows according to Pclass, Parch and SibSp\n",
    "# Indices of NaN age rows\n",
    "index_NaN_age = list(full_data[\"Age\"][full_data[\"Age\"].isnull()].index) \n",
    "\n",
    "for i in index_NaN_age:\n",
    "    age_med = full_data[\"Age\"].median()\n",
    "    # search for an instance matching with the feature-criteria\n",
    "    age_pred = full_data[\"Age\"][(\n",
    "        (full_data['SibSp'] == full_data.iloc[i][\"SibSp\"]) & \n",
    "        (full_data['Parch'] == full_data.iloc[i][\"Parch\"]) & \n",
    "        (full_data['Pclass'] == full_data.iloc[i][\"Pclass\"]))].median()\n",
    "    # check if there exists an instance whose correlated features associate to an age\n",
    "    if not np.isnan(age_pred): \n",
    "        print(\"Filled using predicted value:\", age_pred) # DEBUG\n",
    "        full_data['Age'].iloc[i] = age_pred\n",
    "    # case in which there does not exist a matching instance of the feature criteria\n",
    "    else:\n",
    "        print(\"Filled using median value:\", age_med) # DEBUG\n",
    "        full_data['Age'].iloc[i] = age_med"
   ]
  },
  {
   "cell_type": "code",
   "execution_count": 38,
   "metadata": {},
   "outputs": [
    {
     "data": {
      "image/png": "[encoded data removed]",
      "text/plain": [
       "<Figure size 360x360 with 1 Axes>"
      ]
     },
     "metadata": {},
     "output_type": "display_data"
    },
    {
     "data": {
      "image/png": "[encoded data removed]",
      "text/plain": [
       "<Figure size 360x360 with 1 Axes>"
      ]
     },
     "metadata": {},
     "output_type": "display_data"
    }
   ],
   "source": [
    "# Assessing quality of age imputation\n",
    "g = sns.factorplot(x=\"Survived\", y = \"Age\",data = train, kind=\"box\")\n",
    "g = sns.factorplot(x=\"Survived\", y = \"Age\",data = train, kind=\"violin\")"
   ]
  },
  {
   "cell_type": "markdown",
   "metadata": {},
   "source": [
    "# Analysis\n",
    "Q: Why do we use a violin-plot here in contrast to a box-plot?<br>\n",
    "A: Perhaps for better visualization of distributions? This makes sense since hte box-plot does not provide much assistance in contrasting surival rate given age. Using the violin-plot, we are able to better see taht there is a higher survival rate for those that are younger.<br>\n",
    "* From the box-plot we can see that there is very little change in terms of the median age in those that survive and those that don't survive. \n",
    "* From the violin-plot we can see that there is a visible blip in the distribution denoting young passengers have a higher survival rate. \n"
   ]
  },
  {
   "cell_type": "code",
   "execution_count": 39,
   "metadata": {},
   "outputs": [
    {
     "data": {
      "text/plain": [
       "'All columns:'"
      ]
     },
     "metadata": {},
     "output_type": "display_data"
    },
    {
     "data": {
      "text/plain": [
       "Survived        True\n",
       "Pclass         False\n",
       "Name           False\n",
       "Sex            False\n",
       "Age            False\n",
       "SibSp          False\n",
       "Parch          False\n",
       "Ticket         False\n",
       "Fare            True\n",
       "Cabin           True\n",
       "Embarked        True\n",
       "PassengerId    False\n",
       "dtype: bool"
      ]
     },
     "metadata": {},
     "output_type": "display_data"
    },
    {
     "data": {
      "text/plain": [
       "'Missing cols:'"
      ]
     },
     "metadata": {},
     "output_type": "display_data"
    },
    {
     "data": {
      "text/plain": [
       "['Fare', 'Cabin', 'Embarked']"
      ]
     },
     "metadata": {},
     "output_type": "display_data"
    },
    {
     "name": "stdout",
     "output_type": "stream",
     "text": [
      "\n",
      "Fare: 1 / 1299 instances missing --> 0.07698%\n",
      "Cabin: 1007 / 1299 instances missing --> 77.52117%\n",
      "Embarked: 2 / 1299 instances missing --> 0.15396%\n"
     ]
    }
   ],
   "source": [
    "show_missing_report(full_data)"
   ]
  },
  {
   "cell_type": "markdown",
   "metadata": {},
   "source": [
    "Observing the remaining features to impute, we see that there are A LOT of missing instances for the cabin-feature. This makes me wonder if there is any relation/association between ticket numbers and cabin numbers. I doubt there would be any relation but it is worth at the very least taking a peek."
   ]
  },
  {
   "cell_type": "code",
   "execution_count": 40,
   "metadata": {},
   "outputs": [
    {
     "data": {
      "text/html": [
       "<div>\n",
       "<style scoped>\n",
       "    .dataframe tbody tr th:only-of-type {\n",
       "        vertical-align: middle;\n",
       "    }\n",
       "\n",
       "    .dataframe tbody tr th {\n",
       "        vertical-align: top;\n",
       "    }\n",
       "\n",
       "    .dataframe thead th {\n",
       "        text-align: right;\n",
       "    }\n",
       "</style>\n",
       "<table border=\"1\" class=\"dataframe\">\n",
       "  <thead>\n",
       "    <tr style=\"text-align: right;\">\n",
       "      <th></th>\n",
       "      <th>Survived</th>\n",
       "      <th>Pclass</th>\n",
       "      <th>Name</th>\n",
       "      <th>Sex</th>\n",
       "      <th>Age</th>\n",
       "      <th>SibSp</th>\n",
       "      <th>Parch</th>\n",
       "      <th>Ticket</th>\n",
       "      <th>Fare</th>\n",
       "      <th>Cabin</th>\n",
       "      <th>Embarked</th>\n",
       "      <th>PassengerId</th>\n",
       "    </tr>\n",
       "  </thead>\n",
       "  <tbody>\n",
       "    <tr>\n",
       "      <th>1</th>\n",
       "      <td>1.0</td>\n",
       "      <td>1</td>\n",
       "      <td>Cumings, Mrs. John Bradley (Florence Briggs Th...</td>\n",
       "      <td>1</td>\n",
       "      <td>38.0</td>\n",
       "      <td>1</td>\n",
       "      <td>0</td>\n",
       "      <td>PC 17599</td>\n",
       "      <td>71.2833</td>\n",
       "      <td>C85</td>\n",
       "      <td>C</td>\n",
       "      <td>2</td>\n",
       "    </tr>\n",
       "    <tr>\n",
       "      <th>3</th>\n",
       "      <td>1.0</td>\n",
       "      <td>1</td>\n",
       "      <td>Futrelle, Mrs. Jacques Heath (Lily May Peel)</td>\n",
       "      <td>1</td>\n",
       "      <td>35.0</td>\n",
       "      <td>1</td>\n",
       "      <td>0</td>\n",
       "      <td>113803</td>\n",
       "      <td>53.1000</td>\n",
       "      <td>C123</td>\n",
       "      <td>S</td>\n",
       "      <td>4</td>\n",
       "    </tr>\n",
       "    <tr>\n",
       "      <th>6</th>\n",
       "      <td>0.0</td>\n",
       "      <td>1</td>\n",
       "      <td>McCarthy, Mr. Timothy J</td>\n",
       "      <td>0</td>\n",
       "      <td>54.0</td>\n",
       "      <td>0</td>\n",
       "      <td>0</td>\n",
       "      <td>17463</td>\n",
       "      <td>51.8625</td>\n",
       "      <td>E46</td>\n",
       "      <td>S</td>\n",
       "      <td>7</td>\n",
       "    </tr>\n",
       "    <tr>\n",
       "      <th>10</th>\n",
       "      <td>1.0</td>\n",
       "      <td>3</td>\n",
       "      <td>Sandstrom, Miss. Marguerite Rut</td>\n",
       "      <td>1</td>\n",
       "      <td>4.0</td>\n",
       "      <td>1</td>\n",
       "      <td>1</td>\n",
       "      <td>PP 9549</td>\n",
       "      <td>16.7000</td>\n",
       "      <td>G6</td>\n",
       "      <td>S</td>\n",
       "      <td>11</td>\n",
       "    </tr>\n",
       "    <tr>\n",
       "      <th>11</th>\n",
       "      <td>1.0</td>\n",
       "      <td>1</td>\n",
       "      <td>Bonnell, Miss. Elizabeth</td>\n",
       "      <td>1</td>\n",
       "      <td>58.0</td>\n",
       "      <td>0</td>\n",
       "      <td>0</td>\n",
       "      <td>113783</td>\n",
       "      <td>26.5500</td>\n",
       "      <td>C103</td>\n",
       "      <td>S</td>\n",
       "      <td>12</td>\n",
       "    </tr>\n",
       "    <tr>\n",
       "      <th>21</th>\n",
       "      <td>1.0</td>\n",
       "      <td>2</td>\n",
       "      <td>Beesley, Mr. Lawrence</td>\n",
       "      <td>0</td>\n",
       "      <td>34.0</td>\n",
       "      <td>0</td>\n",
       "      <td>0</td>\n",
       "      <td>248698</td>\n",
       "      <td>13.0000</td>\n",
       "      <td>D56</td>\n",
       "      <td>S</td>\n",
       "      <td>22</td>\n",
       "    </tr>\n",
       "    <tr>\n",
       "      <th>23</th>\n",
       "      <td>1.0</td>\n",
       "      <td>1</td>\n",
       "      <td>Sloper, Mr. William Thompson</td>\n",
       "      <td>0</td>\n",
       "      <td>28.0</td>\n",
       "      <td>0</td>\n",
       "      <td>0</td>\n",
       "      <td>113788</td>\n",
       "      <td>35.5000</td>\n",
       "      <td>A6</td>\n",
       "      <td>S</td>\n",
       "      <td>24</td>\n",
       "    </tr>\n",
       "    <tr>\n",
       "      <th>30</th>\n",
       "      <td>1.0</td>\n",
       "      <td>1</td>\n",
       "      <td>Spencer, Mrs. William Augustus (Marie Eugenie)</td>\n",
       "      <td>1</td>\n",
       "      <td>38.0</td>\n",
       "      <td>1</td>\n",
       "      <td>0</td>\n",
       "      <td>PC 17569</td>\n",
       "      <td>146.5208</td>\n",
       "      <td>B78</td>\n",
       "      <td>C</td>\n",
       "      <td>32</td>\n",
       "    </tr>\n",
       "    <tr>\n",
       "      <th>51</th>\n",
       "      <td>1.0</td>\n",
       "      <td>1</td>\n",
       "      <td>Harper, Mrs. Henry Sleeper (Myna Haxtun)</td>\n",
       "      <td>1</td>\n",
       "      <td>49.0</td>\n",
       "      <td>1</td>\n",
       "      <td>0</td>\n",
       "      <td>PC 17572</td>\n",
       "      <td>76.7292</td>\n",
       "      <td>D33</td>\n",
       "      <td>C</td>\n",
       "      <td>53</td>\n",
       "    </tr>\n",
       "    <tr>\n",
       "      <th>53</th>\n",
       "      <td>0.0</td>\n",
       "      <td>1</td>\n",
       "      <td>Ostby, Mr. Engelhart Cornelius</td>\n",
       "      <td>0</td>\n",
       "      <td>65.0</td>\n",
       "      <td>0</td>\n",
       "      <td>1</td>\n",
       "      <td>113509</td>\n",
       "      <td>61.9792</td>\n",
       "      <td>B30</td>\n",
       "      <td>C</td>\n",
       "      <td>55</td>\n",
       "    </tr>\n",
       "    <tr>\n",
       "      <th>54</th>\n",
       "      <td>1.0</td>\n",
       "      <td>1</td>\n",
       "      <td>Woolner, Mr. Hugh</td>\n",
       "      <td>0</td>\n",
       "      <td>39.0</td>\n",
       "      <td>0</td>\n",
       "      <td>0</td>\n",
       "      <td>19947</td>\n",
       "      <td>35.5000</td>\n",
       "      <td>C52</td>\n",
       "      <td>S</td>\n",
       "      <td>56</td>\n",
       "    </tr>\n",
       "    <tr>\n",
       "      <th>60</th>\n",
       "      <td>1.0</td>\n",
       "      <td>1</td>\n",
       "      <td>Icard, Miss. Amelie</td>\n",
       "      <td>1</td>\n",
       "      <td>38.0</td>\n",
       "      <td>0</td>\n",
       "      <td>0</td>\n",
       "      <td>113572</td>\n",
       "      <td>80.0000</td>\n",
       "      <td>B28</td>\n",
       "      <td>NaN</td>\n",
       "      <td>62</td>\n",
       "    </tr>\n",
       "    <tr>\n",
       "      <th>61</th>\n",
       "      <td>0.0</td>\n",
       "      <td>1</td>\n",
       "      <td>Harris, Mr. Henry Birkhardt</td>\n",
       "      <td>0</td>\n",
       "      <td>45.0</td>\n",
       "      <td>1</td>\n",
       "      <td>0</td>\n",
       "      <td>36973</td>\n",
       "      <td>83.4750</td>\n",
       "      <td>C83</td>\n",
       "      <td>S</td>\n",
       "      <td>63</td>\n",
       "    </tr>\n",
       "    <tr>\n",
       "      <th>65</th>\n",
       "      <td>1.0</td>\n",
       "      <td>2</td>\n",
       "      <td>Nye, Mrs. (Elizabeth Ramell)</td>\n",
       "      <td>1</td>\n",
       "      <td>29.0</td>\n",
       "      <td>0</td>\n",
       "      <td>0</td>\n",
       "      <td>C.A. 29395</td>\n",
       "      <td>10.5000</td>\n",
       "      <td>F33</td>\n",
       "      <td>S</td>\n",
       "      <td>67</td>\n",
       "    </tr>\n",
       "    <tr>\n",
       "      <th>74</th>\n",
       "      <td>0.0</td>\n",
       "      <td>3</td>\n",
       "      <td>Moen, Mr. Sigurd Hansen</td>\n",
       "      <td>0</td>\n",
       "      <td>25.0</td>\n",
       "      <td>0</td>\n",
       "      <td>0</td>\n",
       "      <td>348123</td>\n",
       "      <td>7.6500</td>\n",
       "      <td>F G73</td>\n",
       "      <td>S</td>\n",
       "      <td>76</td>\n",
       "    </tr>\n",
       "    <tr>\n",
       "      <th>90</th>\n",
       "      <td>0.0</td>\n",
       "      <td>1</td>\n",
       "      <td>Chaffee, Mr. Herbert Fuller</td>\n",
       "      <td>0</td>\n",
       "      <td>46.0</td>\n",
       "      <td>1</td>\n",
       "      <td>0</td>\n",
       "      <td>W.E.P. 5734</td>\n",
       "      <td>61.1750</td>\n",
       "      <td>E31</td>\n",
       "      <td>S</td>\n",
       "      <td>93</td>\n",
       "    </tr>\n",
       "    <tr>\n",
       "      <th>94</th>\n",
       "      <td>0.0</td>\n",
       "      <td>1</td>\n",
       "      <td>Goldschmidt, Mr. George B</td>\n",
       "      <td>0</td>\n",
       "      <td>71.0</td>\n",
       "      <td>0</td>\n",
       "      <td>0</td>\n",
       "      <td>PC 17754</td>\n",
       "      <td>34.6542</td>\n",
       "      <td>A5</td>\n",
       "      <td>C</td>\n",
       "      <td>97</td>\n",
       "    </tr>\n",
       "    <tr>\n",
       "      <th>95</th>\n",
       "      <td>1.0</td>\n",
       "      <td>1</td>\n",
       "      <td>Greenfield, Mr. William Bertram</td>\n",
       "      <td>0</td>\n",
       "      <td>23.0</td>\n",
       "      <td>0</td>\n",
       "      <td>1</td>\n",
       "      <td>PC 17759</td>\n",
       "      <td>63.3583</td>\n",
       "      <td>D10 D12</td>\n",
       "      <td>C</td>\n",
       "      <td>98</td>\n",
       "    </tr>\n",
       "    <tr>\n",
       "      <th>100</th>\n",
       "      <td>0.0</td>\n",
       "      <td>1</td>\n",
       "      <td>White, Mr. Richard Frasar</td>\n",
       "      <td>0</td>\n",
       "      <td>21.0</td>\n",
       "      <td>0</td>\n",
       "      <td>1</td>\n",
       "      <td>35281</td>\n",
       "      <td>77.2875</td>\n",
       "      <td>D26</td>\n",
       "      <td>S</td>\n",
       "      <td>103</td>\n",
       "    </tr>\n",
       "    <tr>\n",
       "      <th>108</th>\n",
       "      <td>0.0</td>\n",
       "      <td>1</td>\n",
       "      <td>Porter, Mr. Walter Chamberlain</td>\n",
       "      <td>0</td>\n",
       "      <td>47.0</td>\n",
       "      <td>0</td>\n",
       "      <td>0</td>\n",
       "      <td>110465</td>\n",
       "      <td>52.0000</td>\n",
       "      <td>C110</td>\n",
       "      <td>S</td>\n",
       "      <td>111</td>\n",
       "    </tr>\n",
       "    <tr>\n",
       "      <th>116</th>\n",
       "      <td>0.0</td>\n",
       "      <td>1</td>\n",
       "      <td>Baxter, Mr. Quigg Edmond</td>\n",
       "      <td>0</td>\n",
       "      <td>24.0</td>\n",
       "      <td>0</td>\n",
       "      <td>1</td>\n",
       "      <td>PC 17558</td>\n",
       "      <td>247.5208</td>\n",
       "      <td>B58 B60</td>\n",
       "      <td>C</td>\n",
       "      <td>119</td>\n",
       "    </tr>\n",
       "    <tr>\n",
       "      <th>121</th>\n",
       "      <td>1.0</td>\n",
       "      <td>2</td>\n",
       "      <td>Webber, Miss. Susan</td>\n",
       "      <td>1</td>\n",
       "      <td>32.5</td>\n",
       "      <td>0</td>\n",
       "      <td>0</td>\n",
       "      <td>27267</td>\n",
       "      <td>13.0000</td>\n",
       "      <td>E101</td>\n",
       "      <td>S</td>\n",
       "      <td>124</td>\n",
       "    </tr>\n",
       "    <tr>\n",
       "      <th>122</th>\n",
       "      <td>0.0</td>\n",
       "      <td>1</td>\n",
       "      <td>White, Mr. Percival Wayland</td>\n",
       "      <td>0</td>\n",
       "      <td>54.0</td>\n",
       "      <td>0</td>\n",
       "      <td>1</td>\n",
       "      <td>35281</td>\n",
       "      <td>77.2875</td>\n",
       "      <td>D26</td>\n",
       "      <td>S</td>\n",
       "      <td>125</td>\n",
       "    </tr>\n",
       "    <tr>\n",
       "      <th>126</th>\n",
       "      <td>1.0</td>\n",
       "      <td>3</td>\n",
       "      <td>Peter, Miss. Anna</td>\n",
       "      <td>1</td>\n",
       "      <td>16.0</td>\n",
       "      <td>1</td>\n",
       "      <td>1</td>\n",
       "      <td>2668</td>\n",
       "      <td>22.3583</td>\n",
       "      <td>F E69</td>\n",
       "      <td>C</td>\n",
       "      <td>129</td>\n",
       "    </tr>\n",
       "    <tr>\n",
       "      <th>134</th>\n",
       "      <td>1.0</td>\n",
       "      <td>1</td>\n",
       "      <td>Newsom, Miss. Helen Monypeny</td>\n",
       "      <td>1</td>\n",
       "      <td>19.0</td>\n",
       "      <td>0</td>\n",
       "      <td>2</td>\n",
       "      <td>11752</td>\n",
       "      <td>26.2833</td>\n",
       "      <td>D47</td>\n",
       "      <td>S</td>\n",
       "      <td>137</td>\n",
       "    </tr>\n",
       "  </tbody>\n",
       "</table>\n",
       "</div>"
      ],
      "text/plain": [
       "     Survived  Pclass                                               Name  Sex  \\\n",
       "1         1.0       1  Cumings, Mrs. John Bradley (Florence Briggs Th...    1   \n",
       "3         1.0       1       Futrelle, Mrs. Jacques Heath (Lily May Peel)    1   \n",
       "6         0.0       1                            McCarthy, Mr. Timothy J    0   \n",
       "10        1.0       3                    Sandstrom, Miss. Marguerite Rut    1   \n",
       "11        1.0       1                           Bonnell, Miss. Elizabeth    1   \n",
       "21        1.0       2                              Beesley, Mr. Lawrence    0   \n",
       "23        1.0       1                       Sloper, Mr. William Thompson    0   \n",
       "30        1.0       1     Spencer, Mrs. William Augustus (Marie Eugenie)    1   \n",
       "51        1.0       1           Harper, Mrs. Henry Sleeper (Myna Haxtun)    1   \n",
       "53        0.0       1                     Ostby, Mr. Engelhart Cornelius    0   \n",
       "54        1.0       1                                  Woolner, Mr. Hugh    0   \n",
       "60        1.0       1                                Icard, Miss. Amelie    1   \n",
       "61        0.0       1                        Harris, Mr. Henry Birkhardt    0   \n",
       "65        1.0       2                       Nye, Mrs. (Elizabeth Ramell)    1   \n",
       "74        0.0       3                            Moen, Mr. Sigurd Hansen    0   \n",
       "90        0.0       1                        Chaffee, Mr. Herbert Fuller    0   \n",
       "94        0.0       1                          Goldschmidt, Mr. George B    0   \n",
       "95        1.0       1                    Greenfield, Mr. William Bertram    0   \n",
       "100       0.0       1                          White, Mr. Richard Frasar    0   \n",
       "108       0.0       1                     Porter, Mr. Walter Chamberlain    0   \n",
       "116       0.0       1                           Baxter, Mr. Quigg Edmond    0   \n",
       "121       1.0       2                                Webber, Miss. Susan    1   \n",
       "122       0.0       1                        White, Mr. Percival Wayland    0   \n",
       "126       1.0       3                                  Peter, Miss. Anna    1   \n",
       "134       1.0       1                       Newsom, Miss. Helen Monypeny    1   \n",
       "\n",
       "      Age  SibSp  Parch       Ticket      Fare    Cabin Embarked  PassengerId  \n",
       "1    38.0      1      0     PC 17599   71.2833      C85        C            2  \n",
       "3    35.0      1      0       113803   53.1000     C123        S            4  \n",
       "6    54.0      0      0        17463   51.8625      E46        S            7  \n",
       "10    4.0      1      1      PP 9549   16.7000       G6        S           11  \n",
       "11   58.0      0      0       113783   26.5500     C103        S           12  \n",
       "21   34.0      0      0       248698   13.0000      D56        S           22  \n",
       "23   28.0      0      0       113788   35.5000       A6        S           24  \n",
       "30   38.0      1      0     PC 17569  146.5208      B78        C           32  \n",
       "51   49.0      1      0     PC 17572   76.7292      D33        C           53  \n",
       "53   65.0      0      1       113509   61.9792      B30        C           55  \n",
       "54   39.0      0      0        19947   35.5000      C52        S           56  \n",
       "60   38.0      0      0       113572   80.0000      B28      NaN           62  \n",
       "61   45.0      1      0        36973   83.4750      C83        S           63  \n",
       "65   29.0      0      0   C.A. 29395   10.5000      F33        S           67  \n",
       "74   25.0      0      0       348123    7.6500    F G73        S           76  \n",
       "90   46.0      1      0  W.E.P. 5734   61.1750      E31        S           93  \n",
       "94   71.0      0      0     PC 17754   34.6542       A5        C           97  \n",
       "95   23.0      0      1     PC 17759   63.3583  D10 D12        C           98  \n",
       "100  21.0      0      1        35281   77.2875      D26        S          103  \n",
       "108  47.0      0      0       110465   52.0000     C110        S          111  \n",
       "116  24.0      0      1     PC 17558  247.5208  B58 B60        C          119  \n",
       "121  32.5      0      0        27267   13.0000     E101        S          124  \n",
       "122  54.0      0      1        35281   77.2875      D26        S          125  \n",
       "126  16.0      1      1         2668   22.3583    F E69        C          129  \n",
       "134  19.0      0      2        11752   26.2833      D47        S          137  "
      ]
     },
     "execution_count": 40,
     "metadata": {},
     "output_type": "execute_result"
    }
   ],
   "source": [
    "df_tix_cab= full_data[(\n",
    "        (pd.notna(full_data['Cabin']) ) & \n",
    "        (pd.notna(full_data['Ticket'])))]\n",
    "df_tix_cab.head(25)"
   ]
  },
  {
   "cell_type": "markdown",
   "metadata": {},
   "source": [
    "# Feature Imputation: A Roadblock\n",
    "No shot...<br>\n",
    "Thus more referencing:\n",
    "* Advance Feature Engineering: https://www.kaggle.com/gunesevitan/titanic-advanced-feature-engineering-tutorial\n",
    "    * <b>Notable Sections:</b>\n",
    "        - EDA (notably the approach for handling the \"Cabin\" feature)\n",
    "        - Feature Engineering\n",
    "    * <b>My Takeaways & Reflections on Reading:</b>\n",
    "        - Much of the data preparation portion of data science is an application of statistics in conjunction with programming to carry out detective work -- to figure out mysteries (whether it be the problem to be solved, or dealing with values that are missing)\n",
    "        - Usage of existing knowledge (regardless of acute apparence) ie knowledge that exists that one may/may-not know of, but have a means and are permitted access to use\n",
    "        - Thinking outside of the box (in this instance -- outside the realms of programming & stats) ie a consideration of reasonable potential solutions that were not considered (google search for particular features -- NOT the target variable ie the direct answers to the main problem)\n",
    "        <br>\n",
    "        \n",
    "        \n",
    "<img src=\"Titanic_side_plan.png\" style=\"float: left; margin-right: 10px;\" />\n",
    "\n"
   ]
  },
  {
   "cell_type": "code",
   "execution_count": 41,
   "metadata": {},
   "outputs": [
    {
     "data": {
      "text/plain": [
       "array([nan, 'C85', 'C123', 'E46', 'G6', 'C103', 'D56', 'A6', 'B78', 'D33',\n",
       "       'B30', 'C52', 'B28', 'C83', 'F33', 'F G73', 'E31', 'A5', 'D10 D12',\n",
       "       'D26', 'C110', 'B58 B60', 'E101', 'F E69', 'D47', 'B86', 'F2',\n",
       "       'C2', 'E33', 'B19', 'A7', 'C49', 'F4', 'A32', 'B4', 'B80', 'A31',\n",
       "       'D36', 'D15', 'C93', 'C78', 'D35', 'C87', 'B77', 'E67', 'B94',\n",
       "       'C125', 'C99', 'C118', 'D7', 'A19', 'B49', 'D', 'C22 C26', 'C106',\n",
       "       'C65', 'E36', 'C54', 'B57 B59 B63 B66', 'C7', 'E34', 'C32', 'B18',\n",
       "       'C124', 'C91', 'E40', 'T', 'C128', 'D37', 'B35', 'E50', 'C82',\n",
       "       'B96 B98', 'E10', 'E44', 'C23 C25 C27', 'A34', 'C104', 'C111',\n",
       "       'C92', 'E38', 'D21', 'E12', 'E63', 'A14', 'B37', 'C30', 'D20',\n",
       "       'B79', 'E25', 'D46', 'B73', 'C95', 'B38', 'B39', 'B22', 'C86',\n",
       "       'C70', 'A16', 'C101', 'C68', 'A10', 'E68', 'B41', 'A20', 'D19',\n",
       "       'D50', 'D9', 'A23', 'B50', 'A26', 'D48', 'E58', 'C126', 'B71',\n",
       "       'B51 B53 B55', 'D49', 'B5', 'B20', 'F G63', 'C62 C64', 'E24',\n",
       "       'C90', 'C45', 'E8', 'B101', 'D45', 'C46', 'D30', 'E121', 'D11',\n",
       "       'E77', 'F38', 'B3', 'D6', 'B82 B84', 'D17', 'A36', 'B102', 'B69',\n",
       "       'E49', 'C47', 'D28', 'E17', 'A24', 'C50', 'B42', 'C148', 'B45',\n",
       "       'B36', 'A21', 'D34', 'A9', 'C31', 'B61', 'C53', 'D43', 'C130',\n",
       "       'C132', 'C55 C57', 'C116', 'F', 'A29', 'C6', 'C28', 'C51', 'C97',\n",
       "       'D22', 'B10', 'E45', 'E52', 'A11', 'B11', 'C80', 'C89', 'F E46',\n",
       "       'B26', 'F E57', 'A18', 'E60', 'E39 E41', 'B52 B54 B56', 'C39',\n",
       "       'B24', 'D40', 'D38', 'C105'], dtype=object)"
      ]
     },
     "execution_count": 41,
     "metadata": {},
     "output_type": "execute_result"
    }
   ],
   "source": [
    "full_data['Cabin'].unique()"
   ]
  },
  {
   "cell_type": "code",
   "execution_count": 42,
   "metadata": {},
   "outputs": [
    {
     "data": {
      "text/plain": [
       "['F', 'G']"
      ]
     },
     "execution_count": 42,
     "metadata": {},
     "output_type": "execute_result"
    }
   ],
   "source": [
    "import re\n",
    "regex = r\"([a-zA-Z])\\d?\"\n",
    "test = 'F G73'\n",
    "# print(test.split(\" \"))\n",
    "# [re.findall(regex,e) for e in test.split(\" \")]\n",
    "re.findall(regex,test)"
   ]
  },
  {
   "cell_type": "code",
   "execution_count": 43,
   "metadata": {},
   "outputs": [
    {
     "data": {
      "text/html": [
       "<div>\n",
       "<style scoped>\n",
       "    .dataframe tbody tr th:only-of-type {\n",
       "        vertical-align: middle;\n",
       "    }\n",
       "\n",
       "    .dataframe tbody tr th {\n",
       "        vertical-align: top;\n",
       "    }\n",
       "\n",
       "    .dataframe thead tr th {\n",
       "        text-align: left;\n",
       "    }\n",
       "</style>\n",
       "<table border=\"1\" class=\"dataframe\">\n",
       "  <thead>\n",
       "    <tr>\n",
       "      <th>Deck</th>\n",
       "      <th>A</th>\n",
       "      <th>B</th>\n",
       "      <th>C</th>\n",
       "      <th colspan=\"2\" halign=\"left\">D</th>\n",
       "      <th colspan=\"3\" halign=\"left\">E</th>\n",
       "      <th colspan=\"2\" halign=\"left\">F</th>\n",
       "      <th>G</th>\n",
       "      <th colspan=\"3\" halign=\"left\">M</th>\n",
       "      <th>T</th>\n",
       "    </tr>\n",
       "    <tr>\n",
       "      <th>Pclass</th>\n",
       "      <th>1</th>\n",
       "      <th>1</th>\n",
       "      <th>1</th>\n",
       "      <th>1</th>\n",
       "      <th>2</th>\n",
       "      <th>1</th>\n",
       "      <th>2</th>\n",
       "      <th>3</th>\n",
       "      <th>2</th>\n",
       "      <th>3</th>\n",
       "      <th>3</th>\n",
       "      <th>1</th>\n",
       "      <th>2</th>\n",
       "      <th>3</th>\n",
       "      <th>1</th>\n",
       "    </tr>\n",
       "  </thead>\n",
       "  <tbody>\n",
       "    <tr>\n",
       "      <th>Count</th>\n",
       "      <td>22</td>\n",
       "      <td>65</td>\n",
       "      <td>91</td>\n",
       "      <td>40</td>\n",
       "      <td>6</td>\n",
       "      <td>34</td>\n",
       "      <td>4</td>\n",
       "      <td>3</td>\n",
       "      <td>13</td>\n",
       "      <td>8</td>\n",
       "      <td>5</td>\n",
       "      <td>67</td>\n",
       "      <td>254</td>\n",
       "      <td>686</td>\n",
       "      <td>1</td>\n",
       "    </tr>\n",
       "  </tbody>\n",
       "</table>\n",
       "</div>"
      ],
      "text/plain": [
       "Deck     A   B   C   D      E         F     G   M            T\n",
       "Pclass   1   1   1   1  2   1  2  3   2  3  3   1    2    3  1\n",
       "Count   22  65  91  40  6  34  4  3  13  8  5  67  254  686  1"
      ]
     },
     "execution_count": 43,
     "metadata": {},
     "output_type": "execute_result"
    }
   ],
   "source": [
    "# Create deck method 1\n",
    "# Creating Deck column from the first letter of the Cabin column (M stands for Missing)\n",
    "full_data['Deck'] = full_data['Cabin'].apply(lambda s: s[0] if pd.notnull(s) else 'M')\n",
    "\n",
    "df_all_decks = full_data.groupby(['Deck','Pclass']).count().drop(columns=['Survived', 'Sex', 'Age', 'SibSp', 'Parch', \n",
    "                                                                        'Fare', 'Embarked', 'Cabin', 'PassengerId', 'Ticket']).rename(columns={'Name': 'Count'}).transpose()\n",
    "df_all_decks "
   ]
  },
  {
   "cell_type": "code",
   "execution_count": 44,
   "metadata": {},
   "outputs": [
    {
     "data": {
      "text/html": [
       "<div>\n",
       "<style scoped>\n",
       "    .dataframe tbody tr th:only-of-type {\n",
       "        vertical-align: middle;\n",
       "    }\n",
       "\n",
       "    .dataframe tbody tr th {\n",
       "        vertical-align: top;\n",
       "    }\n",
       "\n",
       "    .dataframe thead th {\n",
       "        text-align: right;\n",
       "    }\n",
       "</style>\n",
       "<table border=\"1\" class=\"dataframe\">\n",
       "  <thead>\n",
       "    <tr style=\"text-align: right;\">\n",
       "      <th></th>\n",
       "      <th>Survived</th>\n",
       "      <th>Pclass</th>\n",
       "      <th>Name</th>\n",
       "      <th>Sex</th>\n",
       "      <th>Age</th>\n",
       "      <th>SibSp</th>\n",
       "      <th>Parch</th>\n",
       "      <th>Ticket</th>\n",
       "      <th>Fare</th>\n",
       "      <th>Cabin</th>\n",
       "      <th>Embarked</th>\n",
       "      <th>PassengerId</th>\n",
       "      <th>Deck</th>\n",
       "    </tr>\n",
       "  </thead>\n",
       "  <tbody>\n",
       "    <tr>\n",
       "      <th>0</th>\n",
       "      <td>0.0</td>\n",
       "      <td>3</td>\n",
       "      <td>Braund, Mr. Owen Harris</td>\n",
       "      <td>0</td>\n",
       "      <td>22.0</td>\n",
       "      <td>1</td>\n",
       "      <td>0</td>\n",
       "      <td>A/5 21171</td>\n",
       "      <td>7.2500</td>\n",
       "      <td>NaN</td>\n",
       "      <td>S</td>\n",
       "      <td>1</td>\n",
       "      <td>M</td>\n",
       "    </tr>\n",
       "    <tr>\n",
       "      <th>1</th>\n",
       "      <td>1.0</td>\n",
       "      <td>1</td>\n",
       "      <td>Cumings, Mrs. John Bradley (Florence Briggs Th...</td>\n",
       "      <td>1</td>\n",
       "      <td>38.0</td>\n",
       "      <td>1</td>\n",
       "      <td>0</td>\n",
       "      <td>PC 17599</td>\n",
       "      <td>71.2833</td>\n",
       "      <td>C85</td>\n",
       "      <td>C</td>\n",
       "      <td>2</td>\n",
       "      <td>C</td>\n",
       "    </tr>\n",
       "    <tr>\n",
       "      <th>2</th>\n",
       "      <td>1.0</td>\n",
       "      <td>3</td>\n",
       "      <td>Heikkinen, Miss. Laina</td>\n",
       "      <td>1</td>\n",
       "      <td>26.0</td>\n",
       "      <td>0</td>\n",
       "      <td>0</td>\n",
       "      <td>STON/O2. 3101282</td>\n",
       "      <td>7.9250</td>\n",
       "      <td>NaN</td>\n",
       "      <td>S</td>\n",
       "      <td>3</td>\n",
       "      <td>M</td>\n",
       "    </tr>\n",
       "    <tr>\n",
       "      <th>3</th>\n",
       "      <td>1.0</td>\n",
       "      <td>1</td>\n",
       "      <td>Futrelle, Mrs. Jacques Heath (Lily May Peel)</td>\n",
       "      <td>1</td>\n",
       "      <td>35.0</td>\n",
       "      <td>1</td>\n",
       "      <td>0</td>\n",
       "      <td>113803</td>\n",
       "      <td>53.1000</td>\n",
       "      <td>C123</td>\n",
       "      <td>S</td>\n",
       "      <td>4</td>\n",
       "      <td>C</td>\n",
       "    </tr>\n",
       "    <tr>\n",
       "      <th>4</th>\n",
       "      <td>0.0</td>\n",
       "      <td>3</td>\n",
       "      <td>Allen, Mr. William Henry</td>\n",
       "      <td>0</td>\n",
       "      <td>35.0</td>\n",
       "      <td>0</td>\n",
       "      <td>0</td>\n",
       "      <td>373450</td>\n",
       "      <td>8.0500</td>\n",
       "      <td>NaN</td>\n",
       "      <td>S</td>\n",
       "      <td>5</td>\n",
       "      <td>M</td>\n",
       "    </tr>\n",
       "  </tbody>\n",
       "</table>\n",
       "</div>"
      ],
      "text/plain": [
       "   Survived  Pclass                                               Name  Sex  \\\n",
       "0       0.0       3                            Braund, Mr. Owen Harris    0   \n",
       "1       1.0       1  Cumings, Mrs. John Bradley (Florence Briggs Th...    1   \n",
       "2       1.0       3                             Heikkinen, Miss. Laina    1   \n",
       "3       1.0       1       Futrelle, Mrs. Jacques Heath (Lily May Peel)    1   \n",
       "4       0.0       3                           Allen, Mr. William Henry    0   \n",
       "\n",
       "    Age  SibSp  Parch            Ticket     Fare Cabin Embarked  PassengerId  \\\n",
       "0  22.0      1      0         A/5 21171   7.2500   NaN        S            1   \n",
       "1  38.0      1      0          PC 17599  71.2833   C85        C            2   \n",
       "2  26.0      0      0  STON/O2. 3101282   7.9250   NaN        S            3   \n",
       "3  35.0      1      0            113803  53.1000  C123        S            4   \n",
       "4  35.0      0      0            373450   8.0500   NaN        S            5   \n",
       "\n",
       "  Deck  \n",
       "0    M  \n",
       "1    C  \n",
       "2    M  \n",
       "3    C  \n",
       "4    M  "
      ]
     },
     "execution_count": 44,
     "metadata": {},
     "output_type": "execute_result"
    }
   ],
   "source": [
    "full_data.head()"
   ]
  },
  {
   "cell_type": "code",
   "execution_count": 45,
   "metadata": {},
   "outputs": [],
   "source": [
    "full_data = full_data.drop(\"Deck\", axis=1)"
   ]
  },
  {
   "cell_type": "code",
   "execution_count": 46,
   "metadata": {},
   "outputs": [
    {
     "name": "stdout",
     "output_type": "stream",
     "text": [
      "create new aarray\n",
      "create new aarray\n",
      "create new aarray\n",
      "create new aarray\n",
      "create new aarray\n",
      "create new aarray\n",
      "create new aarray\n",
      "create new aarray\n",
      "['F', 'G']\n",
      "Counter({'F': 1, 'G': 1})\n",
      "['F', 'E']\n",
      "Counter({'F': 1, 'E': 1})\n",
      "create new aarray\n",
      "['F', 'G']\n",
      "Counter({'F': 1, 'G': 1})\n",
      "['F', 'G']\n",
      "Counter({'F': 1, 'G': 1})\n",
      "['F', 'G']\n",
      "Counter({'F': 1, 'G': 1})\n",
      "['F', 'E']\n",
      "Counter({'F': 1, 'E': 1})\n",
      "['F', 'E']\n",
      "Counter({'F': 1, 'E': 1})\n"
     ]
    }
   ],
   "source": [
    "# creation of deck-feature using Series.apply(anon-func for row accessed given a column\n",
    "# first character of each element in each cabin str)\n",
    "# full_data['Deck'] = full_data['Cabin'].apply(lambda s: s[0] if pd.notnull(s) else 'M') \n",
    "# this can be checked by calling print inside of the apply to observe the behavior\n",
    "\n",
    "# this is tehcnically a faulty approach \n",
    "# because certain instances have multiple DIFFERENT cabin labels pertaining to one instance\n",
    "# this can be fixed by writing an algo using a regex or a func that iterates through each instance\n",
    "# splits them up followed by a check for the map of \n",
    "for i, row in full_data.iterrows():\n",
    "    deck_str = row[\"Cabin\"]\n",
    "    # verify value is not null \n",
    "    if not pd.notnull(deck_str):\n",
    "        deck_str = \"M\" # M denoting missing\n",
    "        cabin = [deck_str]\n",
    "    else:\n",
    "        cabins = re.findall(regex,deck_str)\n",
    "    # more than one cabin occupied\n",
    "#     if len(Deck_list) > 1:\n",
    "#         print(deck_str)\n",
    "#         print(Deck_list)\n",
    "    cabins = re.findall(regex,deck_str)\n",
    "    deck_count = Counter(cabins)\n",
    "    if deck_str != \"M\" and len(deck_count.keys()) > 1: # DEBUG\n",
    "        print(cabins)\n",
    "        print(deck_count)\n",
    "    for k in deck_count.keys():\n",
    "        # initialized case\n",
    "        if \"Deck_{}\".format(k) in full_data.columns:\n",
    "        # assign value for the row at the particular instance\n",
    "            full_data.loc[i,\"Deck_{}\".format(k)] = deck_count[k]\n",
    "        # uninitializated case\n",
    "        else:\n",
    "            print(\"create new aarray\")\n",
    "            # create new np.array for feature\n",
    "            full_data[\"Deck_{}\".format(k)] = np.zeros(len(full_data))\n",
    "            # assign value for feature at a particular row\n",
    "            full_data.loc[i,\"Deck_{}\".format(k)] = deck_count[k]\n",
    "        if \"Deck\" in full_data.columns:\n",
    "            full_data.loc[i,\"Deck\"] = \"\".join(cabins)\n",
    "        else:\n",
    "            full_data[\"Deck\"] = np.zeros(len(full_data))\n",
    "            full_data.loc[i,\"Deck\"] = \"\".join(cabins)\n",
    "            \n",
    "    # create a Deck_{room} feature for each instance...? or new feature...? ie if Deck_F does not exist create it for the length\n",
    "    # of the rows and tally the number occupied for the row instance..? at the particular row index...?\n",
    "    # the sum of Deck_M is the sum of all miniumum cabins missing ie 1 cabin per row instance at the minimum, minimum because\n",
    "    # some instances have more than 1 cabin"
   ]
  },
  {
   "cell_type": "code",
   "execution_count": 47,
   "metadata": {},
   "outputs": [
    {
     "data": {
      "text/html": [
       "<div>\n",
       "<style scoped>\n",
       "    .dataframe tbody tr th:only-of-type {\n",
       "        vertical-align: middle;\n",
       "    }\n",
       "\n",
       "    .dataframe tbody tr th {\n",
       "        vertical-align: top;\n",
       "    }\n",
       "\n",
       "    .dataframe thead th {\n",
       "        text-align: right;\n",
       "    }\n",
       "</style>\n",
       "<table border=\"1\" class=\"dataframe\">\n",
       "  <thead>\n",
       "    <tr style=\"text-align: right;\">\n",
       "      <th></th>\n",
       "      <th>Survived</th>\n",
       "      <th>Pclass</th>\n",
       "      <th>Name</th>\n",
       "      <th>Sex</th>\n",
       "      <th>Age</th>\n",
       "      <th>SibSp</th>\n",
       "      <th>Parch</th>\n",
       "      <th>Ticket</th>\n",
       "      <th>Fare</th>\n",
       "      <th>Cabin</th>\n",
       "      <th>Embarked</th>\n",
       "      <th>PassengerId</th>\n",
       "      <th>Deck_M</th>\n",
       "      <th>Deck</th>\n",
       "      <th>Deck_C</th>\n",
       "      <th>Deck_E</th>\n",
       "      <th>Deck_G</th>\n",
       "      <th>Deck_D</th>\n",
       "      <th>Deck_A</th>\n",
       "      <th>Deck_B</th>\n",
       "      <th>Deck_F</th>\n",
       "      <th>Deck_T</th>\n",
       "    </tr>\n",
       "  </thead>\n",
       "  <tbody>\n",
       "    <tr>\n",
       "      <th>306</th>\n",
       "      <td>1.0</td>\n",
       "      <td>1</td>\n",
       "      <td>Ryerson, Miss. Emily Borie</td>\n",
       "      <td>1</td>\n",
       "      <td>18.0</td>\n",
       "      <td>2</td>\n",
       "      <td>2</td>\n",
       "      <td>PC 17608</td>\n",
       "      <td>262.375</td>\n",
       "      <td>B57 B59 B63 B66</td>\n",
       "      <td>C</td>\n",
       "      <td>312</td>\n",
       "      <td>0.0</td>\n",
       "      <td>BBBB</td>\n",
       "      <td>0.0</td>\n",
       "      <td>0.0</td>\n",
       "      <td>0.0</td>\n",
       "      <td>0.0</td>\n",
       "      <td>0.0</td>\n",
       "      <td>4.0</td>\n",
       "      <td>0.0</td>\n",
       "      <td>0.0</td>\n",
       "    </tr>\n",
       "    <tr>\n",
       "      <th>735</th>\n",
       "      <td>1.0</td>\n",
       "      <td>1</td>\n",
       "      <td>Ryerson, Miss. Susan Parker \"Suzette\"</td>\n",
       "      <td>1</td>\n",
       "      <td>21.0</td>\n",
       "      <td>2</td>\n",
       "      <td>2</td>\n",
       "      <td>PC 17608</td>\n",
       "      <td>262.375</td>\n",
       "      <td>B57 B59 B63 B66</td>\n",
       "      <td>C</td>\n",
       "      <td>743</td>\n",
       "      <td>0.0</td>\n",
       "      <td>BBBB</td>\n",
       "      <td>0.0</td>\n",
       "      <td>0.0</td>\n",
       "      <td>0.0</td>\n",
       "      <td>0.0</td>\n",
       "      <td>0.0</td>\n",
       "      <td>4.0</td>\n",
       "      <td>0.0</td>\n",
       "      <td>0.0</td>\n",
       "    </tr>\n",
       "    <tr>\n",
       "      <th>905</th>\n",
       "      <td>NaN</td>\n",
       "      <td>1</td>\n",
       "      <td>Ryerson, Mrs. Arthur Larned (Emily Maria Borie)</td>\n",
       "      <td>1</td>\n",
       "      <td>48.0</td>\n",
       "      <td>1</td>\n",
       "      <td>3</td>\n",
       "      <td>PC 17608</td>\n",
       "      <td>262.375</td>\n",
       "      <td>B57 B59 B63 B66</td>\n",
       "      <td>C</td>\n",
       "      <td>916</td>\n",
       "      <td>0.0</td>\n",
       "      <td>BBBB</td>\n",
       "      <td>0.0</td>\n",
       "      <td>0.0</td>\n",
       "      <td>0.0</td>\n",
       "      <td>0.0</td>\n",
       "      <td>0.0</td>\n",
       "      <td>4.0</td>\n",
       "      <td>0.0</td>\n",
       "      <td>0.0</td>\n",
       "    </tr>\n",
       "    <tr>\n",
       "      <th>945</th>\n",
       "      <td>NaN</td>\n",
       "      <td>1</td>\n",
       "      <td>Ryerson, Master. John Borie</td>\n",
       "      <td>0</td>\n",
       "      <td>13.0</td>\n",
       "      <td>2</td>\n",
       "      <td>2</td>\n",
       "      <td>PC 17608</td>\n",
       "      <td>262.375</td>\n",
       "      <td>B57 B59 B63 B66</td>\n",
       "      <td>C</td>\n",
       "      <td>956</td>\n",
       "      <td>0.0</td>\n",
       "      <td>BBBB</td>\n",
       "      <td>0.0</td>\n",
       "      <td>0.0</td>\n",
       "      <td>0.0</td>\n",
       "      <td>0.0</td>\n",
       "      <td>0.0</td>\n",
       "      <td>4.0</td>\n",
       "      <td>0.0</td>\n",
       "      <td>0.0</td>\n",
       "    </tr>\n",
       "    <tr>\n",
       "      <th>1023</th>\n",
       "      <td>NaN</td>\n",
       "      <td>1</td>\n",
       "      <td>Ryerson, Mr. Arthur Larned</td>\n",
       "      <td>0</td>\n",
       "      <td>61.0</td>\n",
       "      <td>1</td>\n",
       "      <td>3</td>\n",
       "      <td>PC 17608</td>\n",
       "      <td>262.375</td>\n",
       "      <td>B57 B59 B63 B66</td>\n",
       "      <td>C</td>\n",
       "      <td>1034</td>\n",
       "      <td>0.0</td>\n",
       "      <td>BBBB</td>\n",
       "      <td>0.0</td>\n",
       "      <td>0.0</td>\n",
       "      <td>0.0</td>\n",
       "      <td>0.0</td>\n",
       "      <td>0.0</td>\n",
       "      <td>4.0</td>\n",
       "      <td>0.0</td>\n",
       "      <td>0.0</td>\n",
       "    </tr>\n",
       "  </tbody>\n",
       "</table>\n",
       "</div>"
      ],
      "text/plain": [
       "      Survived  Pclass                                             Name  Sex  \\\n",
       "306        1.0       1                       Ryerson, Miss. Emily Borie    1   \n",
       "735        1.0       1            Ryerson, Miss. Susan Parker \"Suzette\"    1   \n",
       "905        NaN       1  Ryerson, Mrs. Arthur Larned (Emily Maria Borie)    1   \n",
       "945        NaN       1                      Ryerson, Master. John Borie    0   \n",
       "1023       NaN       1                       Ryerson, Mr. Arthur Larned    0   \n",
       "\n",
       "       Age  SibSp  Parch    Ticket     Fare            Cabin Embarked  \\\n",
       "306   18.0      2      2  PC 17608  262.375  B57 B59 B63 B66        C   \n",
       "735   21.0      2      2  PC 17608  262.375  B57 B59 B63 B66        C   \n",
       "905   48.0      1      3  PC 17608  262.375  B57 B59 B63 B66        C   \n",
       "945   13.0      2      2  PC 17608  262.375  B57 B59 B63 B66        C   \n",
       "1023  61.0      1      3  PC 17608  262.375  B57 B59 B63 B66        C   \n",
       "\n",
       "      PassengerId  Deck_M  Deck  Deck_C  Deck_E  Deck_G  Deck_D  Deck_A  \\\n",
       "306           312     0.0  BBBB     0.0     0.0     0.0     0.0     0.0   \n",
       "735           743     0.0  BBBB     0.0     0.0     0.0     0.0     0.0   \n",
       "905           916     0.0  BBBB     0.0     0.0     0.0     0.0     0.0   \n",
       "945           956     0.0  BBBB     0.0     0.0     0.0     0.0     0.0   \n",
       "1023         1034     0.0  BBBB     0.0     0.0     0.0     0.0     0.0   \n",
       "\n",
       "      Deck_B  Deck_F  Deck_T  \n",
       "306      4.0     0.0     0.0  \n",
       "735      4.0     0.0     0.0  \n",
       "905      4.0     0.0     0.0  \n",
       "945      4.0     0.0     0.0  \n",
       "1023     4.0     0.0     0.0  "
      ]
     },
     "execution_count": 47,
     "metadata": {},
     "output_type": "execute_result"
    }
   ],
   "source": [
    "full_data[full_data[\"Deck\"] == \"BBBB\"]"
   ]
  },
  {
   "cell_type": "code",
   "execution_count": 48,
   "metadata": {},
   "outputs": [
    {
     "data": {
      "text/html": [
       "<div>\n",
       "<style scoped>\n",
       "    .dataframe tbody tr th:only-of-type {\n",
       "        vertical-align: middle;\n",
       "    }\n",
       "\n",
       "    .dataframe tbody tr th {\n",
       "        vertical-align: top;\n",
       "    }\n",
       "\n",
       "    .dataframe thead tr th {\n",
       "        text-align: left;\n",
       "    }\n",
       "</style>\n",
       "<table border=\"1\" class=\"dataframe\">\n",
       "  <thead>\n",
       "    <tr>\n",
       "      <th>Deck</th>\n",
       "      <th>A</th>\n",
       "      <th>B</th>\n",
       "      <th>BB</th>\n",
       "      <th>BBB</th>\n",
       "      <th>BBBB</th>\n",
       "      <th>C</th>\n",
       "      <th>CC</th>\n",
       "      <th>CCC</th>\n",
       "      <th colspan=\"2\" halign=\"left\">D</th>\n",
       "      <th>DD</th>\n",
       "      <th colspan=\"3\" halign=\"left\">E</th>\n",
       "      <th>EE</th>\n",
       "      <th colspan=\"2\" halign=\"left\">F</th>\n",
       "      <th>FE</th>\n",
       "      <th>FG</th>\n",
       "      <th>G</th>\n",
       "      <th colspan=\"3\" halign=\"left\">M</th>\n",
       "      <th>T</th>\n",
       "    </tr>\n",
       "    <tr>\n",
       "      <th>Pclass</th>\n",
       "      <th>1</th>\n",
       "      <th>1</th>\n",
       "      <th>1</th>\n",
       "      <th>1</th>\n",
       "      <th>1</th>\n",
       "      <th>1</th>\n",
       "      <th>1</th>\n",
       "      <th>1</th>\n",
       "      <th>1</th>\n",
       "      <th>2</th>\n",
       "      <th>1</th>\n",
       "      <th>1</th>\n",
       "      <th>2</th>\n",
       "      <th>3</th>\n",
       "      <th>1</th>\n",
       "      <th>2</th>\n",
       "      <th>3</th>\n",
       "      <th>3</th>\n",
       "      <th>3</th>\n",
       "      <th>3</th>\n",
       "      <th>1</th>\n",
       "      <th>2</th>\n",
       "      <th>3</th>\n",
       "      <th>1</th>\n",
       "    </tr>\n",
       "  </thead>\n",
       "  <tbody>\n",
       "    <tr>\n",
       "      <th>Count</th>\n",
       "      <td>22</td>\n",
       "      <td>48</td>\n",
       "      <td>8</td>\n",
       "      <td>4</td>\n",
       "      <td>5</td>\n",
       "      <td>80</td>\n",
       "      <td>8</td>\n",
       "      <td>3</td>\n",
       "      <td>38</td>\n",
       "      <td>6</td>\n",
       "      <td>2</td>\n",
       "      <td>33</td>\n",
       "      <td>4</td>\n",
       "      <td>3</td>\n",
       "      <td>1</td>\n",
       "      <td>13</td>\n",
       "      <td>1</td>\n",
       "      <td>3</td>\n",
       "      <td>4</td>\n",
       "      <td>5</td>\n",
       "      <td>67</td>\n",
       "      <td>254</td>\n",
       "      <td>686</td>\n",
       "      <td>1</td>\n",
       "    </tr>\n",
       "  </tbody>\n",
       "</table>\n",
       "</div>"
      ],
      "text/plain": [
       "Deck     A   B BB BBB BBBB   C CC CCC   D    DD   E       EE   F    FE FG  G  \\\n",
       "Pclass   1   1  1   1    1   1  1   1   1  2  1   1  2  3  1   2  3  3  3  3   \n",
       "Count   22  48  8   4    5  80  8   3  38  6  2  33  4  3  1  13  1  3  4  5   \n",
       "\n",
       "Deck     M            T  \n",
       "Pclass   1    2    3  1  \n",
       "Count   67  254  686  1  "
      ]
     },
     "execution_count": 48,
     "metadata": {},
     "output_type": "execute_result"
    }
   ],
   "source": [
    "df_all_decks = full_data.groupby(['Deck','Pclass']).count().drop(\n",
    "    columns=['Survived', 'Sex', 'Age', 'SibSp', 'Parch', 'Cabin',\n",
    "             'Fare', 'Embarked', 'PassengerId', 'Ticket'] + \n",
    "            [c for c in full_data.columns.to_list() if \"Deck_\" in c]\n",
    "    ).rename(columns={'Name': 'Count'}).transpose()\n",
    "\n",
    "df_all_decks"
   ]
  },
  {
   "cell_type": "markdown",
   "metadata": {},
   "source": [
    "* How does one reduce the feature value for the Deck column from a series of chars (Ex. BBBB) to B WHILE maintaining the count of the number of cabins booked? Does the number of cabins books matter in terms of the problem? Considering that the cabins denote the section -- \"level\" that passengers were assigned, passengers assigned \"BBBB\" would all exist on the \"B\" level. This assumption that a passenger given a deck location resolves the issue because there is no uniqueness in terms of ship location if a passenger booked a single \"B\" cabin or multiple \"BBBB\" cabins. \n",
    "* How does one handle the multiple DIFFERENT cabin label situation? Does one simply duplicate the row instance and assign a single \"Deck\" value for each new instance? What other features should be accounted for? How much does it matter that we account for multiple unique cabins pertaining to a passenger instance?\n",
    "* Approach 03/04/21:\n",
    "    - [x] Run with the current configuration where unique decks are allowed even if they include duplicates OR differing labels\n",
    "    - [ ] Run with the reference notebook's approach\n",
    "    - [ ] Run with an approach that consolidates decks containing multiple of the same cabin label to one single label AND generate new row instances for cabins that have multiple different cabin labels (Ex. FE results in 2 instances $x_1(deck_1=F,...,feat_i^j), x_2(deck_2=E,..., feat_i^j)$)"
   ]
  },
  {
   "cell_type": "code",
   "execution_count": 54,
   "metadata": {},
   "outputs": [],
   "source": [
    "deck_keys = list(full_data.Deck.unique())"
   ]
  },
  {
   "cell_type": "code",
   "execution_count": 66,
   "metadata": {},
   "outputs": [
    {
     "ename": "AttributeError",
     "evalue": "'DataFrame' object has no attribute 'sort'",
     "output_type": "error",
     "traceback": [
      "\u001b[1;31m---------------------------------------------------------------------------\u001b[0m",
      "\u001b[1;31mAttributeError\u001b[0m                            Traceback (most recent call last)",
      "\u001b[1;32m<ipython-input-66-dd278eac71bc>\u001b[0m in \u001b[0;36m<module>\u001b[1;34m\u001b[0m\n\u001b[0;32m     54\u001b[0m \u001b[1;33m\u001b[0m\u001b[0m\n\u001b[0;32m     55\u001b[0m \u001b[0mall_deck_count\u001b[0m\u001b[1;33m,\u001b[0m \u001b[0mall_deck_per\u001b[0m \u001b[1;33m=\u001b[0m \u001b[0mget_pclass_dist\u001b[0m\u001b[1;33m(\u001b[0m\u001b[0mdf_all_decks\u001b[0m\u001b[1;33m)\u001b[0m\u001b[1;33m\u001b[0m\u001b[1;33m\u001b[0m\u001b[0m\n\u001b[1;32m---> 56\u001b[1;33m \u001b[0mdisplay_pclass_dist\u001b[0m\u001b[1;33m(\u001b[0m\u001b[0mall_deck_per\u001b[0m\u001b[1;33m)\u001b[0m\u001b[1;33m\u001b[0m\u001b[1;33m\u001b[0m\u001b[0m\n\u001b[0m\u001b[0;32m     57\u001b[0m \u001b[0mprint\u001b[0m\u001b[1;33m(\u001b[0m\u001b[0mall_deck_per\u001b[0m\u001b[1;33m[\u001b[0m\u001b[1;34m\"A\"\u001b[0m\u001b[1;33m]\u001b[0m\u001b[1;33m)\u001b[0m\u001b[1;33m\u001b[0m\u001b[1;33m\u001b[0m\u001b[0m\n",
      "\u001b[1;32m<ipython-input-66-dd278eac71bc>\u001b[0m in \u001b[0;36mdisplay_pclass_dist\u001b[1;34m(percentages)\u001b[0m\n\u001b[0;32m     24\u001b[0m     \u001b[0mReference\u001b[0m\u001b[1;33m:\u001b[0m \u001b[0mhttps\u001b[0m\u001b[1;33m:\u001b[0m\u001b[1;33m//\u001b[0m\u001b[0mwww\u001b[0m\u001b[1;33m.\u001b[0m\u001b[0mkaggle\u001b[0m\u001b[1;33m.\u001b[0m\u001b[0mcom\u001b[0m\u001b[1;33m/\u001b[0m\u001b[0mgunesevitan\u001b[0m\u001b[1;33m/\u001b[0m\u001b[0mtitanic\u001b[0m\u001b[1;33m-\u001b[0m\u001b[0madvanced\u001b[0m\u001b[1;33m-\u001b[0m\u001b[0mfeature\u001b[0m\u001b[1;33m-\u001b[0m\u001b[0mengineering\u001b[0m\u001b[1;33m-\u001b[0m\u001b[0mtutorial\u001b[0m\u001b[1;33m\u001b[0m\u001b[1;33m\u001b[0m\u001b[0m\n\u001b[0;32m     25\u001b[0m     \"\"\"\n\u001b[1;32m---> 26\u001b[1;33m     \u001b[0mdf_percentages\u001b[0m \u001b[1;33m=\u001b[0m \u001b[0mpd\u001b[0m\u001b[1;33m.\u001b[0m\u001b[0mDataFrame\u001b[0m\u001b[1;33m(\u001b[0m\u001b[0mpercentages\u001b[0m\u001b[1;33m)\u001b[0m\u001b[1;33m.\u001b[0m\u001b[0mtranspose\u001b[0m\u001b[1;33m(\u001b[0m\u001b[1;33m)\u001b[0m\u001b[1;33m.\u001b[0m\u001b[0msort\u001b[0m\u001b[1;33m(\u001b[0m\u001b[0mby\u001b[0m\u001b[1;33m=\u001b[0m\u001b[1;34m\"index\"\u001b[0m\u001b[1;33m)\u001b[0m\u001b[1;33m\u001b[0m\u001b[1;33m\u001b[0m\u001b[0m\n\u001b[0m\u001b[0;32m     27\u001b[0m     \u001b[0mprint\u001b[0m\u001b[1;33m(\u001b[0m\u001b[0mdf_percentages\u001b[0m\u001b[1;33m[\u001b[0m\u001b[0mdf_percentages\u001b[0m\u001b[1;33m.\u001b[0m\u001b[0mindex\u001b[0m \u001b[1;33m==\u001b[0m \u001b[1;34m\"A\"\u001b[0m\u001b[1;33m]\u001b[0m\u001b[1;33m)\u001b[0m\u001b[1;33m\u001b[0m\u001b[1;33m\u001b[0m\u001b[0m\n\u001b[0;32m     28\u001b[0m     \u001b[0mdeck_names\u001b[0m \u001b[1;33m=\u001b[0m \u001b[0msorted\u001b[0m\u001b[1;33m(\u001b[0m\u001b[0mfull_data\u001b[0m\u001b[1;33m.\u001b[0m\u001b[0mDeck\u001b[0m\u001b[1;33m.\u001b[0m\u001b[0munique\u001b[0m\u001b[1;33m(\u001b[0m\u001b[1;33m)\u001b[0m\u001b[1;33m)\u001b[0m\u001b[1;33m\u001b[0m\u001b[1;33m\u001b[0m\u001b[0m\n",
      "\u001b[1;32m~\\AppData\\Roaming\\Python\\Python38\\site-packages\\pandas\\core\\generic.py\u001b[0m in \u001b[0;36m__getattr__\u001b[1;34m(self, name)\u001b[0m\n\u001b[0;32m   5460\u001b[0m             \u001b[1;32mif\u001b[0m \u001b[0mself\u001b[0m\u001b[1;33m.\u001b[0m\u001b[0m_info_axis\u001b[0m\u001b[1;33m.\u001b[0m\u001b[0m_can_hold_identifiers_and_holds_name\u001b[0m\u001b[1;33m(\u001b[0m\u001b[0mname\u001b[0m\u001b[1;33m)\u001b[0m\u001b[1;33m:\u001b[0m\u001b[1;33m\u001b[0m\u001b[1;33m\u001b[0m\u001b[0m\n\u001b[0;32m   5461\u001b[0m                 \u001b[1;32mreturn\u001b[0m \u001b[0mself\u001b[0m\u001b[1;33m[\u001b[0m\u001b[0mname\u001b[0m\u001b[1;33m]\u001b[0m\u001b[1;33m\u001b[0m\u001b[1;33m\u001b[0m\u001b[0m\n\u001b[1;32m-> 5462\u001b[1;33m             \u001b[1;32mreturn\u001b[0m \u001b[0mobject\u001b[0m\u001b[1;33m.\u001b[0m\u001b[0m__getattribute__\u001b[0m\u001b[1;33m(\u001b[0m\u001b[0mself\u001b[0m\u001b[1;33m,\u001b[0m \u001b[0mname\u001b[0m\u001b[1;33m)\u001b[0m\u001b[1;33m\u001b[0m\u001b[1;33m\u001b[0m\u001b[0m\n\u001b[0m\u001b[0;32m   5463\u001b[0m \u001b[1;33m\u001b[0m\u001b[0m\n\u001b[0;32m   5464\u001b[0m     \u001b[1;32mdef\u001b[0m \u001b[0m__setattr__\u001b[0m\u001b[1;33m(\u001b[0m\u001b[0mself\u001b[0m\u001b[1;33m,\u001b[0m \u001b[0mname\u001b[0m\u001b[1;33m:\u001b[0m \u001b[0mstr\u001b[0m\u001b[1;33m,\u001b[0m \u001b[0mvalue\u001b[0m\u001b[1;33m)\u001b[0m \u001b[1;33m->\u001b[0m \u001b[1;32mNone\u001b[0m\u001b[1;33m:\u001b[0m\u001b[1;33m\u001b[0m\u001b[1;33m\u001b[0m\u001b[0m\n",
      "\u001b[1;31mAttributeError\u001b[0m: 'DataFrame' object has no attribute 'sort'"
     ]
    }
   ],
   "source": [
    "def get_pclass_dist(df):\n",
    "    \"\"\"\n",
    "    Reference: https://www.kaggle.com/gunesevitan/titanic-advanced-feature-engineering-tutorial\n",
    "    \"\"\"\n",
    "    # Creating a dictionary for every passenger class count in every deck\n",
    "    deck_counts = {k: {} for k in deck_keys}\n",
    "    decks = df.columns.levels[0]    \n",
    "    for deck in decks:\n",
    "        for pclass in range(1, 4):\n",
    "            try:\n",
    "                count = df[deck][pclass][0]\n",
    "                deck_counts[deck][pclass] = count \n",
    "            except KeyError:\n",
    "                deck_counts[deck][pclass] = 0\n",
    "    df_decks = pd.DataFrame(deck_counts)    \n",
    "    deck_percentages = {}\n",
    "    # Creating a dictionary for every passenger class percentage in every deck\n",
    "    for col in df_decks.columns:\n",
    "        deck_percentages[col] = [(count / df_decks[col].sum()) * 100 for count in df_decks[col]]\n",
    "    return deck_counts, deck_percentages\n",
    "\n",
    "def display_pclass_dist(percentages):\n",
    "    \"\"\"\n",
    "    Reference: https://www.kaggle.com/gunesevitan/titanic-advanced-feature-engineering-tutorial\n",
    "    \"\"\"\n",
    "    df_percentages = pd.DataFrame(percentages).transpose().sort_index(by=\"index)\n",
    "    print(df_percentages[df_percentages.index == \"A\"])\n",
    "    deck_names = sorted(full_data.Deck.unique())\n",
    "    print(deck_names)\n",
    "    bar_count = np.arange(len(deck_names))  \n",
    "    bar_width = 0.85\n",
    "    \n",
    "    pclass1 = df_percentages[0]\n",
    "    pclass2 = df_percentages[1]\n",
    "    pclass3 = df_percentages[2]\n",
    "    print(pclass1[0],pclass2[0],pclass3[0])\n",
    "    plt.figure(figsize=(20, 10))\n",
    "    plt.bar(bar_count, pclass1, \n",
    "            color='#b5ffb9', edgecolor='white', \n",
    "            width=bar_width, label='Passenger Class 1')\n",
    "#     plt.bar(bar_count, pclass2, bottom=pclass1, color='#f9bc86', edgecolor='white', width=bar_width, label='Passenger Class 2')\n",
    "#     plt.bar(bar_count, pclass3, bottom=pclass1 + pclass2, color='#a3acff', edgecolor='white', width=bar_width, label='Passenger Class 3')\n",
    "\n",
    "    plt.xlabel('Deck', size=15, labelpad=20)\n",
    "    plt.ylabel('Passenger Class Percentage', size=15, labelpad=20)\n",
    "    plt.xticks(bar_count, deck_names)    \n",
    "    plt.tick_params(axis='x', labelsize=15)\n",
    "    plt.tick_params(axis='y', labelsize=15)\n",
    "    \n",
    "    plt.legend(loc='upper left', bbox_to_anchor=(1, 1), prop={'size': 15})\n",
    "    plt.title('Passenger Class Distribution in Decks', size=18, y=1.05)   \n",
    "    \n",
    "    plt.show()    \n",
    "\n",
    "all_deck_count, all_deck_per = get_pclass_dist(df_all_decks)\n",
    "display_pclass_dist(all_deck_per)\n",
    "print(all_deck_per[\"A\"])"
   ]
  },
  {
   "cell_type": "code",
   "execution_count": 51,
   "metadata": {},
   "outputs": [],
   "source": [
    "# # Passenger in the T deck is changed to A\n",
    "# idx = full_data[full_data['Deck'] == 'T'].index\n",
    "# full_data.loc[idx, 'Deck'] = 'A'\n",
    "\n",
    "# full_data_decks_survived = full_data.groupby(['Deck', 'Survived']).count().drop(\n",
    "#     columns=['Sex', 'Age', 'SibSp', 'Parch', 'Fare', \n",
    "#     'Embarked', 'Pclass', 'Cabin', 'PassengerId', 'Ticket']).rename(columns={'Name':'Count'}).transpose()\n",
    "\n",
    "# def get_survived_dist(df):\n",
    "    \n",
    "#     # Creating a dictionary for every survival count in every deck\n",
    "#     surv_counts = {k: {} for k in full_data.Deck.unique()}\n",
    "#     decks = df.columns.levels[0]    \n",
    "\n",
    "#     for deck in decks:\n",
    "#         for survive in range(0, 2):\n",
    "#             surv_counts[deck][survive] = df[deck][survive][0]\n",
    "            \n",
    "#     df_surv = pd.DataFrame(surv_counts)\n",
    "#     surv_percentages = {}\n",
    "\n",
    "#     for col in df_surv.columns:\n",
    "#         surv_percentages[col] = [(count / df_surv[col].sum()) * 100 for count in df_surv[col]]\n",
    "        \n",
    "#     return surv_counts, surv_percentages\n",
    "\n",
    "# def display_surv_dist(percentages):\n",
    "    \n",
    "#     df_survived_percentages = pd.DataFrame(percentages).transpose()\n",
    "#     deck_names = sorted(full_data.Deck.unique())\n",
    "#     bar_count = np.arange(len(deck_names))  \n",
    "#     bar_width = 0.85    \n",
    "\n",
    "#     not_survived = df_survived_percentages[0]\n",
    "#     survived = df_survived_percentages[1]\n",
    "    \n",
    "#     plt.figure(figsize=(20, 10))\n",
    "#     plt.bar(bar_count, not_survived, color='#b5ffb9', edgecolor='white', width=bar_width, label=\"Not Survived\")\n",
    "#     plt.bar(bar_count, survived, bottom=not_survived, color='#f9bc86', edgecolor='white', width=bar_width, label=\"Survived\")\n",
    " \n",
    "#     plt.xlabel('Deck', size=15, labelpad=20)\n",
    "#     plt.ylabel('Survival Percentage', size=15, labelpad=20)\n",
    "#     plt.xticks(bar_count, deck_names)    \n",
    "#     plt.tick_params(axis='x', labelsize=15)\n",
    "#     plt.tick_params(axis='y', labelsize=15)\n",
    "    \n",
    "#     plt.legend(loc='upper left', bbox_to_anchor=(1, 1), prop={'size': 15})\n",
    "#     plt.title('Survival Percentage in Decks', size=18, y=1.05)\n",
    "    \n",
    "#     plt.show()\n",
    "\n",
    "# all_surv_count, all_surv_per = get_survived_dist(full_data_decks_survived)\n",
    "# display_surv_dist(all_surv_per)"
   ]
  },
  {
   "cell_type": "code",
   "execution_count": 52,
   "metadata": {},
   "outputs": [
    {
     "data": {
      "text/html": [
       "<div>\n",
       "<style scoped>\n",
       "    .dataframe tbody tr th:only-of-type {\n",
       "        vertical-align: middle;\n",
       "    }\n",
       "\n",
       "    .dataframe tbody tr th {\n",
       "        vertical-align: top;\n",
       "    }\n",
       "\n",
       "    .dataframe thead tr th {\n",
       "        text-align: left;\n",
       "    }\n",
       "</style>\n",
       "<table border=\"1\" class=\"dataframe\">\n",
       "  <thead>\n",
       "    <tr>\n",
       "      <th>Deck</th>\n",
       "      <th>A</th>\n",
       "      <th>B</th>\n",
       "      <th>BB</th>\n",
       "      <th>BBB</th>\n",
       "      <th>BBBB</th>\n",
       "      <th>C</th>\n",
       "      <th>CC</th>\n",
       "      <th>CCC</th>\n",
       "      <th colspan=\"2\" halign=\"left\">D</th>\n",
       "      <th>DD</th>\n",
       "      <th colspan=\"3\" halign=\"left\">E</th>\n",
       "      <th>EE</th>\n",
       "      <th colspan=\"2\" halign=\"left\">F</th>\n",
       "      <th>FE</th>\n",
       "      <th>FG</th>\n",
       "      <th>G</th>\n",
       "      <th colspan=\"3\" halign=\"left\">M</th>\n",
       "      <th>T</th>\n",
       "    </tr>\n",
       "    <tr>\n",
       "      <th>Pclass</th>\n",
       "      <th>1</th>\n",
       "      <th>1</th>\n",
       "      <th>1</th>\n",
       "      <th>1</th>\n",
       "      <th>1</th>\n",
       "      <th>1</th>\n",
       "      <th>1</th>\n",
       "      <th>1</th>\n",
       "      <th>1</th>\n",
       "      <th>2</th>\n",
       "      <th>1</th>\n",
       "      <th>1</th>\n",
       "      <th>2</th>\n",
       "      <th>3</th>\n",
       "      <th>1</th>\n",
       "      <th>2</th>\n",
       "      <th>3</th>\n",
       "      <th>3</th>\n",
       "      <th>3</th>\n",
       "      <th>3</th>\n",
       "      <th>1</th>\n",
       "      <th>2</th>\n",
       "      <th>3</th>\n",
       "      <th>1</th>\n",
       "    </tr>\n",
       "  </thead>\n",
       "  <tbody>\n",
       "    <tr>\n",
       "      <th>Count</th>\n",
       "      <td>22</td>\n",
       "      <td>48</td>\n",
       "      <td>8</td>\n",
       "      <td>4</td>\n",
       "      <td>5</td>\n",
       "      <td>80</td>\n",
       "      <td>8</td>\n",
       "      <td>3</td>\n",
       "      <td>38</td>\n",
       "      <td>6</td>\n",
       "      <td>2</td>\n",
       "      <td>33</td>\n",
       "      <td>4</td>\n",
       "      <td>3</td>\n",
       "      <td>1</td>\n",
       "      <td>13</td>\n",
       "      <td>1</td>\n",
       "      <td>3</td>\n",
       "      <td>4</td>\n",
       "      <td>5</td>\n",
       "      <td>67</td>\n",
       "      <td>254</td>\n",
       "      <td>686</td>\n",
       "      <td>1</td>\n",
       "    </tr>\n",
       "  </tbody>\n",
       "</table>\n",
       "</div>"
      ],
      "text/plain": [
       "Deck     A   B BB BBB BBBB   C CC CCC   D    DD   E       EE   F    FE FG  G  \\\n",
       "Pclass   1   1  1   1    1   1  1   1   1  2  1   1  2  3  1   2  3  3  3  3   \n",
       "Count   22  48  8   4    5  80  8   3  38  6  2  33  4  3  1  13  1  3  4  5   \n",
       "\n",
       "Deck     M            T  \n",
       "Pclass   1    2    3  1  \n",
       "Count   67  254  686  1  "
      ]
     },
     "execution_count": 52,
     "metadata": {},
     "output_type": "execute_result"
    }
   ],
   "source": [
    "df_all_decks = full_data.groupby(['Deck','Pclass']).count().drop(\n",
    "    columns=['Survived', 'Sex', 'Age', 'SibSp', 'Parch', 'Cabin',\n",
    "             'Fare', 'Embarked', 'PassengerId', 'Ticket'] + \n",
    "            [c for c in full_data.columns.to_list() if \"Deck_\" in c]\n",
    "    ).rename(columns={'Name': 'Count'}).transpose()\n",
    "\n",
    "df_all_decks"
   ]
  },
  {
   "cell_type": "markdown",
   "metadata": {},
   "source": [
    "Upon deeper inspection, we can see that cabins A,B & C all contain 1st class passengers."
   ]
  }
 ],
 "metadata": {
  "kernelspec": {
   "display_name": "Python 3",
   "language": "python",
   "name": "python3"
  },
  "language_info": {
   "codemirror_mode": {
    "name": "ipython",
    "version": 3
   },
   "file_extension": ".py",
   "mimetype": "text/x-python",
   "name": "python",
   "nbconvert_exporter": "python",
   "pygments_lexer": "ipython3",
   "version": "3.8.5"
  }
 },
 "nbformat": 4,
 "nbformat_minor": 4
}
